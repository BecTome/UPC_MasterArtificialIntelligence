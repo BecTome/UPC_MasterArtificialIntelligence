{
 "cells": [
  {
   "cell_type": "markdown",
   "metadata": {},
   "source": [
    "## Policy Evaluation\n",
    "\n",
    "Let's try to evaluate a policy using exact algebraic method and Value iteration method.\n",
    "\n",
    "The world and the policy are the following:\n",
    "\n",
    "<img src=\"http://www.cs.upc.edu/~mmartin/Grid+world.jpg\" width=\"350\">"
   ]
  },
  {
   "cell_type": "markdown",
   "metadata": {},
   "source": [
    "# 0. Defining the environment\n",
    "## - Kind of states\n",
    "Define state matrix for each cell: 1 means terminal state, 0 means normal state, -1 means impossible state"
   ]
  },
  {
   "cell_type": "code",
   "execution_count": 18,
   "metadata": {},
   "outputs": [
    {
     "name": "stdout",
     "output_type": "stream",
     "text": [
      "State Matrix:\n",
      "[[ 0.  0.  0.  1.]\n",
      " [ 0. -1.  0.  1.]\n",
      " [ 0.  0.  0.  0.]]\n"
     ]
    }
   ],
   "source": [
    "import numpy as np\n",
    "import matplotlib.pyplot as plt\n",
    "\n",
    "#Define the state matrix\n",
    "state_matrix = np.zeros((3,4))\n",
    "state_matrix[0, 3] = 1\n",
    "state_matrix[1, 3] = 1\n",
    "state_matrix[1, 1] = -1\n",
    "print(\"State Matrix:\")\n",
    "print(state_matrix)\n"
   ]
  },
  {
   "cell_type": "markdown",
   "metadata": {},
   "source": [
    "## - Reward function\n",
    "Define reward matrix for each cell: All states -0.4, except for terminal states. Reward for corner terminal state is 1, for the other terminal state -1."
   ]
  },
  {
   "cell_type": "code",
   "execution_count": 19,
   "metadata": {},
   "outputs": [
    {
     "name": "stdout",
     "output_type": "stream",
     "text": [
      "Reward Matrix:\n",
      "[[-0.04 -0.04 -0.04  1.  ]\n",
      " [-0.04 -0.04 -0.04 -1.  ]\n",
      " [-0.04 -0.04 -0.04 -0.04]]\n"
     ]
    },
    {
     "data": {
      "image/png": "[encoded data removed]",
      "text/plain": [
       "<Figure size 400x300 with 1 Axes>"
      ]
     },
     "metadata": {},
     "output_type": "display_data"
    }
   ],
   "source": [
    "#Define the reward matrix\n",
    "reward_matrix = np.full((3,4), -0.04)\n",
    "reward_matrix[0, 3] = 1\n",
    "reward_matrix[1, 3] = -1\n",
    "print(\"Reward Matrix:\")\n",
    "print(reward_matrix)\n",
    "plt.matshow(reward_matrix,extent=[0, 4, 0, 3])\n",
    "plt.grid()\n",
    "plt.show()"
   ]
  },
  {
   "cell_type": "markdown",
   "metadata": {},
   "source": [
    "## - Definition of the policy and how to pretty-print it. \n",
    "Each action is represented by a number in the policy matrix. Action (Up) is represented by 0, (Rigth) by 1, (Down) by 2 and, finally, (Left) by 3. "
   ]
  },
  {
   "cell_type": "code",
   "execution_count": 20,
   "metadata": {},
   "outputs": [
    {
     "data": {
      "image/png": "[encoded data removed]",
      "text/plain": [
       "<Figure size 400x300 with 1 Axes>"
      ]
     },
     "metadata": {},
     "output_type": "display_data"
    }
   ],
   "source": [
    "policy_matrix = np.array([[1,      1,  1,  -1],\n",
    "                          [0, np.NaN,  0,  -1],\n",
    "                          [0,      3,  3,   3]])\n",
    "\n",
    "# Don't care about this function. Only prints the policy matrix\n",
    "def print_policy(policy_matrix2, V=np.array([]),lstates=[]):\n",
    "    \"\"\" Policy_matrix: is the policy to print\n",
    "        V: is a value function that we want to superpose with colors to the policy\n",
    "        lstates: is list of states to highligth if I want to stress something\n",
    "    \"\"\"\n",
    "    policy_matrix = policy_matrix2[::-1]\n",
    "    shape = policy_matrix.shape\n",
    "    U=np.zeros(policy_matrix.shape)\n",
    "    R=np.zeros(policy_matrix.shape)\n",
    "    for row in range(shape[0]):\n",
    "        for col in range(shape[1]):\n",
    "            if(policy_matrix[row,col] == -1): \n",
    "                U[row,col]=0    \n",
    "                R[row,col]=0  \n",
    "            elif(policy_matrix[row,col] == 0): \n",
    "                U[row,col]=0    \n",
    "                R[row,col]=1 \n",
    "                #policy_string += \" ^  \"\n",
    "            elif(policy_matrix[row,col] == 1): \n",
    "                U[row,col]=1   \n",
    "                R[row,col]=0 \n",
    "                #policy_string += \" >  \"\n",
    "            elif(policy_matrix[row,col] == 2): \n",
    "                U[row,col]=0    \n",
    "                R[row,col]=-1 \n",
    "                #policy_string += \" v  \"           \n",
    "            elif(policy_matrix[row,col] == 3):\n",
    "                U[row,col]=-1   \n",
    "                R[row,col]=0                 \n",
    "                #policy_string += \" <  \"\n",
    "            elif(np.isnan(policy_matrix[row,col])): \n",
    "                U[row,col]=0    \n",
    "                R[row,col]=0  \n",
    "                #policy_string += \" #  \"\n",
    "    plt.rcParams['figure.figsize'] = (4,3)\n",
    "    if V.size==0:\n",
    "        V=np.ones(policy_matrix.shape)\n",
    "        for x in lstates:\n",
    "            V[x.multi_index]=0.7\n",
    "        plt.matshow(V,extent=[0, 4, 0, 3],vmin=0, vmax=1)\n",
    "    else:\n",
    "        plt.matshow(V,extent=[0, 4, 0, 3])\n",
    "    plt.grid()\n",
    "    X, Y = np.meshgrid(np.arange(0.5, 4.5, 1), np.arange(0.5, 3.5, 1))\n",
    "    Q = plt.quiver(X, Y,U,R)\n",
    "\n",
    "    plt.show()\n",
    "\n",
    "print_policy(policy_matrix)"
   ]
  },
  {
   "cell_type": "markdown",
   "metadata": {},
   "source": [
    "## - Transition probabilities\n",
    "We will represent transition probabilities with a matrix where each row represent the action executed, and column represent the probability of going to one direction. Column 0 represents direction Up, Column 1 represents direction Right, Column 2 represents direction Down and Column 3 represents direction Left. "
   ]
  },
  {
   "cell_type": "code",
   "execution_count": 21,
   "metadata": {},
   "outputs": [],
   "source": [
    "transition_matrix = np.array([[0.8, 0.1, 0.0, 0.1],\n",
    "                              [0.1, 0.8, 0.1, 0.0],\n",
    "                              [0.0, 0.1, 0.8, 0.1],\n",
    "                              [0.1, 0.0, 0.1, 0.8]])\n"
   ]
  },
  {
   "cell_type": "code",
   "execution_count": 22,
   "metadata": {},
   "outputs": [],
   "source": [
    "# This is the declaration of the gamma for this problem\n",
    "gamma = 0.999\n"
   ]
  },
  {
   "cell_type": "markdown",
   "metadata": {},
   "source": [
    "## - Several auxiliar functions"
   ]
  },
  {
   "cell_type": "code",
   "execution_count": 23,
   "metadata": {},
   "outputs": [],
   "source": [
    "def prob_next_state(position,world_row=3,world_col=4):\n",
    "    \"\"\"\n",
    "    Given a position in the grid-world, returns a list of possible next states\n",
    "    SORTED by direction. Notice that when bumping with walls,\n",
    "    state in that direction remains the same. \n",
    "    \"\"\"\n",
    "    posible=[]\n",
    "    for action in range(4):\n",
    "        position_def = position\n",
    "        if(action == 0): new_position = (position[0]-1, position[1])   #UP\n",
    "        elif(action == 1): new_position = (position[0], position[1]+1) #RIGHT\n",
    "        elif(action == 2): new_position = (position[0]+1, position[1]) #DOWN\n",
    "        elif(action == 3): new_position = (position[0], position[1]-1) #LEFT\n",
    "        else: raise ValueError('The action is not included in the action space.')\n",
    "\n",
    "        #Check if the new position is a valid position\n",
    "        if (new_position[0]>=0 and new_position[0]<world_row):\n",
    "            if(new_position[1]>=0 and new_position[1]<world_col):\n",
    "                if(state_matrix[new_position[0], new_position[1]] != -1):\n",
    "                    position_def = new_position\n",
    "        posible.append(position_def)\n",
    "    return posible\n"
   ]
  },
  {
   "cell_type": "markdown",
   "metadata": {},
   "source": [
    "# 1- Solving the problem using algebraic method\n",
    "\n",
    "Remember:\n",
    "\n",
    "$$ V^\\pi = (I - \\gamma {\\kern 1pt}P^{\\pi} )^{-1} R $$\n",
    "\n",
    "First, find $P^{\\pi}$ and $R$ matrixes"
   ]
  },
  {
   "cell_type": "code",
   "execution_count": 24,
   "metadata": {},
   "outputs": [
    {
     "name": "stdout",
     "output_type": "stream",
     "text": [
      "State:  0.0 (0, 0)\n",
      "State:  0.0 (0, 1)\n",
      "State:  0.0 (0, 2)\n",
      "State:  1.0 (0, 3)\n",
      "State:  0.0 (1, 0)\n",
      "State:  -1.0 (1, 1)\n",
      "State:  0.0 (1, 2)\n",
      "State:  1.0 (1, 3)\n",
      "State:  0.0 (2, 0)\n",
      "State:  0.0 (2, 1)\n",
      "State:  0.0 (2, 2)\n",
      "State:  0.0 (2, 3)\n"
     ]
    }
   ],
   "source": [
    "P = np.zeros((state_matrix.shape[0]*state_matrix.shape[1],state_matrix.shape[0]*state_matrix.shape[1],))\n",
    "state = np.nditer(state_matrix, flags=['multi_index','f_index'])\n",
    "\n",
    "for s in state:\n",
    "    print(\"State: \", s, state.multi_index)"
   ]
  },
  {
   "cell_type": "code",
   "execution_count": 55,
   "metadata": {},
   "outputs": [],
   "source": [
    "def One_index(two_i, r=3, c=4):\n",
    "    return two_i[0]+two_i[1]*(c-1)\n",
    "\n",
    "def get_P_pi():\n",
    "    \"\"\" Return the matrix product of policy and transition probabilities\n",
    "    \"\"\"\n",
    "    P = np.zeros((state_matrix.shape[0]*state_matrix.shape[1],state_matrix.shape[0]*state_matrix.shape[1],))\n",
    "    state = np.nditer(state_matrix, flags=['multi_index','f_index'])\n",
    "    while not state.finished:\n",
    "        action = policy_matrix[state.multi_index]\n",
    "        if state[0]==0:\n",
    "            for x in zip(prob_next_state(state.multi_index),transition_matrix[int(action),:]):\n",
    "                P[state.index,One_index(x[0])] = P[state.index,One_index(x[0])]+x[1]\n",
    "        else:\n",
    "            P[state.index] = np.zeros((1,state_matrix.shape[0]*state_matrix.shape[1])) \n",
    "        state.iternext()\n",
    "    return P\n",
    "\n",
    "def get_R():\n",
    "    \"\"\" Returns reward matrix in vector form with indices the same that matrix\n",
    "    \"\"\"\n",
    "    R = np.zeros((state_matrix.shape[0]*state_matrix.shape[1]))\n",
    "    state = np.nditer(state_matrix, flags=['multi_index','f_index'])\n",
    "    while not state.finished:\n",
    "        R[state.index]= reward_matrix[state.multi_index]\n",
    "        state.iternext() \n",
    "    return R\n",
    "\n",
    "P = get_P_pi() # n by n matrix (n is number of states) \n",
    "R = get_R()    # n by 1 matrix  \n"
   ]
  },
  {
   "cell_type": "code",
   "execution_count": null,
   "metadata": {},
   "outputs": [],
   "source": []
  },
  {
   "cell_type": "code",
   "execution_count": 56,
   "metadata": {},
   "outputs": [
    {
     "data": {
      "text/plain": [
       "array([-0.04, -0.04, -0.04, -0.04, -0.04, -0.04, -0.04, -0.04, -0.04,\n",
       "        1.  , -1.  , -0.04])"
      ]
     },
     "execution_count": 56,
     "metadata": {},
     "output_type": "execute_result"
    }
   ],
   "source": [
    "R"
   ]
  },
  {
   "cell_type": "code",
   "execution_count": 57,
   "metadata": {},
   "outputs": [
    {
     "data": {
      "text/plain": [
       "array([-0.04, -0.04, -0.04,  1.  , -0.04, -0.04, -0.04, -1.  , -0.04,\n",
       "       -0.04, -0.04, -0.04])"
      ]
     },
     "execution_count": 57,
     "metadata": {},
     "output_type": "execute_result"
    }
   ],
   "source": [
    "reward_matrix.flatten()"
   ]
  },
  {
   "cell_type": "markdown",
   "metadata": {},
   "source": [
    "And now apply the equation $ V^\\pi = (I - \\gamma {\\kern 1pt}P^{\\pi} )^{-1} R $"
   ]
  },
  {
   "cell_type": "code",
   "execution_count": 31,
   "metadata": {},
   "outputs": [
    {
     "data": {
      "text/plain": [
       "array([[ 0.,  0.,  0.,  1.],\n",
       "       [ 0., -1.,  0.,  1.],\n",
       "       [ 0.,  0.,  0.,  0.]])"
      ]
     },
     "execution_count": 31,
     "metadata": {},
     "output_type": "execute_result"
    }
   ],
   "source": [
    "state_matrix"
   ]
  },
  {
   "cell_type": "code",
   "execution_count": 32,
   "metadata": {},
   "outputs": [],
   "source": [
    "I=np.identity(state_matrix.shape[0]*state_matrix.shape[1]) # n by n Identity matrix \n",
    "V= np.matmul(np.matmul(np.linalg.inv(np.array(I-gamma*P)),P),R)\n"
   ]
  },
  {
   "cell_type": "code",
   "execution_count": 34,
   "metadata": {},
   "outputs": [
    {
     "data": {
      "text/plain": [
       "array([[0.1, 0.1, 0. , 0.8, 0. , 0. , 0. , 0. , 0. , 0. , 0. , 0. ],\n",
       "       [0.8, 0.2, 0. , 0. , 0. , 0. , 0. , 0. , 0. , 0. , 0. , 0. ],\n",
       "       [0. , 0.8, 0.1, 0. , 0. , 0.1, 0. , 0. , 0. , 0. , 0. , 0. ],\n",
       "       [0. , 0. , 0. , 0.2, 0. , 0. , 0.8, 0. , 0. , 0. , 0. , 0. ],\n",
       "       [0. , 0. , 0. , 0. , 0. , 0. , 0. , 0. , 0. , 0. , 0. , 0. ],\n",
       "       [0. , 0. , 0.8, 0. , 0. , 0.2, 0. , 0. , 0. , 0. , 0. , 0. ],\n",
       "       [0. , 0. , 0. , 0. , 0. , 0. , 0.1, 0.1, 0. , 0.8, 0. , 0. ],\n",
       "       [0. , 0. , 0. , 0. , 0. , 0. , 0.8, 0.1, 0. , 0. , 0.1, 0. ],\n",
       "       [0. , 0. , 0. , 0. , 0. , 0.8, 0. , 0.1, 0.1, 0. , 0. , 0. ],\n",
       "       [0. , 0. , 0. , 0. , 0. , 0. , 0. , 0. , 0. , 0. , 0. , 0. ],\n",
       "       [0. , 0. , 0. , 0. , 0. , 0. , 0. , 0. , 0. , 0. , 0. , 0. ],\n",
       "       [0. , 0. , 0. , 0. , 0. , 0. , 0. , 0. , 0.8, 0. , 0.1, 0.1]])"
      ]
     },
     "execution_count": 34,
     "metadata": {},
     "output_type": "execute_result"
    }
   ],
   "source": [
    "P"
   ]
  },
  {
   "cell_type": "code",
   "execution_count": 35,
   "metadata": {},
   "outputs": [
    {
     "data": {
      "text/plain": [
       "array([-0.04, -0.04, -0.04, -0.04, -0.04, -0.04, -0.04, -0.04, -0.04,\n",
       "        1.  , -1.  , -0.04])"
      ]
     },
     "execution_count": 35,
     "metadata": {},
     "output_type": "execute_result"
    }
   ],
   "source": [
    "R"
   ]
  },
  {
   "cell_type": "markdown",
   "metadata": {},
   "source": [
    "Some auxiliar functions to print the value matrix"
   ]
  },
  {
   "cell_type": "code",
   "execution_count": 28,
   "metadata": {},
   "outputs": [
    {
     "name": "stdout",
     "output_type": "stream",
     "text": [
      "0.8488 0.9063 0.9575 0.0 \n",
      "0.7978 0.0 0.6991 0.0 \n",
      "0.7404 0.6895 0.6454 0.4219 \n",
      "\n"
     ]
    },
    {
     "data": {
      "image/png": "[encoded data removed]",
      "text/plain": [
       "<Figure size 400x300 with 1 Axes>"
      ]
     },
     "metadata": {},
     "output_type": "display_data"
    }
   ],
   "source": [
    "def Print_V(world_row=3,world_col=4):\n",
    "    graph = \"\"\n",
    "    for row in range(world_row):\n",
    "        row_string = \"\"\n",
    "        for col in range(world_col):\n",
    "            row_string += str(round(V[One_index((row,col))],4))+' '\n",
    "        row_string += '\\n'\n",
    "        graph += row_string \n",
    "    print(graph) \n",
    "\n",
    "Print_V()\n",
    "\n",
    "def Return_V(world_row=3,world_col=4):\n",
    "    graph = []\n",
    "    for row in range(world_row):\n",
    "        row_l = []\n",
    "        for col in range(world_col):\n",
    "            row_l.append(V[One_index((row,col))])\n",
    "        graph.append(row_l)\n",
    "    return graph \n",
    "\n",
    "plt.matshow(Return_V(),extent=[0, 4, 0, 3])\n",
    "plt.grid()\n",
    "plt.show()\n",
    "\n",
    "V_exact = Return_V()"
   ]
  },
  {
   "cell_type": "markdown",
   "metadata": {},
   "source": [
    "# 2- Evaluating the policy using value iteration\n",
    "\n",
    "<img src=\"http://www.cs.upc.edu/~mmartin/VI.png\" width=\"550\">"
   ]
  },
  {
   "cell_type": "code",
   "execution_count": 29,
   "metadata": {},
   "outputs": [
    {
     "name": "stdout",
     "output_type": "stream",
     "text": [
      "[[0.84881224 0.90630541 0.95748948 0.        ]\n",
      " [0.79776395 0.         0.69906187 0.        ]\n",
      " [0.74042274 0.68950862 0.64536082 0.4219169 ]]\n"
     ]
    }
   ],
   "source": [
    "error=[]\n",
    "V = np.zeros((3,4))\n",
    "delta=1000\n",
    "while delta> 0.00001:\n",
    "    old_V = V.copy()\n",
    "    delta = 0\n",
    "    state = np.nditer(state_matrix, flags=['multi_index'])\n",
    "    while not state.finished:\n",
    "        action = policy_matrix[state.multi_index]\n",
    "        if state[0]==0:\n",
    "            acum=0\n",
    "            for x in zip(prob_next_state(state.multi_index,3,4),transition_matrix[int(action),:]):\n",
    "                acum = acum + x[1]*(reward_matrix[x[0]]+gamma*old_V[x[0]])\n",
    "            V[state.multi_index] = acum\n",
    "        state.iternext()\n",
    "    error.append(np.sum(V_exact - V))\n",
    "    delta = np.max(abs(V_exact - V))\n",
    "print(V)\n"
   ]
  },
  {
   "cell_type": "markdown",
   "metadata": {},
   "source": [
    "Plot how error decreases with number of iterations"
   ]
  },
  {
   "cell_type": "code",
   "execution_count": 30,
   "metadata": {},
   "outputs": [
    {
     "data": {
      "image/png": "[encoded data removed]",
      "text/plain": [
       "<Figure size 400x300 with 1 Axes>"
      ]
     },
     "metadata": {},
     "output_type": "display_data"
    }
   ],
   "source": [
    "plt.plot(error)\n",
    "plt.ylabel('sum of errors for all states')\n",
    "plt.xlabel('iterations')\n",
    "plt.show()"
   ]
  }
 ],
 "metadata": {
  "kernelspec": {
   "display_name": "Python 3",
   "language": "python",
   "name": "python3"
  },
  "language_info": {
   "codemirror_mode": {
    "name": "ipython",
    "version": 3
   },
   "file_extension": ".py",
   "mimetype": "text/x-python",
   "name": "python",
   "nbconvert_exporter": "python",
   "pygments_lexer": "ipython3",
   "version": "3.10.12"
  }
 },
 "nbformat": 4,
 "nbformat_minor": 2
}
