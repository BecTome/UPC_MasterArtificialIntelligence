{
 "cells": [
  {
   "cell_type": "markdown",
   "metadata": {
    "id": "Sk0eYw8ojrFq"
   },
   "source": [
    "# Laboratory #3_2 : Image Classification using Bag of Visual Words\n",
    "\n",
    "At the end of this laboratory, you would get familiarized with\n",
    "\n",
    "*   Creating Bag of Visual Words\n",
    "    *   Feature Extraction\n",
    "    *   Codebook construction\n",
    "    *   Classification\n",
    "\n",
    "**Remember this is a graded exercise.**\n",
    "\n",
    "*   For every plot, make sure you provide appropriate titles, axis labels, legends, wherever applicable.\n",
    "*   Create reusable functions where ever possible, so that the code could be reused at different places.\n",
    "*   Mount your drive to access the images.\n",
    "*   Add sufficient comments and explanations wherever necessary.\n",
    "\n",
    "---"
   ]
  },
  {
   "cell_type": "code",
   "execution_count": 1,
   "metadata": {
    "id": "sYHw1lSBldl-"
   },
   "outputs": [],
   "source": [
    "# from google.colab import drive\n",
    "# drive.mount('/content/drive')"
   ]
  },
  {
   "cell_type": "code",
   "execution_count": 2,
   "metadata": {
    "id": "aD5-E8PuaQ5P"
   },
   "outputs": [],
   "source": [
    "# Loading necessary libraries (Feel free to add new libraries if you need for any computation)\n",
    "\n",
    "import os\n",
    "import numpy as np\n",
    "\n",
    "from skimage.feature import ORB\n",
    "from skimage.color import rgb2gray\n",
    "from skimage.io import imread\n",
    "from scipy.cluster.vq import vq\n",
    "\n",
    "from matplotlib import pyplot as plt"
   ]
  },
  {
   "cell_type": "markdown",
   "metadata": {
    "id": "ampx9DIJiuGN"
   },
   "source": [
    "## Loading dataset\n",
    "\n",
    "We will use 3 categories from Caltech 101 objects dataset for this experiment. Upload the dataset to the drive and mount it."
   ]
  },
  {
   "cell_type": "code",
   "execution_count": 3,
   "metadata": {
    "id": "PRSJP1XbG6-a"
   },
   "outputs": [],
   "source": [
    "# modify the dataset variable with the path from your drive\n",
    "\n",
    "dataset_path = r'CV/Labs/P07_1_bag_of_words/Caltech_101_subset'"
   ]
  },
  {
   "cell_type": "code",
   "execution_count": 4,
   "metadata": {
    "id": "fNoe7u755X6Q"
   },
   "outputs": [],
   "source": [
    "categories = ['butterfly', 'kangaroo', 'dalmatian']\n",
    "ncl = len(categories) * 10"
   ]
  },
  {
   "cell_type": "markdown",
   "metadata": {
    "id": "gxY0mDoK5EQj"
   },
   "source": [
    "*   Create a list of file and the corresponding labels"
   ]
  },
  {
   "cell_type": "code",
   "execution_count": 5,
   "metadata": {
    "id": "EQptvDX5AFem"
   },
   "outputs": [
    {
     "name": "stdout",
     "output_type": "stream",
     "text": [
      "(196, 300)\n",
      "2\n"
     ]
    }
   ],
   "source": [
    "# solution\n",
    "data = []\n",
    "for category in os.listdir(dataset_path):\n",
    "    for file in os.listdir(os.path.join(dataset_path, category)):\n",
    "        img = imread(os.path.join(dataset_path, category, file))\n",
    "        if len(img.shape) == 3:\n",
    "            img = rgb2gray(img, channel_axis=2)\n",
    "        num_cat = categories.index(category)\n",
    "        data.append([img, num_cat])\n",
    "\n",
    "print(data[0][0].shape)\n",
    "print(data[0][1])"
   ]
  },
  {
   "cell_type": "code",
   "execution_count": 6,
   "metadata": {
    "id": "3x42veHz5LDt"
   },
   "outputs": [
    {
     "name": "stdout",
     "output_type": "stream",
     "text": [
      "Total number of images: 244\n"
     ]
    }
   ],
   "source": [
    "print('Total number of images:', len(data))"
   ]
  },
  {
   "cell_type": "markdown",
   "metadata": {
    "id": "XgVhdjYz5Zhs"
   },
   "source": [
    "*   Create a train / test split where the test is 10% of the total data"
   ]
  },
  {
   "cell_type": "code",
   "execution_count": 7,
   "metadata": {
    "id": "QzYnjzXBZXXt"
   },
   "outputs": [],
   "source": [
    "# solution\n",
    "\n",
    "from sklearn.model_selection import train_test_split\n",
    "x_train, x_test, y_train, y_test = train_test_split([x[0] for x in data], \n",
    "                                                    [x[1] for x in data], \n",
    "                                                    test_size=0.1, \n",
    "                                                    random_state=42, \n",
    "                                                    stratify=[x[1] for x in data])"
   ]
  },
  {
   "cell_type": "code",
   "execution_count": 8,
   "metadata": {
    "id": "gd057lAc5jze"
   },
   "outputs": [
    {
     "name": "stdout",
     "output_type": "stream",
     "text": [
      "Train set: 219\n",
      "Test set: 25\n"
     ]
    }
   ],
   "source": [
    "print('Train set:', len(x_train))\n",
    "print('Test set:', len(x_test))"
   ]
  },
  {
   "cell_type": "code",
   "execution_count": 9,
   "metadata": {},
   "outputs": [
    {
     "data": {
      "image/png": "[encoded data removed]",
      "text/plain": [
       "<Figure size 640x480 with 1 Axes>"
      ]
     },
     "metadata": {},
     "output_type": "display_data"
    }
   ],
   "source": [
    "import seaborn as sns\n",
    "sns.histplot(y_train)\n",
    "sns.histplot(y_test)\n",
    "plt.title('Train and Test set distribution')\n",
    "plt.show()"
   ]
  },
  {
   "cell_type": "markdown",
   "metadata": {
    "id": "_Hl36Ej_5k6Y"
   },
   "source": [
    "*   How do you select the train/test split?"
   ]
  },
  {
   "cell_type": "markdown",
   "metadata": {
    "id": "-aOe27Kx5vtd"
   },
   "source": [
    "**Solution**\n",
    "\n",
    "As it can be infered from the previous plot, train and test are selected so that test set has the same distribution over the classes as the train set, so that the difference betweeen the train and test set is not due to the difference in the distribution of the classes but to our model and parameters selection_."
   ]
  },
  {
   "cell_type": "markdown",
   "metadata": {
    "id": "18OZf2kfkVNB"
   },
   "source": [
    "## Feature Extraction using ORB\n",
    "\n",
    "The first step is to extract descriptors for each image in our dataset. We will use ORB to extract descriptors.\n",
    "\n",
    "*   Create ORB detector with 64 keypoints.\n"
   ]
  },
  {
   "cell_type": "code",
   "execution_count": 10,
   "metadata": {
    "id": "ptLbPcoow-ar"
   },
   "outputs": [],
   "source": [
    "# solution\n",
    "\n",
    "descriptor_extractor = ORB(n_keypoints=64)"
   ]
  },
  {
   "cell_type": "markdown",
   "metadata": {
    "id": "3yinPkL8brow"
   },
   "source": [
    "*   Extract ORB descriptors from all the images in the train set.\n"
   ]
  },
  {
   "cell_type": "code",
   "execution_count": 11,
   "metadata": {
    "id": "PCiXJeLFxGtP"
   },
   "outputs": [],
   "source": [
    "# solution\n",
    "\n",
    "def extract_features(img, descriptor_extractor):\n",
    "    descriptor_extractor.detect_and_extract(img)\n",
    "    return descriptor_extractor.keypoints, descriptor_extractor.descriptors\n",
    "\n",
    "ls_desc = []\n",
    "for img in x_train:\n",
    "    _, desc = extract_features(img, descriptor_extractor)\n",
    "    ls_desc.append(desc)"
   ]
  },
  {
   "cell_type": "markdown",
   "metadata": {
    "id": "GJehFdyt583b"
   },
   "source": [
    "*   What is the size of the feature descriptors? What does each dimension represent in the feature descriptors?"
   ]
  },
  {
   "cell_type": "code",
   "execution_count": 12,
   "metadata": {
    "id": "bzTspvF96LeC"
   },
   "outputs": [
    {
     "name": "stdout",
     "output_type": "stream",
     "text": [
      "Dimensions of feature descriptors:  {(64, 256)}\n"
     ]
    }
   ],
   "source": [
    "# solution\n",
    "\n",
    "print(\"Dimensions of feature descriptors: \", set([x.shape for x in ls_desc]))\n"
   ]
  },
  {
   "cell_type": "markdown",
   "metadata": {
    "id": "MNFOjsRj6PGk"
   },
   "source": [
    "**Solution**\n",
    "\n",
    "The size of the feature descriptors generated by ORB is fixed and typically 256 bits (32 bytes) per descriptor. Each dimension of the feature descriptor represents a binary value (0 or 1) generated by the BRIEF (Binary Robust Independent Elementary Features) algorithm, which is used by ORB for descriptor computation.\n",
    "\n",
    "To break it down:\n",
    "\n",
    "- Size of Feature Descriptor: 256 bits (32 bytes)\n",
    "\n",
    "- Each Dimension: Represents a binary value (0 or 1) indicating the result of a binary test applied during the BRIEF algorithm.\n",
    "\n",
    "The result of the BRIEF algorithm is this binary vector, which serves as a compact representation of the local image characteristics around a keypoint. This binary nature makes BRIEF descriptors computationally efficient and suitable for applications where speed and memory are critical, such as real-time computer vision tasks. The binary descriptors can be used for matching keypoints between images by comparing the Hamming distance between their binary vectors."
   ]
  },
  {
   "cell_type": "markdown",
   "metadata": {
    "id": "420YQkAzleTQ"
   },
   "source": [
    "## Codebook Construction\n",
    "\n",
    "Codewords are nothing but vector representation of similar patches. This codeword produces a codebook similar to a word dictionary. We will create the codebook using K-Means algorithm\n",
    "\n",
    "*   Create a codebook using K-Means with k=number_of_classes*10\n",
    "*   Hint: Use sklearn.cluster.MiniBatchKMeans for K-Means"
   ]
  },
  {
   "cell_type": "code",
   "execution_count": 13,
   "metadata": {},
   "outputs": [
    {
     "name": "stdout",
     "output_type": "stream",
     "text": [
      "The length should be  219  images x 64  features: 14016\n",
      "Shape of the concatenated array:  (14016, 256)\n"
     ]
    }
   ],
   "source": [
    "# Firs of all let's concatenate all the descriptors in a single array\n",
    "X_desc = np.concatenate(ls_desc)\n",
    "print(\"The length should be \", len(ls_desc), \" images x\", 64, \" features:\", len(ls_desc) * 64)\n",
    "print(\"Shape of the concatenated array: \", X_desc.shape)"
   ]
  },
  {
   "cell_type": "code",
   "execution_count": 14,
   "metadata": {
    "id": "iO0e4718ppJt"
   },
   "outputs": [
    {
     "name": "stderr",
     "output_type": "stream",
     "text": [
      "/home/alberto/Documentos/GitHub/UPC_MasterArtificialIntelligence/.venv/lib/python3.10/site-packages/sklearn/cluster/_kmeans.py:1934: FutureWarning: The default value of `n_init` will change from 3 to 'auto' in 1.4. Set the value of `n_init` explicitly to suppress the warning\n",
      "  super()._check_params_vs_input(X, default_n_init=3)\n"
     ]
    },
    {
     "data": {
      "text/html": [
       "<style>#sk-container-id-1 {color: black;}#sk-container-id-1 pre{padding: 0;}#sk-container-id-1 div.sk-toggleable {background-color: white;}#sk-container-id-1 label.sk-toggleable__label {cursor: pointer;display: block;width: 100%;margin-bottom: 0;padding: 0.3em;box-sizing: border-box;text-align: center;}#sk-container-id-1 label.sk-toggleable__label-arrow:before {content: \"▸\";float: left;margin-right: 0.25em;color: #696969;}#sk-container-id-1 label.sk-toggleable__label-arrow:hover:before {color: black;}#sk-container-id-1 div.sk-estimator:hover label.sk-toggleable__label-arrow:before {color: black;}#sk-container-id-1 div.sk-toggleable__content {max-height: 0;max-width: 0;overflow: hidden;text-align: left;background-color: #f0f8ff;}#sk-container-id-1 div.sk-toggleable__content pre {margin: 0.2em;color: black;border-radius: 0.25em;background-color: #f0f8ff;}#sk-container-id-1 input.sk-toggleable__control:checked~div.sk-toggleable__content {max-height: 200px;max-width: 100%;overflow: auto;}#sk-container-id-1 input.sk-toggleable__control:checked~label.sk-toggleable__label-arrow:before {content: \"▾\";}#sk-container-id-1 div.sk-estimator input.sk-toggleable__control:checked~label.sk-toggleable__label {background-color: #d4ebff;}#sk-container-id-1 div.sk-label input.sk-toggleable__control:checked~label.sk-toggleable__label {background-color: #d4ebff;}#sk-container-id-1 input.sk-hidden--visually {border: 0;clip: rect(1px 1px 1px 1px);clip: rect(1px, 1px, 1px, 1px);height: 1px;margin: -1px;overflow: hidden;padding: 0;position: absolute;width: 1px;}#sk-container-id-1 div.sk-estimator {font-family: monospace;background-color: #f0f8ff;border: 1px dotted black;border-radius: 0.25em;box-sizing: border-box;margin-bottom: 0.5em;}#sk-container-id-1 div.sk-estimator:hover {background-color: #d4ebff;}#sk-container-id-1 div.sk-parallel-item::after {content: \"\";width: 100%;border-bottom: 1px solid gray;flex-grow: 1;}#sk-container-id-1 div.sk-label:hover label.sk-toggleable__label {background-color: #d4ebff;}#sk-container-id-1 div.sk-serial::before {content: \"\";position: absolute;border-left: 1px solid gray;box-sizing: border-box;top: 0;bottom: 0;left: 50%;z-index: 0;}#sk-container-id-1 div.sk-serial {display: flex;flex-direction: column;align-items: center;background-color: white;padding-right: 0.2em;padding-left: 0.2em;position: relative;}#sk-container-id-1 div.sk-item {position: relative;z-index: 1;}#sk-container-id-1 div.sk-parallel {display: flex;align-items: stretch;justify-content: center;background-color: white;position: relative;}#sk-container-id-1 div.sk-item::before, #sk-container-id-1 div.sk-parallel-item::before {content: \"\";position: absolute;border-left: 1px solid gray;box-sizing: border-box;top: 0;bottom: 0;left: 50%;z-index: -1;}#sk-container-id-1 div.sk-parallel-item {display: flex;flex-direction: column;z-index: 1;position: relative;background-color: white;}#sk-container-id-1 div.sk-parallel-item:first-child::after {align-self: flex-end;width: 50%;}#sk-container-id-1 div.sk-parallel-item:last-child::after {align-self: flex-start;width: 50%;}#sk-container-id-1 div.sk-parallel-item:only-child::after {width: 0;}#sk-container-id-1 div.sk-dashed-wrapped {border: 1px dashed gray;margin: 0 0.4em 0.5em 0.4em;box-sizing: border-box;padding-bottom: 0.4em;background-color: white;}#sk-container-id-1 div.sk-label label {font-family: monospace;font-weight: bold;display: inline-block;line-height: 1.2em;}#sk-container-id-1 div.sk-label-container {text-align: center;}#sk-container-id-1 div.sk-container {/* jupyter's `normalize.less` sets `[hidden] { display: none; }` but bootstrap.min.css set `[hidden] { display: none !important; }` so we also need the `!important` here to be able to override the default hidden behavior on the sphinx rendered scikit-learn.org. See: https://github.com/scikit-learn/scikit-learn/issues/21755 */display: inline-block !important;position: relative;}#sk-container-id-1 div.sk-text-repr-fallback {display: none;}</style><div id=\"sk-container-id-1\" class=\"sk-top-container\"><div class=\"sk-text-repr-fallback\"><pre>MiniBatchKMeans(n_clusters=30, random_state=42)</pre><b>In a Jupyter environment, please rerun this cell to show the HTML representation or trust the notebook. <br />On GitHub, the HTML representation is unable to render, please try loading this page with nbviewer.org.</b></div><div class=\"sk-container\" hidden><div class=\"sk-item\"><div class=\"sk-estimator sk-toggleable\"><input class=\"sk-toggleable__control sk-hidden--visually\" id=\"sk-estimator-id-1\" type=\"checkbox\" checked><label for=\"sk-estimator-id-1\" class=\"sk-toggleable__label sk-toggleable__label-arrow\">MiniBatchKMeans</label><div class=\"sk-toggleable__content\"><pre>MiniBatchKMeans(n_clusters=30, random_state=42)</pre></div></div></div></div></div>"
      ],
      "text/plain": [
       "MiniBatchKMeans(n_clusters=30, random_state=42)"
      ]
     },
     "execution_count": 14,
     "metadata": {},
     "output_type": "execute_result"
    }
   ],
   "source": [
    "# solution\n",
    "from sklearn.cluster import MiniBatchKMeans\n",
    "\n",
    "kmeans = MiniBatchKMeans(n_clusters=ncl, random_state=42)\n",
    "kmeans.fit(X_desc)"
   ]
  },
  {
   "cell_type": "markdown",
   "metadata": {
    "id": "0GAD_JuNpqMt"
   },
   "source": [
    "*   Create a histogram using the cluster centers for each image descriptor.\n",
    "    *   Remember the histogram would be of size *n_images x n_clusters*."
   ]
  },
  {
   "cell_type": "code",
   "execution_count": 15,
   "metadata": {},
   "outputs": [],
   "source": [
    "centroid_vectors = [kmeans.predict(img_descs) for img_descs in ls_desc]\n",
    "\n",
    "hist_train = np.zeros((len(centroid_vectors), ncl), \"float64\")\n",
    "\n",
    "for i, sample in enumerate(centroid_vectors):\n",
    "  hist_train[i, :] = np.histogram(sample, bins=ncl, range=(0, ncl-1), density=False) [0]"
   ]
  },
  {
   "cell_type": "code",
   "execution_count": 18,
   "metadata": {},
   "outputs": [
    {
     "data": {
      "image/png": "[encoded data removed]",
      "text/plain": [
       "<Figure size 1000x500 with 1 Axes>"
      ]
     },
     "metadata": {},
     "output_type": "display_data"
    }
   ],
   "source": [
    "# barplot of hist_train\n",
    "plt.figure(figsize=(10, 5))\n",
    "sns.barplot(x=list(range(ncl)), y=hist_train[0])\n",
    "plt.title('Histogram of the first image')\n",
    "plt.show()"
   ]
  },
  {
   "cell_type": "markdown",
   "metadata": {},
   "source": [
    "To test it works, every histogram should sum to 64."
   ]
  },
  {
   "cell_type": "code",
   "execution_count": 19,
   "metadata": {},
   "outputs": [
    {
     "data": {
      "text/plain": [
       "array([64., 64., 64., 64., 64., 64., 64., 64., 64., 64., 64., 64., 64.,\n",
       "       64., 64., 64., 64., 64., 64., 64., 64., 64., 64., 64., 64., 64.,\n",
       "       64., 64., 64., 64., 64., 64., 64., 64., 64., 64., 64., 64., 64.,\n",
       "       64., 64., 64., 64., 64., 64., 64., 64., 64., 64., 64., 64., 64.,\n",
       "       64., 64., 64., 64., 64., 64., 64., 64., 64., 64., 64., 64., 64.,\n",
       "       64., 64., 64., 64., 64., 64., 64., 64., 64., 64., 64., 64., 64.,\n",
       "       64., 64., 64., 64., 64., 64., 64., 64., 64., 64., 64., 64., 64.,\n",
       "       64., 64., 64., 64., 64., 64., 64., 64., 64., 64., 64., 64., 64.,\n",
       "       64., 64., 64., 64., 64., 64., 64., 64., 64., 64., 64., 64., 64.,\n",
       "       64., 64., 64., 64., 64., 64., 64., 64., 64., 64., 64., 64., 64.,\n",
       "       64., 64., 64., 64., 64., 64., 64., 64., 64., 64., 64., 64., 64.,\n",
       "       64., 64., 64., 64., 64., 64., 64., 64., 64., 64., 64., 64., 64.,\n",
       "       64., 64., 64., 64., 64., 64., 64., 64., 64., 64., 64., 64., 64.,\n",
       "       64., 64., 64., 64., 64., 64., 64., 64., 64., 64., 64., 64., 64.,\n",
       "       64., 64., 64., 64., 64., 64., 64., 64., 64., 64., 64., 64., 64.,\n",
       "       64., 64., 64., 64., 64., 64., 64., 64., 64., 64., 64., 64., 64.,\n",
       "       64., 64., 64., 64., 64., 64., 64., 64., 64., 64., 64.])"
      ]
     },
     "execution_count": 19,
     "metadata": {},
     "output_type": "execute_result"
    }
   ],
   "source": [
    "hist_train.sum(axis=1)"
   ]
  },
  {
   "cell_type": "markdown",
   "metadata": {
    "id": "jmRO7dfLjgZa"
   },
   "source": [
    "\n",
    "# Creating Classification Model\n",
    "\n",
    "*   The next step is to create a classification model. We will use a C-Support Vector Classification for creating the model.\n",
    "\n"
   ]
  },
  {
   "cell_type": "code",
   "execution_count": 20,
   "metadata": {
    "id": "K7VTBz1Oimtz"
   },
   "outputs": [],
   "source": [
    "from sklearn.svm import SVC\n",
    "from sklearn.model_selection import GridSearchCV"
   ]
  },
  {
   "cell_type": "markdown",
   "metadata": {
    "id": "lrit95Ud6pUU"
   },
   "source": [
    "*   Use GridSearchCV to find the optimal value of C and Gamma."
   ]
  },
  {
   "cell_type": "code",
   "execution_count": 21,
   "metadata": {},
   "outputs": [
    {
     "name": "stdout",
     "output_type": "stream",
     "text": [
      "Fitting 5 folds for each of 324 candidates, totalling 1620 fits\n",
      "Best score: 0.5665961945031712\n",
      "Best Params: {'C': 0.7626985859023444, 'gamma': 0.007626985859023444}\n"
     ]
    }
   ],
   "source": [
    "from sklearn.preprocessing import StandardScaler\n",
    "from sklearn.metrics import accuracy_score\n",
    "sc = StandardScaler()\n",
    "X_train_sc = sc.fit_transform(hist_train)\n",
    "\n",
    "parameters = {'C':np.logspace(-3, 4, 18), 'gamma':np.logspace(-3, 2, 18)}\n",
    "\n",
    "model = SVC(kernel='rbf')\n",
    "gs = GridSearchCV(model, parameters,\n",
    "                   cv=5, n_jobs=-1, scoring='accuracy', verbose=1)\n",
    "gs.fit(X_train_sc, y_train)\n",
    "\n",
    "best_model = gs.best_estimator_\n",
    "\n",
    "print('Best score:', gs.best_score_)\n",
    "print('Best Params:', gs.best_params_)\n"
   ]
  },
  {
   "cell_type": "markdown",
   "metadata": {
    "id": "eqThTmO5j1-p"
   },
   "source": [
    "# Testing the Classification Model\n",
    "\n",
    "*   Extract descriptors using ORB for the test split\n",
    "*   Use the previously trained k-means to generate the histogram\n",
    "*   Use the classifier to predict the label\n"
   ]
  },
  {
   "cell_type": "code",
   "execution_count": 22,
   "metadata": {
    "id": "x2Gzbww9e0pP"
   },
   "outputs": [],
   "source": [
    "# solution\n",
    "\n",
    "ls_test_desc = []\n",
    "for img in x_test:\n",
    "    _, desc = extract_features(img, descriptor_extractor)\n",
    "    ls_test_desc.append(desc)\n",
    "\n",
    "test_centroid_vectors = [kmeans.predict(img_descs) for img_descs in ls_test_desc]\n",
    "\n",
    "hist_test = np.zeros((len(test_centroid_vectors), ncl), \"float64\")\n",
    "\n",
    "for i, sample in enumerate(test_centroid_vectors):\n",
    "  hist_test[i, :] = np.histogram(sample, bins=ncl, range=(0, ncl-1), density=False) [0]"
   ]
  },
  {
   "cell_type": "code",
   "execution_count": 23,
   "metadata": {},
   "outputs": [
    {
     "data": {
      "text/plain": [
       "array([64., 64., 64., 64., 64., 64., 64., 64., 64., 64., 64., 64., 64.,\n",
       "       64., 64., 64., 64., 64., 64., 64., 64., 64., 64., 64., 64.])"
      ]
     },
     "execution_count": 23,
     "metadata": {},
     "output_type": "execute_result"
    }
   ],
   "source": [
    "hist_test.sum(axis=1)"
   ]
  },
  {
   "cell_type": "code",
   "execution_count": 24,
   "metadata": {},
   "outputs": [
    {
     "data": {
      "image/png": "[encoded data removed]",
      "text/plain": [
       "<Figure size 1000x500 with 1 Axes>"
      ]
     },
     "metadata": {},
     "output_type": "display_data"
    }
   ],
   "source": [
    "# Plot first image histogram\n",
    "plt.figure(figsize=(10, 5))\n",
    "sns.barplot(x=list(range(ncl)), y=hist_test[0])\n",
    "plt.title('Histogram of the first image')\n",
    "plt.show()"
   ]
  },
  {
   "cell_type": "markdown",
   "metadata": {
    "id": "gGyQUtU3lAEz"
   },
   "source": [
    "*   Calculate the accuracy score for the classification model"
   ]
  },
  {
   "cell_type": "code",
   "execution_count": 25,
   "metadata": {
    "id": "PszxSB0Ek_Lt"
   },
   "outputs": [
    {
     "name": "stdout",
     "output_type": "stream",
     "text": [
      "Accuracy on test set: 0.56\n"
     ]
    }
   ],
   "source": [
    "# solution\n",
    "\n",
    "print('Accuracy on test set:', accuracy_score(y_test, best_model.predict(sc.transform(hist_test))))"
   ]
  },
  {
   "cell_type": "markdown",
   "metadata": {
    "id": "drlq-5AM615_"
   },
   "source": [
    "*   Generate the confusion matrix for the classification model"
   ]
  },
  {
   "cell_type": "code",
   "execution_count": 26,
   "metadata": {
    "id": "NpqXVYrw61OG"
   },
   "outputs": [
    {
     "data": {
      "image/png": "[encoded data removed]",
      "text/plain": [
       "<Figure size 640x480 with 2 Axes>"
      ]
     },
     "metadata": {},
     "output_type": "display_data"
    }
   ],
   "source": [
    "# solution\n",
    "\n",
    "from sklearn.metrics import confusion_matrix\n",
    "cm = confusion_matrix(y_test, best_model.predict(sc.transform(hist_test)))\n",
    "sns.heatmap(cm, annot=True, fmt='d', cmap='viridis', xticklabels=categories, yticklabels=categories)\n",
    "plt.title('Confusion matrix')\n",
    "plt.xlabel('Predicted')\n",
    "plt.ylabel('Actual')\n",
    "plt.show()"
   ]
  },
  {
   "cell_type": "markdown",
   "metadata": {
    "id": "7TN4rRra9yv_"
   },
   "source": [
    "*   Why do we use Clustering to create the codebook? \n",
    "*   What are the other techniques that can be used to create the codebook?"
   ]
  },
  {
   "cell_type": "markdown",
   "metadata": {
    "id": "Ri9kU3wa3Rei"
   },
   "source": [
    "**Solution**\n",
    "\n",
    "**Why use Clustering to create the codebook?**\n",
    "\n",
    "Using clustering, such as K-Means, to create a codebook is a common technique in computer vision and image processing for several reasons:\n",
    "\n",
    "1. **Compression of Information:** Clustering helps compress the information in the feature space. Instead of using all individual feature descriptors, a codebook represents a set of cluster centers, reducing the dimensionality of the data.\n",
    "\n",
    "2. **Quantization:** The cluster centers serve as prototypes or codewords that capture the variability and patterns in the data. Assigning each feature descriptor to its nearest cluster effectively quantizes the descriptor, providing a compact representation.\n",
    "\n",
    "3. **Discriminative Features:** Clustering tends to group similar features together. The resulting clusters (codebook entries) are representative of different patterns or structures in the data, making them potentially more discriminative for various tasks like image recognition.\n",
    "\n",
    "4. **Memory and Computational Efficiency:** Working with a codebook is more memory-efficient than storing all individual descriptors. Additionally, during processing, comparing against a limited set of codewords is computationally less expensive than comparing against all original descriptors.\n",
    "\n",
    "5. **Robustness to Noise:** Clustering helps in reducing the impact of noise or outliers by grouping similar features together. Outliers may be assigned to the nearest cluster, making the representation more robust.\n",
    "\n",
    "**Other Techniques for Codebook Creation:**\n",
    "\n",
    "1. **Principal Component Analysis (PCA):** PCA can be used to reduce the dimensionality of feature descriptors. The principal components can serve as a reduced set of features, acting as a codebook.\n",
    "\n",
    "2. **Vector Quantization (VQ):** Similar to clustering, VQ involves partitioning the feature space into regions and representing each region by a vector (code vector). This is commonly used in image compression and can be adapted for codebook creation.\n",
    "\n",
    "3. **Sparse Coding:** In sparse coding, each feature descriptor is represented as a sparse linear combination of dictionary elements. The dictionary serves a similar purpose to a codebook.\n",
    "\n",
    "4. **Neural Network Embeddings:** Neural networks, particularly autoencoders and embeddings, can be used to learn a lower-dimensional representation of feature descriptors, which can serve as a codebook.\n",
    "\n",
    "The choice of technique depends on the specific application, the characteristics of the data, and the computational constraints. Clustering is popular due to its simplicity, interpretability, and effectiveness in capturing patterns in the data."
   ]
  },
  {
   "cell_type": "markdown",
   "metadata": {
    "id": "b47OqebCOXpq"
   },
   "source": [
    "# Increased Feature Dimensions\n",
    "\n",
    "*   Repeat the classification using features of 256 ORB keypoints."
   ]
  },
  {
   "cell_type": "code",
   "execution_count": 29,
   "metadata": {
    "id": "CiY8GERXOxbB"
   },
   "outputs": [
    {
     "name": "stdout",
     "output_type": "stream",
     "text": [
      "The length should be  219  images x 256  features: 56064\n",
      "Shape of the concatenated array:  (56039, 256)\n"
     ]
    }
   ],
   "source": [
    "# Create feature extractor\n",
    "descriptor_extractor = ORB(n_keypoints=256)\n",
    "\n",
    "\n",
    "def extract_features(img, descriptor_extractor):\n",
    "    descriptor_extractor.detect_and_extract(img)\n",
    "    return descriptor_extractor.keypoints, descriptor_extractor.descriptors\n",
    "\n",
    "# Apply feature extractor to all images\n",
    "ls_desc = []\n",
    "for img in x_train:\n",
    "    _, desc = extract_features(img, descriptor_extractor)\n",
    "    ls_desc.append(desc)\n",
    "\n",
    "# Firs of all let's concatenate all the descriptors in a single array\n",
    "X_desc = np.concatenate(ls_desc)\n",
    "print(\"The length should be \", len(ls_desc), \" images x\", 256, \" features:\", len(ls_desc) * 256)\n",
    "print(\"Shape of the concatenated array: \", X_desc.shape)"
   ]
  },
  {
   "cell_type": "code",
   "execution_count": 31,
   "metadata": {},
   "outputs": [
    {
     "name": "stdout",
     "output_type": "stream",
     "text": [
      "Length of centroid_vectors: 219\n"
     ]
    }
   ],
   "source": [
    "kmeans = MiniBatchKMeans(n_clusters=ncl, random_state=42, n_init=100, max_iter=1000)\n",
    "kmeans.fit(X_desc)\n",
    "\n",
    "centroid_vectors = [kmeans.predict(img_descs) for img_descs in ls_desc]\n",
    "print('Length of centroid_vectors:', len(centroid_vectors))"
   ]
  },
  {
   "cell_type": "code",
   "execution_count": 32,
   "metadata": {},
   "outputs": [
    {
     "data": {
      "text/plain": [
       "array([256., 256., 256., 256., 256., 256., 256., 256., 256., 256., 256.,\n",
       "       256., 256., 256., 256., 256., 256., 256., 256., 256., 256., 256.,\n",
       "       256., 256., 256., 256., 256., 256., 256., 256., 256., 256., 256.,\n",
       "       256., 256., 256., 256., 256., 256., 256., 256., 256., 256., 256.,\n",
       "       256., 256., 256., 256., 256., 256., 256., 256., 256., 256., 231.,\n",
       "       256., 256., 256., 256., 256., 256., 256., 256., 256., 256., 256.,\n",
       "       256., 256., 256., 256., 256., 256., 256., 256., 256., 256., 256.,\n",
       "       256., 256., 256., 256., 256., 256., 256., 256., 256., 256., 256.,\n",
       "       256., 256., 256., 256., 256., 256., 256., 256., 256., 256., 256.,\n",
       "       256., 256., 256., 256., 256., 256., 256., 256., 256., 256., 256.,\n",
       "       256., 256., 256., 256., 256., 256., 256., 256., 256., 256., 256.,\n",
       "       256., 256., 256., 256., 256., 256., 256., 256., 256., 256., 256.,\n",
       "       256., 256., 256., 256., 256., 256., 256., 256., 256., 256., 256.,\n",
       "       256., 256., 256., 256., 256., 256., 256., 256., 256., 256., 256.,\n",
       "       256., 256., 256., 256., 256., 256., 256., 256., 256., 256., 256.,\n",
       "       256., 256., 256., 256., 256., 256., 256., 256., 256., 256., 256.,\n",
       "       256., 256., 256., 256., 256., 256., 256., 256., 256., 256., 256.,\n",
       "       256., 256., 256., 256., 256., 256., 256., 256., 256., 256., 256.,\n",
       "       256., 256., 256., 256., 256., 256., 256., 256., 256., 256., 256.,\n",
       "       256., 256., 256., 256., 256., 256., 256., 256., 256., 256.])"
      ]
     },
     "execution_count": 32,
     "metadata": {},
     "output_type": "execute_result"
    }
   ],
   "source": [
    "for i, sample in enumerate(centroid_vectors):\n",
    "  hist_train[i, :] = np.histogram(sample, bins=ncl, range=(0, ncl-1), density=False) [0]\n",
    "\n",
    "hist_train.sum(axis=1)"
   ]
  },
  {
   "cell_type": "code",
   "execution_count": 33,
   "metadata": {},
   "outputs": [
    {
     "name": "stdout",
     "output_type": "stream",
     "text": [
      "Fitting 5 folds for each of 324 candidates, totalling 1620 fits\n",
      "Best score: 0.6345665961945031\n",
      "Best Params: {'C': 1.9684194472866112, 'gamma': 0.001}\n"
     ]
    }
   ],
   "source": [
    "# Train the classifier\n",
    "sc = StandardScaler()\n",
    "X_train_sc = sc.fit_transform(hist_train)\n",
    "\n",
    "parameters = {'C':np.logspace(-3, 4, 18), 'gamma':np.logspace(-3, 2, 18)}\n",
    "\n",
    "model = SVC(kernel='rbf')\n",
    "gs = GridSearchCV(model, parameters,\n",
    "                   cv=5, n_jobs=-1, scoring='accuracy', verbose=1)\n",
    "\n",
    "gs.fit(X_train_sc, y_train)\n",
    "\n",
    "best_model = gs.best_estimator_\n",
    "\n",
    "print('Best score:', gs.best_score_)\n",
    "print('Best Params:', gs.best_params_)"
   ]
  },
  {
   "cell_type": "code",
   "execution_count": 34,
   "metadata": {},
   "outputs": [
    {
     "data": {
      "text/plain": [
       "array([256., 256., 256., 256., 256., 256., 256., 256., 256., 256., 256.,\n",
       "       256., 256., 256., 256., 256., 256., 256., 256., 256., 256., 256.,\n",
       "       256., 256., 256.])"
      ]
     },
     "execution_count": 34,
     "metadata": {},
     "output_type": "execute_result"
    }
   ],
   "source": [
    "# Create test set histograms\n",
    "ls_test_desc = []\n",
    "for img in x_test:\n",
    "    _, desc = extract_features(img, descriptor_extractor)\n",
    "    ls_test_desc.append(desc)\n",
    "\n",
    "test_centroid_vectors = [kmeans.predict(img_descs) for img_descs in ls_test_desc]\n",
    "\n",
    "hist_test = np.zeros((len(test_centroid_vectors), ncl), \"float64\")\n",
    "\n",
    "for i, sample in enumerate(test_centroid_vectors):\n",
    "  hist_test[i, :] = np.histogram(sample, bins=ncl, range=(0, ncl-1), density=False) [0]\n",
    "\n",
    "hist_test.sum(axis=1)"
   ]
  },
  {
   "cell_type": "code",
   "execution_count": 35,
   "metadata": {},
   "outputs": [
    {
     "name": "stdout",
     "output_type": "stream",
     "text": [
      "Accuracy on test set: 0.64\n"
     ]
    },
    {
     "data": {
      "image/png": "[encoded data removed]",
      "text/plain": [
       "<Figure size 640x480 with 2 Axes>"
      ]
     },
     "metadata": {},
     "output_type": "display_data"
    }
   ],
   "source": [
    "# solution\n",
    "\n",
    "print('Accuracy on test set:', accuracy_score(y_test, best_model.predict(sc.transform(hist_test))))\n",
    "\n",
    "y_pred = best_model.predict(sc.transform(hist_test))\n",
    "\n",
    "cm = confusion_matrix(y_test, y_pred)\n",
    "sns.heatmap(cm, annot=True, fmt='d', cmap='viridis', xticklabels=categories, \n",
    "            yticklabels=categories)\n",
    "plt.title('Confusion matrix')\n",
    "plt.xlabel('Predicted')\n",
    "plt.ylabel('Actual')\n",
    "plt.show()"
   ]
  },
  {
   "cell_type": "markdown",
   "metadata": {
    "id": "Ucf5mIeHOzBf"
   },
   "source": [
    "*   What is the difference in classifier performance between using 64 keypoints and 256 keypoints?"
   ]
  },
  {
   "cell_type": "markdown",
   "metadata": {
    "id": "AJt7kpHcO5nV"
   },
   "source": [
    "**Solution**\n",
    "\n",
    "Using more keypoints improves the performance of the classifier. This is because the feature descriptors are more discriminative and capture more information about the image. However, this comes at the cost of increased memory and computational requirements."
   ]
  },
  {
   "cell_type": "markdown",
   "metadata": {
    "id": "ll0j8G-oIaHd"
   },
   "source": [
    "*   Will further adding more keypoints increase the performance of the algorithm?"
   ]
  },
  {
   "cell_type": "markdown",
   "metadata": {
    "id": "ka3z1sJVInS5"
   },
   "source": [
    "**Solution**\n",
    "\n",
    "Not necessarily, due to the following reasons:\n",
    "\n",
    "1. **Diminishing Returns:** As the number of keypoints increases, the performance improvement may not be significant. This is because the additional keypoints may not be very discriminative or may not capture much additional information.\n",
    "2. **Overfitting:** Using too many keypoints may lead to overfitting, where the model performs well on the training data but does not generalize well to unseen data. This is because the model may learn to recognize specific keypoints in the training data, which may not be present in the test data.\n",
    "3. **Computational and Memory Requirements:** Using more keypoints increases the computational and memory requirements, which may not be feasible in real-world applications.\n",
    "4. **Curse of Dimensionality:** As the dimensionality of the feature space increases, the data becomes more sparse, and the distance between points becomes less meaningful. This can lead to poor performance of the classifier.\n",
    "5. **Noise:** Using more keypoints may increase the impact of noise or outliers in the data, leading to poor performance."
   ]
  }
 ],
 "metadata": {
  "colab": {
   "collapsed_sections": [],
   "provenance": [],
   "toc_visible": true
  },
  "kernelspec": {
   "display_name": "Python 3 (ipykernel)",
   "language": "python",
   "name": "python3"
  },
  "language_info": {
   "codemirror_mode": {
    "name": "ipython",
    "version": 3
   },
   "file_extension": ".py",
   "mimetype": "text/x-python",
   "name": "python",
   "nbconvert_exporter": "python",
   "pygments_lexer": "ipython3",
   "version": "3.10.12"
  }
 },
 "nbformat": 4,
 "nbformat_minor": 4
}
