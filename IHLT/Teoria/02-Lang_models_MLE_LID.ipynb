{
 "cells": [
  {
   "cell_type": "code",
   "execution_count": 15,
   "metadata": {},
   "outputs": [
    {
     "name": "stdout",
     "output_type": "stream",
     "text": [
      "MLE\n",
      "he -4.867534450455582\n",
      "he sent a -16.5370791227964\n",
      "he sent a mail -22.346222113110425\n",
      "he sent a mail to a mordorian -1000000.0\n",
      "\n",
      "\n",
      "Catalan\n",
      "he -4.526527058668978\n",
      "he sent a -15.58244621798972\n",
      "he sent a mail -23.453012244480906\n",
      "he sent a mail to a mordorian -1000000.0\n"
     ]
    },
    {
     "name": "stderr",
     "output_type": "stream",
     "text": [
      "C:\\Users\\alber\\AppData\\Local\\Temp\\ipykernel_6660\\2868521329.py:11: RuntimeWarning: divide by zero encountered in log\n",
      "  return max(np.log(np.prod([dc[x]/ N for x in ls_words])), -1E6)\n"
     ]
    }
   ],
   "source": [
    "import numpy as np\n",
    "d_en = {'a':17000, 'he':10000, 'mail':3900, 'sent':850, 'to': 25000, 'mordorian': 0}\n",
    "N_en = 1300000\n",
    "B_en = 22600\n",
    "\n",
    "d_cat = {'a':21000, 'he':11900, 'mail':420, 'sent':910, 'to': 750, 'mordorian': 0}\n",
    "N_cat = 1100000\n",
    "B_cat = 36800\n",
    "def mle(stc, dc, N):\n",
    "    ls_words = stc.split()\n",
    "    return max(np.log(np.prod([dc[x]/ N for x in ls_words])), -1E6)\n",
    "\n",
    "print(\"MLE\")\n",
    "sc_1 = \"he\"\n",
    "sc_2 = \"he sent a\"\n",
    "sc_3 = \"he sent a mail\"\n",
    "sc_4 = \"he sent a mail to a mordorian\"\n",
    "print(sc_1, mle(sc_1, d_en, N_en))\n",
    "print(sc_2, mle(sc_2, d_en, N_en))\n",
    "print(sc_3, mle(sc_3, d_en, N_en))\n",
    "print(sc_4, mle(sc_4, d_en, N_en))\n",
    "\n",
    "print(\"\\n\\nCatalan\")\n",
    "print(sc_1, mle(sc_1, d_cat, N_cat))\n",
    "print(sc_2, mle(sc_2, d_cat, N_cat))\n",
    "print(sc_3, mle(sc_3, d_cat, N_cat))\n",
    "print(sc_4, mle(sc_4, d_cat, N_cat))"
   ]
  },
  {
   "cell_type": "code",
   "execution_count": 16,
   "metadata": {},
   "outputs": [
    {
     "name": "stdout",
     "output_type": "stream",
     "text": [
      "LID\n",
      "he -4.876139198793291\n",
      "he sent a -16.562375891625866\n",
      "he sent a mail -22.38004543211701\n",
      "he sent a mail to a mordorian -45.46513218321462\n",
      "\n",
      "\n",
      "Catalan\n",
      "he -4.543073955438021\n",
      "he sent a -15.631597831247797\n",
      "he sent a mail -23.517563002296477\n",
      "he sent a mail to a mordorian -49.41989795722203\n"
     ]
    }
   ],
   "source": [
    "def lid(stc, dc, N, B, lam=0.5):\n",
    "    ls_words = stc.split()\n",
    "    return np.log(np.prod([(dc[x] + lam)/ (N + lam*B) for x in ls_words]))\n",
    "\n",
    "print(\"LID\")\n",
    "sc_1 = \"he\"\n",
    "sc_2 = \"he sent a\"\n",
    "sc_3 = \"he sent a mail\"\n",
    "sc_4 = \"he sent a mail to a mordorian\"\n",
    "\n",
    "print(sc_1, lid(sc_1, d_en, N_en, B_en))\n",
    "print(sc_2, lid(sc_2, d_en, N_en, B_en))\n",
    "print(sc_3, lid(sc_3, d_en, N_en, B_en))\n",
    "print(sc_4, lid(sc_4, d_en, N_en, B_en))\n",
    "\n",
    "print(\"\\n\\nCatalan\")\n",
    "print(sc_1, lid(sc_1, d_cat, N_cat, B_cat))\n",
    "print(sc_2, lid(sc_2, d_cat, N_cat, B_cat))\n",
    "print(sc_3, lid(sc_3, d_cat, N_cat, B_cat))\n",
    "print(sc_4, lid(sc_4, d_cat, N_cat, B_cat))"
   ]
  },
  {
   "cell_type": "code",
   "execution_count": null,
   "metadata": {},
   "outputs": [],
   "source": []
  }
 ],
 "metadata": {
  "kernelspec": {
   "display_name": "Python 3",
   "language": "python",
   "name": "python3"
  },
  "language_info": {
   "codemirror_mode": {
    "name": "ipython",
    "version": 3
   },
   "file_extension": ".py",
   "mimetype": "text/x-python",
   "name": "python",
   "nbconvert_exporter": "python",
   "pygments_lexer": "ipython3",
   "version": "3.8.0"
  },
  "orig_nbformat": 4
 },
 "nbformat": 4,
 "nbformat_minor": 2
}
