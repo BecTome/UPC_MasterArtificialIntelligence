{
  "cells": [
    {
      "cell_type": "markdown",
      "metadata": {
        "id": "l0LXucmalIYk"
      },
      "source": [
        "## Paraphrases Template"
      ]
    },
    {
      "cell_type": "code",
      "execution_count": 76,
      "metadata": {
        "colab": {
          "base_uri": "https://localhost:8080/"
        },
        "id": "rV4ayENcxNeV",
        "outputId": "f6533c45-1640-4764-a03c-6e9695c07d85"
      },
      "outputs": [],
      "source": [
        "# from google.colab import drive\n",
        "# drive.mount('/content/drive')"
      ]
    },
    {
      "cell_type": "code",
      "execution_count": 77,
      "metadata": {
        "id": "Mi9UgnrHx1NN"
      },
      "outputs": [
        {
          "name": "stderr",
          "output_type": "stream",
          "text": [
            "[nltk_data] Downloading package stopwords to\n",
            "[nltk_data]     C:\\Users\\alber\\AppData\\Roaming\\nltk_data...\n",
            "[nltk_data]   Package stopwords is already up-to-date!\n",
            "[nltk_data] Downloading package punkt to\n",
            "[nltk_data]     C:\\Users\\alber\\AppData\\Roaming\\nltk_data...\n",
            "[nltk_data]   Package punkt is already up-to-date!\n"
          ]
        },
        {
          "data": {
            "text/plain": [
              "True"
            ]
          },
          "execution_count": 77,
          "metadata": {},
          "output_type": "execute_result"
        }
      ],
      "source": [
        "import os\n",
        "\n",
        "import pandas as pd\n",
        "import numpy as np\n",
        "\n",
        "import string\n",
        "from nltk import download\n",
        "from nltk.corpus import stopwords\n",
        "from nltk.tokenize import word_tokenize\n",
        "from nltk.metrics import jaccard_distance\n",
        "\n",
        "from scipy.stats import pearsonr\n",
        "\n",
        "import seaborn as sns\n",
        "import matplotlib.pyplot as plt\n",
        "\n",
        "download('stopwords')\n",
        "download('punkt')"
      ]
    },
    {
      "cell_type": "code",
      "execution_count": 78,
      "metadata": {
        "id": "fx90zvqXx5eA"
      },
      "outputs": [],
      "source": [
        "dt = pd.read_csv('test-gold/STS.input.SMTeuroparl.txt',sep='\\t',header=None)"
      ]
    },
    {
      "cell_type": "code",
      "execution_count": 79,
      "metadata": {
        "colab": {
          "base_uri": "https://localhost:8080/",
          "height": 206
        },
        "id": "0veZLO1xmGCD",
        "outputId": "8962c51a-c338-4646-927c-e8e1d064649c"
      },
      "outputs": [
        {
          "data": {
            "text/html": [
              "<div>\n",
              "<style scoped>\n",
              "    .dataframe tbody tr th:only-of-type {\n",
              "        vertical-align: middle;\n",
              "    }\n",
              "\n",
              "    .dataframe tbody tr th {\n",
              "        vertical-align: top;\n",
              "    }\n",
              "\n",
              "    .dataframe thead th {\n",
              "        text-align: right;\n",
              "    }\n",
              "</style>\n",
              "<table border=\"1\" class=\"dataframe\">\n",
              "  <thead>\n",
              "    <tr style=\"text-align: right;\">\n",
              "      <th></th>\n",
              "      <th>0</th>\n",
              "      <th>1</th>\n",
              "    </tr>\n",
              "  </thead>\n",
              "  <tbody>\n",
              "    <tr>\n",
              "      <th>0</th>\n",
              "      <td>The leaders have now been given a new chance a...</td>\n",
              "      <td>The leaders benefit aujourd' hui of a new luck...</td>\n",
              "    </tr>\n",
              "    <tr>\n",
              "      <th>1</th>\n",
              "      <td>Amendment No 7 proposes certain changes in the...</td>\n",
              "      <td>Amendment No 7 is proposing certain changes in...</td>\n",
              "    </tr>\n",
              "    <tr>\n",
              "      <th>2</th>\n",
              "      <td>Let me remind you that our allies include ferv...</td>\n",
              "      <td>I would like to remind you that among our alli...</td>\n",
              "    </tr>\n",
              "    <tr>\n",
              "      <th>3</th>\n",
              "      <td>The vote will take place today at 5.30 p.m.</td>\n",
              "      <td>The vote will take place at 5.30pm</td>\n",
              "    </tr>\n",
              "    <tr>\n",
              "      <th>4</th>\n",
              "      <td>The fishermen are inactive, tired and disappoi...</td>\n",
              "      <td>The fishermen are inactive, tired and disappoi...</td>\n",
              "    </tr>\n",
              "  </tbody>\n",
              "</table>\n",
              "</div>"
            ],
            "text/plain": [
              "                                                   0  \\\n",
              "0  The leaders have now been given a new chance a...   \n",
              "1  Amendment No 7 proposes certain changes in the...   \n",
              "2  Let me remind you that our allies include ferv...   \n",
              "3        The vote will take place today at 5.30 p.m.   \n",
              "4  The fishermen are inactive, tired and disappoi...   \n",
              "\n",
              "                                                   1  \n",
              "0  The leaders benefit aujourd' hui of a new luck...  \n",
              "1  Amendment No 7 is proposing certain changes in...  \n",
              "2  I would like to remind you that among our alli...  \n",
              "3                 The vote will take place at 5.30pm  \n",
              "4  The fishermen are inactive, tired and disappoi...  "
            ]
          },
          "execution_count": 79,
          "metadata": {},
          "output_type": "execute_result"
        }
      ],
      "source": [
        "dt.head()"
      ]
    },
    {
      "cell_type": "code",
      "execution_count": 80,
      "metadata": {
        "id": "4xWDSCAD0mZ_"
      },
      "outputs": [],
      "source": [
        "dt['gs'] = pd.read_csv('test-gold/STS.gs.SMTeuroparl.txt',sep='\\t',header=None)"
      ]
    },
    {
      "cell_type": "code",
      "execution_count": 81,
      "metadata": {
        "colab": {
          "base_uri": "https://localhost:8080/"
        },
        "id": "_cLYgKtW0cL-",
        "outputId": "906e4d40-252a-4e26-b868-a64b98a6f526"
      },
      "outputs": [
        {
          "data": {
            "text/plain": [
              "(459, 3)"
            ]
          },
          "execution_count": 81,
          "metadata": {},
          "output_type": "execute_result"
        }
      ],
      "source": [
        "dt.shape"
      ]
    },
    {
      "cell_type": "code",
      "execution_count": 82,
      "metadata": {
        "colab": {
          "base_uri": "https://localhost:8080/",
          "height": 206
        },
        "id": "rDhoyDeY0Xpv",
        "outputId": "49f3c478-a60d-4f88-e41b-e0dd2d46b70b"
      },
      "outputs": [
        {
          "data": {
            "text/html": [
              "<div>\n",
              "<style scoped>\n",
              "    .dataframe tbody tr th:only-of-type {\n",
              "        vertical-align: middle;\n",
              "    }\n",
              "\n",
              "    .dataframe tbody tr th {\n",
              "        vertical-align: top;\n",
              "    }\n",
              "\n",
              "    .dataframe thead th {\n",
              "        text-align: right;\n",
              "    }\n",
              "</style>\n",
              "<table border=\"1\" class=\"dataframe\">\n",
              "  <thead>\n",
              "    <tr style=\"text-align: right;\">\n",
              "      <th></th>\n",
              "      <th>0</th>\n",
              "      <th>1</th>\n",
              "      <th>gs</th>\n",
              "    </tr>\n",
              "  </thead>\n",
              "  <tbody>\n",
              "    <tr>\n",
              "      <th>0</th>\n",
              "      <td>The leaders have now been given a new chance a...</td>\n",
              "      <td>The leaders benefit aujourd' hui of a new luck...</td>\n",
              "      <td>4.50</td>\n",
              "    </tr>\n",
              "    <tr>\n",
              "      <th>1</th>\n",
              "      <td>Amendment No 7 proposes certain changes in the...</td>\n",
              "      <td>Amendment No 7 is proposing certain changes in...</td>\n",
              "      <td>5.00</td>\n",
              "    </tr>\n",
              "    <tr>\n",
              "      <th>2</th>\n",
              "      <td>Let me remind you that our allies include ferv...</td>\n",
              "      <td>I would like to remind you that among our alli...</td>\n",
              "      <td>4.25</td>\n",
              "    </tr>\n",
              "    <tr>\n",
              "      <th>3</th>\n",
              "      <td>The vote will take place today at 5.30 p.m.</td>\n",
              "      <td>The vote will take place at 5.30pm</td>\n",
              "      <td>4.50</td>\n",
              "    </tr>\n",
              "    <tr>\n",
              "      <th>4</th>\n",
              "      <td>The fishermen are inactive, tired and disappoi...</td>\n",
              "      <td>The fishermen are inactive, tired and disappoi...</td>\n",
              "      <td>5.00</td>\n",
              "    </tr>\n",
              "  </tbody>\n",
              "</table>\n",
              "</div>"
            ],
            "text/plain": [
              "                                                   0  \\\n",
              "0  The leaders have now been given a new chance a...   \n",
              "1  Amendment No 7 proposes certain changes in the...   \n",
              "2  Let me remind you that our allies include ferv...   \n",
              "3        The vote will take place today at 5.30 p.m.   \n",
              "4  The fishermen are inactive, tired and disappoi...   \n",
              "\n",
              "                                                   1    gs  \n",
              "0  The leaders benefit aujourd' hui of a new luck...  4.50  \n",
              "1  Amendment No 7 is proposing certain changes in...  5.00  \n",
              "2  I would like to remind you that among our alli...  4.25  \n",
              "3                 The vote will take place at 5.30pm  4.50  \n",
              "4  The fishermen are inactive, tired and disappoi...  5.00  "
            ]
          },
          "execution_count": 82,
          "metadata": {},
          "output_type": "execute_result"
        }
      ],
      "source": [
        "dt.head()"
      ]
    },
    {
      "cell_type": "markdown",
      "metadata": {
        "id": "6HHcaJhckB_Q"
      },
      "source": [
        "## TODO\n",
        "1. Compute the Jaccard similarity between every paraphrase and add a column *jaccard* to *dt* variable.\n",
        "2. Compute the pearson correlation as: <br>\n",
        "```\n",
        "from scipy.stats import pearsonr\n",
        "pearsonr(dt['gs'], dt['jaccard'])[0]\n",
        "```"
      ]
    },
    {
      "cell_type": "markdown",
      "metadata": {},
      "source": [
        "# Solution"
      ]
    },
    {
      "cell_type": "markdown",
      "metadata": {},
      "source": [
        "## 1. Define Main Functions"
      ]
    },
    {
      "cell_type": "markdown",
      "metadata": {},
      "source": [
        "Functions:\n",
        "\n",
        "- **preprocess_reviews**: Preprocess the text and remove punctuations, convert to lowercase, remove stopwords\n",
        "- **jaccard_sim**: Get the jaccard similarity between two strings\n",
        "- **get_similarity**: Get the similarity between two strings\n",
        "- **corr_with_gold**: Compute the pearson correlation between the gold standard and the similarity scores"
      ]
    },
    {
      "cell_type": "code",
      "execution_count": 83,
      "metadata": {},
      "outputs": [
        {
          "data": {
            "text/plain": [
              "'Hola que tal'"
            ]
          },
          "execution_count": 83,
          "metadata": {},
          "output_type": "execute_result"
        }
      ],
      "source": [
        "# Creating a translation table to remove punctuation\n",
        "translator = str.maketrans('', '', string.punctuation)\n",
        "txt1 = \"Hola que tal.\"\n",
        "txt1.translate(translator)"
      ]
    },
    {
      "cell_type": "code",
      "execution_count": 106,
      "metadata": {},
      "outputs": [],
      "source": [
        "def preprocess_reviews(text, sw_lang='english', out_set=False):\n",
        "    '''\n",
        "    Function to preprocess the text - remove punctuations, convert to lowercase, remove stopwords\n",
        "    Input: text - string\n",
        "    Output: ls_processed_text - list of words\n",
        "    '''\n",
        "\n",
        "    # Creating a translation table to remove punctuation\n",
        "    translator = str.maketrans('', '', string.punctuation)\n",
        "\n",
        "    # Processing the text, removing punctuation and converting to lowercase\n",
        "    processed_text = text.translate(translator).lower().strip()\n",
        "\n",
        "    # Tokenize the text\n",
        "    ls_processed_text = word_tokenize(processed_text)\n",
        "\n",
        "    # Removing stopwords\n",
        "    ls_processed_text = [word for word in ls_processed_text if word not in stopwords.words(sw_lang)]\n",
        "\n",
        "    if out_set:\n",
        "        # For distance metrics, usually, it's needed a set of words\n",
        "        return set(ls_processed_text)\n",
        "    else:\n",
        "        return ls_processed_text\n",
        "\n",
        "def jaccard_sim(x, y):\n",
        "    '''\n",
        "    Get the Jaccard similarity between two sets\n",
        "    '''\n",
        "    return 1 - jaccard_distance(x, y)\n",
        "\n",
        "def get_similarity(x, y, similarity=jaccard_sim):\n",
        "    '''\n",
        "    Get the similarity between two strings\n",
        "    '''\n",
        "\n",
        "    # Clean the sentences and return a set of words\n",
        "    x_prep = preprocess_reviews(x, out_set=True)\n",
        "    y_prep = preprocess_reviews(y, out_set=True)\n",
        "\n",
        "    # Return the similarity between the two sets of words\n",
        "    return similarity(x_prep, y_prep)\n",
        "    \n",
        "def corr_with_gold(filename, similarity=jaccard_sim):\n",
        "    '''\n",
        "    Returns the correlation between the gold standard and the similarity\n",
        "    Input: filename - string with the name of the file\n",
        "    Output: Pearson correlation object\n",
        "    '''\n",
        "\n",
        "    # In some of the files, tabulations appear as \\t instead of a tab\n",
        "    # To solve this problem, it's been included \\\\t (escaped \"\\\") as a possible separator\n",
        "    dt = pd.read_csv('test-gold/STS.input.' + filename,sep='\\t|\\\\t',\n",
        "                     header=None, on_bad_lines='skip', engine='python')\n",
        "    dt['gs'] = pd.read_csv('test-gold/STS.gs.'+filename,sep='\\t|\\\\t',header=None, \n",
        "                           on_bad_lines='skip', engine='python')\n",
        "    \n",
        "    # Bad lines are inserted as null values sometimes \n",
        "    # They are counted, informed and removed\n",
        "    nulls = dt[dt.isnull().any(axis=1)]\n",
        "    if len(nulls) > 0:\n",
        "        print(filename, '\\n', nulls)\n",
        "        dt = dt.dropna()\n",
        "\n",
        "    # Get the similarity between the two sentences\n",
        "    arr_sim = dt.apply(lambda x: get_similarity(*x[:2], similarity=similarity) , axis=1).values\n",
        "    \n",
        "    return pearsonr(arr_sim, dt['gs'].values)\n",
        "\n",
        "def ind_report(filename):\n",
        "    print(\"=====================================================\")\n",
        "    print(filename)\n",
        "    print(\"=====================================================\")\n",
        "    print(\"\\n\")\n",
        "    df_ind_report = pd.read_csv(f'test-gold/STS.input.{filename}.txt',sep='\\t|\\\\t',header=None, engine='python')\n",
        "    df_ind_report['gs'] = pd.read_csv(f'test-gold/STS.gs.{filename}.txt',sep='\\t|\\\\t',header=None, engine='python')\n",
        "    df_ind_report['sim'] = df_ind_report.apply(lambda x: get_similarity(*x[:2]) , axis=1)\n",
        "    df_ind_report['sim'] *= 5.\n",
        "    df_ind_report['dif'] = df_ind_report['sim'] - df_ind_report['gs']\n",
        "\n",
        "    difs_tail = df_ind_report.sort_values(by='dif', ascending=False).tail(5)\n",
        "    for idx, row in difs_tail.iterrows():\n",
        "        x, y = row[0], row[1]\n",
        "        prep_x, prep_y = preprocess_reviews(x, out_set=True), preprocess_reviews(y, out_set=True)\n",
        "        print(f\"RAW TEXT (DIFFERENCE {row['dif']:.2f})\")\n",
        "        print(x, '\\n', y)\n",
        "        print(\"\\nPREPROCESSED TEXT\")\n",
        "        print(prep_x, '\\n', prep_y)\n",
        "        print(\"INTERSECTION\", prep_x.intersection(prep_y))\n",
        "        print(\"DIFFERENCE\", prep_x.difference(prep_y).union(prep_y.difference(prep_x)))\n",
        "        print('\\n\\n')\n",
        "\n",
        "    fig, ax = plt.subplots(1, 2, figsize=(10,2.5))\n",
        "    plt.suptitle(filename)\n",
        "    df_ind_report.dif.plot.hist(bins=20, title=\"Residuals\", ax=ax[0])\n",
        "    df_ind_report.dif.plot.box(title=\"Residuals\", ax=ax[1]);\n",
        "\n",
        "    return df_ind_report"
      ]
    },
    {
      "cell_type": "markdown",
      "metadata": {},
      "source": [
        "## 2. Compute Jaccard Similarity"
      ]
    },
    {
      "cell_type": "markdown",
      "metadata": {},
      "source": [
        "The **Jaccard similarity** measures the similarity between two sets of data to see which members are shared and distinct. The Jaccard similarity is calculated by dividing the number of observations in both sets by the number of observations in either set. In other words, the Jaccard similarity can be computed as the size of the intersection divided by the size of the union of two sets. This can be written in set notation using intersection and unions of two sets:\n",
        "\n",
        "$$\n",
        "J(A, B) = \\frac {|A \\cap B|}{|A \\cup B|}\n",
        "$$\n",
        "\n",
        "Given its nature, it must be between 0 and 1, where 0 means no similarity and 1 means the two sets are identical.\n",
        "\n",
        "As our given gold standard is in a different range, we will use the **Pearson correlation** to measure the correlation between the gold standard and the similarity scores."
      ]
    },
    {
      "cell_type": "markdown",
      "metadata": {},
      "source": [
        "### 2.1 Calculations for the example (``MSRpar``)"
      ]
    },
    {
      "cell_type": "markdown",
      "metadata": {},
      "source": [
        "MSR-Paraphrase, Microsoft Research Paraphrase Corpus\n",
        "http://research.microsoft.com/en-us/downloads/607d14d9-20cd-47e3-85bc-a2f65cd28042/\n",
        "750 pairs of sentences."
      ]
    },
    {
      "cell_type": "code",
      "execution_count": 85,
      "metadata": {},
      "outputs": [
        {
          "name": "stdout",
          "output_type": "stream",
          "text": [
            "First 5 Jaccard similarities (between 0 and 1):\n",
            "  [0.28571429 0.75       0.27272727 0.42857143 1.        ] \n",
            "\n",
            "First 5 gold standard values (between 0 and 5):\n",
            "  [4.5  5.   4.25 4.5  5.  ] \n",
            "\n",
            "Pearson correlation between the gold standard and the similarity:\n",
            " 0.4688903043162896 \n",
            "\n",
            "95% confidence interval:\n",
            " (0.3942845908221308, 0.5373559593014341)\n"
          ]
        }
      ],
      "source": [
        "# Get the array of similarities between each pair of sentences\n",
        "arr_sim = dt.apply(lambda x: get_similarity(*x[:2]) , axis=1).values\n",
        "print(\"First 5 Jaccard similarities (between 0 and 1):\\n \", arr_sim[:5], '\\n')\n",
        "\n",
        "print(\"First 5 gold standard values (between 0 and 5):\\n \", dt['gs'].values[:5], '\\n')\n",
        "\n",
        "d_to_gold = pearsonr(arr_sim, dt['gs'].values)\n",
        "print(\"Pearson correlation between the gold standard and the similarity:\\n\", d_to_gold.statistic, '\\n')\n",
        "print(\"95% confidence interval:\\n\", f\"({d_to_gold.confidence_interval(.95).low}, {d_to_gold.confidence_interval(.95).high})\")\n"
      ]
    },
    {
      "cell_type": "markdown",
      "metadata": {},
      "source": [
        "### 2.2 Calculations for the rest of the datasets"
      ]
    },
    {
      "cell_type": "markdown",
      "metadata": {},
      "source": [
        "From `00-readme.txt`:\n",
        "\n",
        "```\n",
        "The dataset comprises pairs of sentences drawn from the publicly\n",
        "available datasets used in training:\n",
        "\n",
        "- MSR-Paraphrase, Microsoft Research Paraphrase Corpus\n",
        "  http://research.microsoft.com/en-us/downloads/607d14d9-20cd-47e3-85bc-a2f65cd28042/\n",
        "  750 pairs of sentences.\n",
        "\n",
        "- MSR-Video, Microsoft Research Video Description Corpus\n",
        "  http://research.microsoft.com/en-us/downloads/38cf15fd-b8df-477e-a4e4-a4680caa75af/\n",
        "  750 pairs of sentences.\n",
        "\n",
        "- SMTeuroparl: WMT2008 development dataset (Europarl section)\n",
        "  http://www.statmt.org/wmt08/shared-evaluation-task.html\n",
        "  459 pairs of sentences.\n",
        "\n",
        "In addition, it contains two surprise datasets comprising the\n",
        "following collections:\n",
        "\n",
        "- SMTnews: news conversation sentence pairs from WMT\n",
        "  399 pairs of sentences.\n",
        "\n",
        "- OnWN: pairs of sentences where the first comes from Ontonotes and\n",
        "  the second from a WordNet definition.\n",
        "  750 pairs of sentences.\n",
        "```"
      ]
    },
    {
      "cell_type": "code",
      "execution_count": 86,
      "metadata": {},
      "outputs": [
        {
          "name": "stdout",
          "output_type": "stream",
          "text": [
            "List of Files\n",
            "\n",
            "00-readme.txt\n",
            "STS.gs.ALL.txt\n",
            "STS.gs.MSRpar.txt\n",
            "STS.gs.MSRvid.txt\n",
            "STS.gs.SMTeuroparl.txt\n",
            "STS.gs.surprise.OnWN.txt\n",
            "STS.gs.surprise.SMTnews.txt\n",
            "STS.input.MSRpar.txt\n",
            "STS.input.MSRvid.txt\n",
            "STS.input.SMTeuroparl.txt\n",
            "STS.input.surprise.OnWN.txt\n",
            "STS.input.surprise.SMTnews.txt\n"
          ]
        }
      ],
      "source": [
        "print(\"List of Files\\n\")\n",
        "\n",
        "for filename in os.listdir('test-gold'):\n",
        "    print(filename)\n"
      ]
    },
    {
      "cell_type": "markdown",
      "metadata": {},
      "source": [
        "The files containing `gs` refer to the gold standard, and the files containing `input` refer to the paraphrases."
      ]
    },
    {
      "cell_type": "code",
      "execution_count": 87,
      "metadata": {},
      "outputs": [
        {
          "name": "stdout",
          "output_type": "stream",
          "text": [
            "Processing MSRpar.txt\n",
            "Processing MSRvid.txt\n",
            "Processing SMTeuroparl.txt\n",
            "Processing surprise.OnWN.txt\n",
            "Processing surprise.SMTnews.txt\n"
          ]
        },
        {
          "data": {
            "text/html": [
              "<div>\n",
              "<style scoped>\n",
              "    .dataframe tbody tr th:only-of-type {\n",
              "        vertical-align: middle;\n",
              "    }\n",
              "\n",
              "    .dataframe tbody tr th {\n",
              "        vertical-align: top;\n",
              "    }\n",
              "\n",
              "    .dataframe thead th {\n",
              "        text-align: right;\n",
              "    }\n",
              "</style>\n",
              "<table border=\"1\" class=\"dataframe\">\n",
              "  <thead>\n",
              "    <tr style=\"text-align: right;\">\n",
              "      <th></th>\n",
              "      <th>file</th>\n",
              "      <th>pearson</th>\n",
              "      <th>p_value</th>\n",
              "      <th>conf_low</th>\n",
              "      <th>conf_high</th>\n",
              "    </tr>\n",
              "  </thead>\n",
              "  <tbody>\n",
              "    <tr>\n",
              "      <th>0</th>\n",
              "      <td>MSRpar.txt</td>\n",
              "      <td>0.537935</td>\n",
              "      <td>1.764245e-57</td>\n",
              "      <td>0.485024</td>\n",
              "      <td>0.586921</td>\n",
              "    </tr>\n",
              "    <tr>\n",
              "      <th>1</th>\n",
              "      <td>MSRvid.txt</td>\n",
              "      <td>0.685804</td>\n",
              "      <td>2.552113e-105</td>\n",
              "      <td>0.645928</td>\n",
              "      <td>0.721948</td>\n",
              "    </tr>\n",
              "    <tr>\n",
              "      <th>2</th>\n",
              "      <td>SMTeuroparl.txt</td>\n",
              "      <td>0.468890</td>\n",
              "      <td>1.815700e-26</td>\n",
              "      <td>0.394285</td>\n",
              "      <td>0.537356</td>\n",
              "    </tr>\n",
              "    <tr>\n",
              "      <th>3</th>\n",
              "      <td>surprise.OnWN.txt</td>\n",
              "      <td>0.630726</td>\n",
              "      <td>1.918617e-84</td>\n",
              "      <td>0.585578</td>\n",
              "      <td>0.671973</td>\n",
              "    </tr>\n",
              "    <tr>\n",
              "      <th>4</th>\n",
              "      <td>surprise.SMTnews.txt</td>\n",
              "      <td>0.391114</td>\n",
              "      <td>4.920681e-16</td>\n",
              "      <td>0.304637</td>\n",
              "      <td>0.471196</td>\n",
              "    </tr>\n",
              "  </tbody>\n",
              "</table>\n",
              "</div>"
            ],
            "text/plain": [
              "                   file   pearson        p_value  conf_low  conf_high\n",
              "0            MSRpar.txt  0.537935   1.764245e-57  0.485024   0.586921\n",
              "1            MSRvid.txt  0.685804  2.552113e-105  0.645928   0.721948\n",
              "2       SMTeuroparl.txt  0.468890   1.815700e-26  0.394285   0.537356\n",
              "3     surprise.OnWN.txt  0.630726   1.918617e-84  0.585578   0.671973\n",
              "4  surprise.SMTnews.txt  0.391114   4.920681e-16  0.304637   0.471196"
            ]
          },
          "execution_count": 87,
          "metadata": {},
          "output_type": "execute_result"
        }
      ],
      "source": [
        "ls_files = [\"MSRpar.txt\", \"MSRvid.txt\", \"SMTeuroparl.txt\", \"surprise.OnWN.txt\", \"surprise.SMTnews.txt\"]\n",
        "\n",
        "# Initialize the scores dataframe\n",
        "df_scores = pd.DataFrame(columns=['file','pearson','p_value', 'conf_low', 'conf_high'])\n",
        "ls_corr = []\n",
        "ls_p_value = []\n",
        "ls_conf_low, ls_conf_high = [], []\n",
        "\n",
        "# Repeat the process applied to the first file for all the rest\n",
        "# Save the results in a dataframe\n",
        "for file in ls_files:\n",
        "    print(f\"Processing {file}\")\n",
        "    pearson_stats = corr_with_gold(file)\n",
        "    ls_corr.append(pearson_stats.statistic)\n",
        "    ls_p_value.append(pearson_stats.pvalue)\n",
        "    ls_conf_low.append(pearson_stats.confidence_interval(.95).low)\n",
        "    ls_conf_high.append(pearson_stats.confidence_interval(.95).high)\n",
        "\n",
        "df_scores['file'] = ls_files\n",
        "df_scores['pearson'] = ls_corr\n",
        "df_scores['p_value'] = ls_p_value\n",
        "df_scores['conf_low'] = ls_conf_low\n",
        "df_scores['conf_high'] = ls_conf_high\n",
        "\n",
        "df_scores"
      ]
    },
    {
      "cell_type": "markdown",
      "metadata": {},
      "source": [
        "The previous results can be more easily analyzed in the following plot:"
      ]
    },
    {
      "cell_type": "code",
      "execution_count": 88,
      "metadata": {},
      "outputs": [
        {
          "data": {
            "image/png": "[encoded data removed]",
            "text/plain": [
              "<Figure size 1000x500 with 1 Axes>"
            ]
          },
          "metadata": {},
          "output_type": "display_data"
        }
      ],
      "source": [
        "err_bars = np.abs(df_scores['pearson'].T.values - df_scores[['conf_low', 'conf_high']].T.values)\n",
        "\n",
        "fig, ax = plt.subplots(1, 1, figsize=(10,5))\n",
        "ax.bar(df_scores.file, [1.]*len(df_scores), color='red', alpha=.6, label='perfect correlation', width=0.5)\n",
        "df_scores.plot.bar(x='file', y='pearson', rot=45, ax=ax, yerr=err_bars, capsize=4, \n",
        "                   title='Pearson correlation between Jaccard similarity and gold standard', legend=False)\n",
        "ax.set_ylim([0.,1.])\n",
        "fig.legend(['perfect correlation', 'pearson correlation']);"
      ]
    },
    {
      "cell_type": "markdown",
      "metadata": {},
      "source": [
        "## 3. Other similarity metrics"
      ]
    },
    {
      "cell_type": "markdown",
      "metadata": {},
      "source": [
        "Dice, Jaccard, Overlap, and Cosine are all similarity measurements used in the context of set or vector comparisons, particularly in text analysis and information retrieval. Here are the differences between these four similarity measurements:\n",
        "\n",
        "1. **Dice Similarity (Sørensen-Dice coefficient):**\n",
        "   - Dice similarity is used to measure the similarity between two sets or binary data.\n",
        "   - It is calculated as twice the size of the intersection of the sets divided by the sum of the sizes of the sets.\n",
        "   - Values range from 0 (no similarity) to 1 (perfect similarity).\n",
        "   - Commonly applied in text mining and document retrieval.\n",
        "\n",
        "2. **Jaccard Similarity:**\n",
        "   - Jaccard similarity is also used for comparing sets or binary data.\n",
        "   - It calculates the size of the intersection of two sets divided by the size of the union of the sets.\n",
        "   - Values range from 0 (no similarity) to 1 (perfect similarity).\n",
        "   - Widely used in information retrieval, clustering, and recommendation systems.\n",
        "\n",
        "3. **Overlap Coefficient:**\n",
        "   - The overlap coefficient is similar to Jaccard similarity but emphasizes the size of the intersection relative to the smaller of the two sets.\n",
        "   - Values also range from 0 (no similarity) to 1 (perfect similarity).\n",
        "   - Often used in biology for measuring the similarity of DNA sequences and in other set-based comparisons.\n",
        "\n",
        "4. **Cosine Similarity:**\n",
        "   - Cosine similarity measures the cosine of the angle between two vectors in a multi-dimensional space.\n",
        "   - It is frequently used in natural language processing, document analysis, and recommendation systems to compare the similarity of vector representations of text data.\n",
        "   - Values range from -1 (perfectly dissimilar, opposite directions) to 1 (perfectly similar, same direction), with 0 indicating orthogonality (no similarity).\n",
        "\n",
        "The choice between these similarity measurements depends on the specific characteristics of your data and the context of your analysis. Cosine similarity is commonly used for comparing text documents when represented as vectors (e.g., TF-IDF or word embeddings), while Dice, Jaccard, and Overlap are more suitable for set-based data or binary data. Each of them has its strengths and weaknesses, and the choice should be based on the problem at hand."
      ]
    },
    {
      "cell_type": "markdown",
      "metadata": {},
      "source": [
        "$$S_{dice}(X,Y)=\\frac{2\\cdot \\vert X \\cap Y\\vert}{\\vert X\\vert+\\vert Y\\vert}$$\n",
        "\n",
        "$$S_{jaccard}(X,Y)=\\frac{\\vert X \\cap Y\\vert}{\\vert X \\cup Y\\vert}$$\n",
        "\n",
        "$$S_{overlap}(X,Y)=\\frac{\\vert X \\cap Y\\vert}{min(\\vert X\\vert,\\vert Y\\vert)}$$\n",
        "\n",
        "$$S_{cosine}(X,Y)=\\frac{\\vert X \\cap Y\\vert}{\\sqrt{\\vert X\\vert\\cdot\\vert Y\\vert}}$$"
      ]
    },
    {
      "cell_type": "code",
      "execution_count": 89,
      "metadata": {},
      "outputs": [],
      "source": [
        "# For sake of simplicity, the metrics are defined as functions\n",
        "def dice_sim(x, y):\n",
        "    x_n_y = x.intersection(y)\n",
        "    return 2*len(x_n_y) / (len(x) + len(y))\n",
        "\n",
        "def overlap_sim(x, y):\n",
        "    x_n_y = x.intersection(y)\n",
        "    return len(x_n_y) / min(len(x), len(y))\n",
        "\n",
        "def cosine_sim(x, y):\n",
        "    x_n_y = x.intersection(y)\n",
        "    return len(x_n_y) / np.sqrt(len(x)*len(y))"
      ]
    },
    {
      "cell_type": "code",
      "execution_count": 90,
      "metadata": {},
      "outputs": [
        {
          "name": "stdout",
          "output_type": "stream",
          "text": [
            "==================================================\n",
            "Similarity: jaccard\n",
            "==================================================\n",
            "\n",
            "\n",
            "Processing MSRpar.txt\n",
            "Processing MSRvid.txt\n",
            "Processing SMTeuroparl.txt\n",
            "Processing surprise.OnWN.txt\n",
            "Processing surprise.SMTnews.txt\n",
            "==================================================\n",
            "Similarity: dice\n",
            "==================================================\n",
            "\n",
            "\n",
            "Processing MSRpar.txt\n",
            "Processing MSRvid.txt\n",
            "Processing SMTeuroparl.txt\n",
            "Processing surprise.OnWN.txt\n",
            "Processing surprise.SMTnews.txt\n",
            "==================================================\n",
            "Similarity: overlap\n",
            "==================================================\n",
            "\n",
            "\n",
            "Processing MSRpar.txt\n",
            "Processing MSRvid.txt\n",
            "Processing SMTeuroparl.txt\n",
            "Processing surprise.OnWN.txt\n",
            "Processing surprise.SMTnews.txt\n",
            "==================================================\n",
            "Similarity: cosine\n",
            "==================================================\n",
            "\n",
            "\n",
            "Processing MSRpar.txt\n",
            "Processing MSRvid.txt\n",
            "Processing SMTeuroparl.txt\n",
            "Processing surprise.OnWN.txt\n",
            "Processing surprise.SMTnews.txt\n"
          ]
        }
      ],
      "source": [
        "# The different similarity metrics are calculated with their corresponding pearson correlation\n",
        "\n",
        "d_similarities = {\"jaccard\": jaccard_sim, \"dice\": dice_sim, \"overlap\": overlap_sim, \"cosine\": cosine_sim}\n",
        "ls_files = [\"MSRpar.txt\", \"MSRvid.txt\", \"SMTeuroparl.txt\", \"surprise.OnWN.txt\", \"surprise.SMTnews.txt\"]\n",
        "ls_cols = ['file', 'similarity', 'pearson','p_value', 'conf_low', 'conf_high'] \n",
        "\n",
        "# Initialize the scores dataframe\n",
        "df_scores = pd.DataFrame(columns=ls_cols)\n",
        "\n",
        "for sim_name, sim_func in d_similarities.items():\n",
        "    print(\"=\" * 50)\n",
        "    print(f\"Similarity: {sim_name}\")\n",
        "    print(\"=\" * 50)\n",
        "    print(\"\\n\")\n",
        "    \n",
        "    df_scores_i = pd.DataFrame(columns=ls_cols)\n",
        "\n",
        "    ls_corr = []\n",
        "    ls_p_value = []\n",
        "    ls_conf_low, ls_conf_high = [], []\n",
        "\n",
        "    # Repeat the process applied to the first file for all the rest\n",
        "    # Save the results in a dataframe\n",
        "    for file in ls_files:\n",
        "        print(f\"Processing {file}\")\n",
        "        pearson_stats = corr_with_gold(file, similarity=sim_func)\n",
        "        ls_corr.append(pearson_stats.statistic)\n",
        "        ls_p_value.append(pearson_stats.pvalue)\n",
        "        ls_conf_low.append(pearson_stats.confidence_interval(.95).low)\n",
        "        ls_conf_high.append(pearson_stats.confidence_interval(.95).high)\n",
        "\n",
        "    df_scores_i['file'] = ls_files\n",
        "    df_scores_i['similarity'] = sim_name\n",
        "    df_scores_i['pearson'] = ls_corr\n",
        "    df_scores_i['p_value'] = ls_p_value\n",
        "    df_scores_i['conf_low'] = ls_conf_low\n",
        "    df_scores_i['conf_high'] = ls_conf_high\n",
        "\n",
        "    df_scores = pd.concat([df_scores, df_scores_i], axis=0, ignore_index=True)"
      ]
    },
    {
      "cell_type": "code",
      "execution_count": 91,
      "metadata": {},
      "outputs": [
        {
          "data": {
            "image/png": "[encoded data removed]",
            "text/plain": [
              "<Figure size 1000x500 with 1 Axes>"
            ]
          },
          "metadata": {},
          "output_type": "display_data"
        }
      ],
      "source": [
        "plt.figure(figsize=(10,5))\n",
        "sns.barplot(x='file', y='pearson', hue='similarity', data=df_scores)\n",
        "plt.title('Pearson correlation between similarity and gold standard for different similarity metrics')\n",
        "plt.xticks(rotation=45);"
      ]
    },
    {
      "cell_type": "code",
      "execution_count": 92,
      "metadata": {},
      "outputs": [
        {
          "data": {
            "image/png": "[encoded data removed]",
            "text/plain": [
              "<Figure size 1000x500 with 1 Axes>"
            ]
          },
          "metadata": {},
          "output_type": "display_data"
        }
      ],
      "source": [
        "df_scores_avg = df_scores.groupby(['file']).pearson.mean().reset_index()\n",
        "\n",
        "fig, ax = plt.subplots(1, 1, figsize=(10,5))\n",
        "ax.bar(df_scores_avg.file, [1.]*len(df_scores_avg), color='red', alpha=.6, label='perfect correlation', width=0.5)\n",
        "df_scores_avg.plot.bar(x='file', y='pearson', rot=45, ax=ax,\n",
        "                   title='Average of Pearson correlations with gold standard (4 metrics)', legend=False)\n",
        "ax.set_ylim([0.,1.])\n",
        "fig.legend(['perfect correlation', 'pearson correlation']);"
      ]
    },
    {
      "cell_type": "markdown",
      "metadata": {},
      "source": [
        "## 4. Result Analysis"
      ]
    },
    {
      "cell_type": "markdown",
      "metadata": {},
      "source": [
        "As it's been shown from previous results, the correlation with gold standard is not strongly dependent on the metric used. There are some differences but they are all in the same range.\n",
        "\n",
        "However, important differences can be seen in the correlation between the different datasets. The best results are obtained for the `MSRVid` and `OnWN` datasets, and the worst for the `MSRpar`, `SMTeuroparl`and `SMTNews` dataset. This is probably related to the amount of paraphrases in each dataset."
      ]
    },
    {
      "cell_type": "markdown",
      "metadata": {},
      "source": [
        "In order to get a better understanding of the results, the difference between the gold standard and the similarity scores (rescaled to be between 0 and 5) is checked for each dataset."
      ]
    },
    {
      "cell_type": "markdown",
      "metadata": {},
      "source": [
        "### 4.1. Worst Performing Datasets"
      ]
    },
    {
      "cell_type": "markdown",
      "metadata": {},
      "source": [
        "#### 4.1.1. MSRpar"
      ]
    },
    {
      "cell_type": "markdown",
      "metadata": {},
      "source": [
        "MSRpar is a dataset created by Microsoft Research (MSR) for evaluating text similarity algorithms. It consists of 5801 pairs of sentences collected from various news sources on the web over an 18-month period. Approximately 67% of these pairs are labeled as paraphrases, indicating that they convey similar meanings but not necessarily identical ones. The inter-annotator agreement for this dataset falls between 82% and 84%.\n",
        "\n",
        "MSRpar includes a range of sentence pairs that vary in their degree of semantic similarity. Some pairs are completely unrelated, some partially overlap in meaning, and others are almost but not quite semantically equivalent. This diversity in annotations enriches the dataset with nuanced similarity labels.\n",
        "\n",
        "**Statistic Results**\n",
        "\n",
        "- Displaced distribution (1 out of 5). It can be understood as a miscalibration of the method. \n",
        "- In this case the main reason seems to be the difference between verb tenses, gender, etc as a result of the paraphrasing.\n",
        "- It can be improved with more sofisticated techniques such as lemmatization or stemming."
      ]
    },
    {
      "cell_type": "code",
      "execution_count": 109,
      "metadata": {},
      "outputs": [
        {
          "name": "stdout",
          "output_type": "stream",
          "text": [
            "=====================================================\n",
            "MSRpar\n",
            "=====================================================\n",
            "\n",
            "\n",
            "RAW TEXT (DIFFERENCE -3.33)\n",
            "The company claims it's the largest single Apple VAR Xserve sale to date. \n",
            " The company claimed it is the largest sale of Xserves by an Apple retailer.\n",
            "\n",
            "PREPROCESSED TEXT\n",
            "{'claims', 'single', 'xserve', 'company', 'var', 'largest', 'date', 'apple', 'sale'} \n",
            " {'retailer', 'company', 'largest', 'claimed', 'xserves', 'apple', 'sale'}\n",
            "INTERSECTION {'apple', 'largest', 'company', 'sale'}\n",
            "DIFFERENCE {'var', 'date', 'claims', 'single', 'claimed', 'retailer', 'xserves', 'xserve'}\n",
            "\n",
            "\n",
            "\n",
            "RAW TEXT (DIFFERENCE -3.40)\n",
            "The problem likely will mean corrective changes before the shuttle fleet starts flying again. \n",
            " He said the problem needs to be corrected before the space shuttle fleet is cleared to fly again.\n",
            "\n",
            "PREPROCESSED TEXT\n",
            "{'changes', 'corrective', 'likely', 'fleet', 'starts', 'problem', 'shuttle', 'flying', 'mean'} \n",
            " {'fly', 'needs', 'said', 'corrected', 'fleet', 'problem', 'shuttle', 'cleared', 'space'}\n",
            "INTERSECTION {'problem', 'shuttle', 'fleet'}\n",
            "DIFFERENCE {'fly', 'changes', 'corrective', 'likely', 'needs', 'said', 'corrected', 'starts', 'cleared', 'flying', 'mean', 'space'}\n",
            "\n",
            "\n",
            "\n",
            "RAW TEXT (DIFFERENCE -3.50)\n",
            "The computers were reportedly located in the U.S., Canada and South Korea. \n",
            " The PCs are scattered across the United States, Canada and South Korea.\n",
            "\n",
            "PREPROCESSED TEXT\n",
            "{'located', 'canada', 'south', 'korea', 'us', 'computers', 'reportedly'} \n",
            " {'scattered', 'canada', 'united', 'states', 'pcs', 'korea', 'across', 'south'}\n",
            "INTERSECTION {'south', 'canada', 'korea'}\n",
            "DIFFERENCE {'scattered', 'located', 'united', 'states', 'pcs', 'us', 'across', 'computers', 'reportedly'}\n",
            "\n",
            "\n",
            "\n",
            "RAW TEXT (DIFFERENCE -3.57)\n",
            "BioReliance's stock closed down 2 cents yesterday at $47.98 per share. \n",
            " Shares of BioReliance sold at $47.98 at the close of market yesterday, down 2 cents.\n",
            "\n",
            "PREPROCESSED TEXT\n",
            "{'yesterday', 'share', 'stock', 'cents', '2', 'per', 'bioreliances', '4798', 'closed'} \n",
            " {'bioreliance', 'shares', 'close', 'yesterday', 'cents', '2', '4798', 'market', 'sold'}\n",
            "INTERSECTION {'yesterday', '4798', '2', 'cents'}\n",
            "DIFFERENCE {'bioreliance', 'shares', 'close', 'share', 'stock', 'per', 'bioreliances', 'market', 'closed', 'sold'}\n",
            "\n",
            "\n",
            "\n",
            "RAW TEXT (DIFFERENCE -3.75)\n",
            "Sendmail said the system can even be set up to permit business-only usage. \n",
            " The product can be instructed to permit business-only use, according to Sendmail.\n",
            "\n",
            "PREPROCESSED TEXT\n",
            "{'permit', 'even', 'businessonly', 'said', 'system', 'sendmail', 'set', 'usage'} \n",
            " {'permit', 'use', 'sendmail', 'according', 'instructed', 'businessonly', 'product'}\n",
            "INTERSECTION {'permit', 'businessonly', 'sendmail'}\n",
            "DIFFERENCE {'even', 'use', 'product', 'according', 'instructed', 'said', 'system', 'set', 'usage'}\n",
            "\n",
            "\n",
            "\n"
          ]
        },
        {
          "data": {
            "text/html": [
              "<div>\n",
              "<style scoped>\n",
              "    .dataframe tbody tr th:only-of-type {\n",
              "        vertical-align: middle;\n",
              "    }\n",
              "\n",
              "    .dataframe tbody tr th {\n",
              "        vertical-align: top;\n",
              "    }\n",
              "\n",
              "    .dataframe thead th {\n",
              "        text-align: right;\n",
              "    }\n",
              "</style>\n",
              "<table border=\"1\" class=\"dataframe\">\n",
              "  <thead>\n",
              "    <tr style=\"text-align: right;\">\n",
              "      <th></th>\n",
              "      <th>0</th>\n",
              "      <th>1</th>\n",
              "      <th>gs</th>\n",
              "      <th>sim</th>\n",
              "      <th>dif</th>\n",
              "    </tr>\n",
              "  </thead>\n",
              "  <tbody>\n",
              "    <tr>\n",
              "      <th>0</th>\n",
              "      <td>The problem likely will mean corrective change...</td>\n",
              "      <td>He said the problem needs to be corrected befo...</td>\n",
              "      <td>4.4</td>\n",
              "      <td>1.000000</td>\n",
              "      <td>-3.400000</td>\n",
              "    </tr>\n",
              "    <tr>\n",
              "      <th>1</th>\n",
              "      <td>The technology-laced Nasdaq Composite Index .I...</td>\n",
              "      <td>The broad Standard &amp; Poor's 500 Index .SPX inc...</td>\n",
              "      <td>0.8</td>\n",
              "      <td>0.750000</td>\n",
              "      <td>-0.050000</td>\n",
              "    </tr>\n",
              "    <tr>\n",
              "      <th>2</th>\n",
              "      <td>\"It's a huge black eye,\" said publisher Arthur...</td>\n",
              "      <td>\"It's a huge black eye,\" Arthur Sulzberger, th...</td>\n",
              "      <td>3.6</td>\n",
              "      <td>2.058824</td>\n",
              "      <td>-1.541176</td>\n",
              "    </tr>\n",
              "    <tr>\n",
              "      <th>3</th>\n",
              "      <td>SEC Chairman William Donaldson said there is a...</td>\n",
              "      <td>\"I think there's a building confidence that th...</td>\n",
              "      <td>3.4</td>\n",
              "      <td>1.818182</td>\n",
              "      <td>-1.581818</td>\n",
              "    </tr>\n",
              "    <tr>\n",
              "      <th>4</th>\n",
              "      <td>Vivendi shares closed 1.9 percent at 15.80 eur...</td>\n",
              "      <td>In New York, Vivendi shares were 1.4 percent d...</td>\n",
              "      <td>1.4</td>\n",
              "      <td>1.000000</td>\n",
              "      <td>-0.400000</td>\n",
              "    </tr>\n",
              "  </tbody>\n",
              "</table>\n",
              "</div>"
            ],
            "text/plain": [
              "                                                   0  \\\n",
              "0  The problem likely will mean corrective change...   \n",
              "1  The technology-laced Nasdaq Composite Index .I...   \n",
              "2  \"It's a huge black eye,\" said publisher Arthur...   \n",
              "3  SEC Chairman William Donaldson said there is a...   \n",
              "4  Vivendi shares closed 1.9 percent at 15.80 eur...   \n",
              "\n",
              "                                                   1   gs       sim       dif  \n",
              "0  He said the problem needs to be corrected befo...  4.4  1.000000 -3.400000  \n",
              "1  The broad Standard & Poor's 500 Index .SPX inc...  0.8  0.750000 -0.050000  \n",
              "2  \"It's a huge black eye,\" Arthur Sulzberger, th...  3.6  2.058824 -1.541176  \n",
              "3  \"I think there's a building confidence that th...  3.4  1.818182 -1.581818  \n",
              "4  In New York, Vivendi shares were 1.4 percent d...  1.4  1.000000 -0.400000  "
            ]
          },
          "execution_count": 109,
          "metadata": {},
          "output_type": "execute_result"
        },
        {
          "data": {
            "image/png": "[encoded data removed]",
            "text/plain": [
              "<Figure size 1000x250 with 2 Axes>"
            ]
          },
          "metadata": {},
          "output_type": "display_data"
        }
      ],
      "source": [
        "df_msrpar = ind_report('MSRpar')\n",
        "df_msrpar.head()"
      ]
    },
    {
      "cell_type": "markdown",
      "metadata": {},
      "source": [
        "#### 4.1.2. SMTeuroparl"
      ]
    },
    {
      "cell_type": "markdown",
      "metadata": {},
      "source": [
        "The training data includes all of the Europarl human ranked fr-en system submissions from WMT 2007,\n",
        "with each machine translation being paired with the correct reference translation. This resulted in 729\n",
        "unique training pairs. The test data is comprised of all Europarl human evaluated fr-en pairs from WMT\n",
        "2008 that contain 16 white space delimited tokens or less.\n",
        "\n",
        "As a summary, it's the result of the same translations done by different people.\n",
        "\n",
        "**Statistic Results**\n",
        "- There can be found 2 groups in differences analysis:\n",
        "    - A group of translations whose similarity has been well estimated (aroun 0.5 error). These are probably translations using similar words due to the nature of the sentence (more concrete ones)\n",
        "    - Another one with higher errors (around 3). These are probably translations using different words, determinants or tenses.\n",
        "- This one's performance could be improved with good semantic analysis for words (e.g. using word embeddings)"
      ]
    },
    {
      "cell_type": "code",
      "execution_count": 111,
      "metadata": {},
      "outputs": [
        {
          "name": "stdout",
          "output_type": "stream",
          "text": [
            "=====================================================\n",
            "SMTEuroparl\n",
            "=====================================================\n",
            "\n",
            "\n",
            "RAW TEXT (DIFFERENCE -4.55)\n",
            "That provision could open the door wide to arbitrariness. \n",
            " This regulation point opens the door to the arbitrary one.\n",
            "\n",
            "PREPROCESSED TEXT\n",
            "{'wide', 'door', 'could', 'open', 'arbitrariness', 'provision'} \n",
            " {'one', 'arbitrary', 'door', 'opens', 'regulation', 'point'}\n",
            "INTERSECTION {'door'}\n",
            "DIFFERENCE {'one', 'wide', 'arbitrary', 'opens', 'could', 'regulation', 'point', 'arbitrariness', 'open', 'provision'}\n",
            "\n",
            "\n",
            "\n",
            "RAW TEXT (DIFFERENCE -4.55)\n",
            "That provision could open the door wide to arbitrariness. \n",
            " This point of the regulations opens the door to arbitrary power.\n",
            "\n",
            "PREPROCESSED TEXT\n",
            "{'wide', 'door', 'could', 'open', 'arbitrariness', 'provision'} \n",
            " {'arbitrary', 'door', 'opens', 'point', 'power', 'regulations'}\n",
            "INTERSECTION {'door'}\n",
            "DIFFERENCE {'wide', 'arbitrary', 'opens', 'could', 'point', 'arbitrariness', 'open', 'power', 'regulations', 'provision'}\n",
            "\n",
            "\n",
            "\n",
            "RAW TEXT (DIFFERENCE -4.55)\n",
            "That provision could open the door wide to arbitrariness. \n",
            " This point of the regulations opens the door to the arbitrary one.\n",
            "\n",
            "PREPROCESSED TEXT\n",
            "{'wide', 'door', 'could', 'open', 'arbitrariness', 'provision'} \n",
            " {'one', 'arbitrary', 'door', 'opens', 'point', 'regulations'}\n",
            "INTERSECTION {'door'}\n",
            "DIFFERENCE {'one', 'wide', 'arbitrary', 'opens', 'could', 'point', 'arbitrariness', 'open', 'regulations', 'provision'}\n",
            "\n",
            "\n",
            "\n",
            "RAW TEXT (DIFFERENCE -4.60)\n",
            "Then perhaps we could have avoided a catastrophe. \n",
            " Then we might have been able to avoid a disaster.\n",
            "\n",
            "PREPROCESSED TEXT\n",
            "{'avoided', 'catastrophe', 'could', 'perhaps'} \n",
            " {'disaster', 'able', 'avoid', 'might'}\n",
            "INTERSECTION set()\n",
            "DIFFERENCE {'able', 'could', 'avoided', 'catastrophe', 'disaster', 'might', 'avoid', 'perhaps'}\n",
            "\n",
            "\n",
            "\n",
            "RAW TEXT (DIFFERENCE -4.60)\n",
            "Then perhaps we could have avoided a catastrophe. \n",
            " Then we might have been able to avoid a disaster.\n",
            "\n",
            "PREPROCESSED TEXT\n",
            "{'avoided', 'catastrophe', 'could', 'perhaps'} \n",
            " {'disaster', 'able', 'avoid', 'might'}\n",
            "INTERSECTION set()\n",
            "DIFFERENCE {'able', 'could', 'avoided', 'catastrophe', 'disaster', 'might', 'avoid', 'perhaps'}\n",
            "\n",
            "\n",
            "\n"
          ]
        },
        {
          "data": {
            "text/html": [
              "<div>\n",
              "<style scoped>\n",
              "    .dataframe tbody tr th:only-of-type {\n",
              "        vertical-align: middle;\n",
              "    }\n",
              "\n",
              "    .dataframe tbody tr th {\n",
              "        vertical-align: top;\n",
              "    }\n",
              "\n",
              "    .dataframe thead th {\n",
              "        text-align: right;\n",
              "    }\n",
              "</style>\n",
              "<table border=\"1\" class=\"dataframe\">\n",
              "  <thead>\n",
              "    <tr style=\"text-align: right;\">\n",
              "      <th></th>\n",
              "      <th>0</th>\n",
              "      <th>1</th>\n",
              "      <th>gs</th>\n",
              "      <th>sim</th>\n",
              "      <th>dif</th>\n",
              "    </tr>\n",
              "  </thead>\n",
              "  <tbody>\n",
              "    <tr>\n",
              "      <th>0</th>\n",
              "      <td>The leaders have now been given a new chance a...</td>\n",
              "      <td>The leaders benefit aujourd' hui of a new luck...</td>\n",
              "      <td>4.50</td>\n",
              "      <td>1.428571</td>\n",
              "      <td>-3.071429</td>\n",
              "    </tr>\n",
              "    <tr>\n",
              "      <th>1</th>\n",
              "      <td>Amendment No 7 proposes certain changes in the...</td>\n",
              "      <td>Amendment No 7 is proposing certain changes in...</td>\n",
              "      <td>5.00</td>\n",
              "      <td>3.750000</td>\n",
              "      <td>-1.250000</td>\n",
              "    </tr>\n",
              "    <tr>\n",
              "      <th>2</th>\n",
              "      <td>Let me remind you that our allies include ferv...</td>\n",
              "      <td>I would like to remind you that among our alli...</td>\n",
              "      <td>4.25</td>\n",
              "      <td>1.363636</td>\n",
              "      <td>-2.886364</td>\n",
              "    </tr>\n",
              "    <tr>\n",
              "      <th>3</th>\n",
              "      <td>The vote will take place today at 5.30 p.m.</td>\n",
              "      <td>The vote will take place at 5.30pm</td>\n",
              "      <td>4.50</td>\n",
              "      <td>2.142857</td>\n",
              "      <td>-2.357143</td>\n",
              "    </tr>\n",
              "    <tr>\n",
              "      <th>4</th>\n",
              "      <td>The fishermen are inactive, tired and disappoi...</td>\n",
              "      <td>The fishermen are inactive, tired and disappoi...</td>\n",
              "      <td>5.00</td>\n",
              "      <td>5.000000</td>\n",
              "      <td>0.000000</td>\n",
              "    </tr>\n",
              "  </tbody>\n",
              "</table>\n",
              "</div>"
            ],
            "text/plain": [
              "                                                   0  \\\n",
              "0  The leaders have now been given a new chance a...   \n",
              "1  Amendment No 7 proposes certain changes in the...   \n",
              "2  Let me remind you that our allies include ferv...   \n",
              "3        The vote will take place today at 5.30 p.m.   \n",
              "4  The fishermen are inactive, tired and disappoi...   \n",
              "\n",
              "                                                   1    gs       sim       dif  \n",
              "0  The leaders benefit aujourd' hui of a new luck...  4.50  1.428571 -3.071429  \n",
              "1  Amendment No 7 is proposing certain changes in...  5.00  3.750000 -1.250000  \n",
              "2  I would like to remind you that among our alli...  4.25  1.363636 -2.886364  \n",
              "3                 The vote will take place at 5.30pm  4.50  2.142857 -2.357143  \n",
              "4  The fishermen are inactive, tired and disappoi...  5.00  5.000000  0.000000  "
            ]
          },
          "execution_count": 111,
          "metadata": {},
          "output_type": "execute_result"
        },
        {
          "data": {
            "image/png": "[encoded data removed]",
            "text/plain": [
              "<Figure size 1000x250 with 2 Axes>"
            ]
          },
          "metadata": {},
          "output_type": "display_data"
        }
      ],
      "source": [
        "df_euro = ind_report('SMTEuroparl')\n",
        "df_euro.head()"
      ]
    },
    {
      "cell_type": "markdown",
      "metadata": {},
      "source": [
        "#### 4.1.3. SMTNews"
      ]
    },
    {
      "cell_type": "markdown",
      "metadata": {},
      "source": [
        "Dataset comprising of all the human ranked fr-en system submissions from the WMT 2007 news conversation test set.\n",
        "\n",
        "**Statistic Results**\n",
        "- Similar to the ones obtained for the SMTeuroparl dataset.\n",
        "- It makes sense given the Machine Translation origin of both."
      ]
    },
    {
      "cell_type": "code",
      "execution_count": 113,
      "metadata": {},
      "outputs": [
        {
          "name": "stdout",
          "output_type": "stream",
          "text": [
            "=====================================================\n",
            "surprise.SMTnews\n",
            "=====================================================\n",
            "\n",
            "\n",
            "RAW TEXT (DIFFERENCE -4.60)\n",
            "Other ways are needed. \n",
            " Other means should be found.\n",
            "\n",
            "PREPROCESSED TEXT\n",
            "{'needed', 'ways'} \n",
            " {'found', 'means'}\n",
            "INTERSECTION set()\n",
            "DIFFERENCE {'found', 'means', 'ways', 'needed'}\n",
            "\n",
            "\n",
            "\n",
            "RAW TEXT (DIFFERENCE -4.60)\n",
            "Other ways are needed. \n",
            " Other means should be found.\n",
            "\n",
            "PREPROCESSED TEXT\n",
            "{'needed', 'ways'} \n",
            " {'found', 'means'}\n",
            "INTERSECTION set()\n",
            "DIFFERENCE {'found', 'means', 'ways', 'needed'}\n",
            "\n",
            "\n",
            "\n",
            "RAW TEXT (DIFFERENCE -4.62)\n",
            "Western Europeans, who have been spared this legacy, should heed our warnings. \n",
            " Europeans of the West, who forgot this history, should take account of our warning statements.\n",
            "\n",
            "PREPROCESSED TEXT\n",
            "{'warnings', 'heed', 'europeans', 'western', 'legacy', 'spared'} \n",
            " {'history', 'warning', 'statements', 'europeans', 'forgot', 'account', 'west', 'take'}\n",
            "INTERSECTION {'europeans'}\n",
            "DIFFERENCE {'warnings', 'history', 'warning', 'heed', 'statements', 'take', 'western', 'forgot', 'legacy', 'account', 'west', 'spared'}\n",
            "\n",
            "\n",
            "\n",
            "RAW TEXT (DIFFERENCE -5.00)\n",
            "Being a Muslim and being an Islamist are not the same thing. \n",
            " To be Moslem and be Islamiste are two different things.\n",
            "\n",
            "PREPROCESSED TEXT\n",
            "{'thing', 'muslim', 'islamist'} \n",
            " {'moslem', 'different', 'two', 'things', 'islamiste'}\n",
            "INTERSECTION set()\n",
            "DIFFERENCE {'moslem', 'muslim', 'thing', 'different', 'two', 'things', 'islamiste', 'islamist'}\n",
            "\n",
            "\n",
            "\n",
            "RAW TEXT (DIFFERENCE -5.00)\n",
            "But they were necessary. \n",
            " But they were needed.\n",
            "\n",
            "PREPROCESSED TEXT\n",
            "{'necessary'} \n",
            " {'needed'}\n",
            "INTERSECTION set()\n",
            "DIFFERENCE {'necessary', 'needed'}\n",
            "\n",
            "\n",
            "\n"
          ]
        },
        {
          "data": {
            "text/html": [
              "<div>\n",
              "<style scoped>\n",
              "    .dataframe tbody tr th:only-of-type {\n",
              "        vertical-align: middle;\n",
              "    }\n",
              "\n",
              "    .dataframe tbody tr th {\n",
              "        vertical-align: top;\n",
              "    }\n",
              "\n",
              "    .dataframe thead th {\n",
              "        text-align: right;\n",
              "    }\n",
              "</style>\n",
              "<table border=\"1\" class=\"dataframe\">\n",
              "  <thead>\n",
              "    <tr style=\"text-align: right;\">\n",
              "      <th></th>\n",
              "      <th>0</th>\n",
              "      <th>1</th>\n",
              "      <th>gs</th>\n",
              "      <th>sim</th>\n",
              "      <th>dif</th>\n",
              "    </tr>\n",
              "  </thead>\n",
              "  <tbody>\n",
              "    <tr>\n",
              "      <th>0</th>\n",
              "      <td>The leaders have now been given a new chance a...</td>\n",
              "      <td>The leaders benefit aujourd' hui of a new luck...</td>\n",
              "      <td>4.50</td>\n",
              "      <td>1.428571</td>\n",
              "      <td>-3.071429</td>\n",
              "    </tr>\n",
              "    <tr>\n",
              "      <th>1</th>\n",
              "      <td>Amendment No 7 proposes certain changes in the...</td>\n",
              "      <td>Amendment No 7 is proposing certain changes in...</td>\n",
              "      <td>5.00</td>\n",
              "      <td>3.750000</td>\n",
              "      <td>-1.250000</td>\n",
              "    </tr>\n",
              "    <tr>\n",
              "      <th>2</th>\n",
              "      <td>Let me remind you that our allies include ferv...</td>\n",
              "      <td>I would like to remind you that among our alli...</td>\n",
              "      <td>4.25</td>\n",
              "      <td>1.363636</td>\n",
              "      <td>-2.886364</td>\n",
              "    </tr>\n",
              "    <tr>\n",
              "      <th>3</th>\n",
              "      <td>The vote will take place today at 5.30 p.m.</td>\n",
              "      <td>The vote will take place at 5.30pm</td>\n",
              "      <td>4.50</td>\n",
              "      <td>2.142857</td>\n",
              "      <td>-2.357143</td>\n",
              "    </tr>\n",
              "    <tr>\n",
              "      <th>4</th>\n",
              "      <td>The fishermen are inactive, tired and disappoi...</td>\n",
              "      <td>The fishermen are inactive, tired and disappoi...</td>\n",
              "      <td>5.00</td>\n",
              "      <td>5.000000</td>\n",
              "      <td>0.000000</td>\n",
              "    </tr>\n",
              "  </tbody>\n",
              "</table>\n",
              "</div>"
            ],
            "text/plain": [
              "                                                   0  \\\n",
              "0  The leaders have now been given a new chance a...   \n",
              "1  Amendment No 7 proposes certain changes in the...   \n",
              "2  Let me remind you that our allies include ferv...   \n",
              "3        The vote will take place today at 5.30 p.m.   \n",
              "4  The fishermen are inactive, tired and disappoi...   \n",
              "\n",
              "                                                   1    gs       sim       dif  \n",
              "0  The leaders benefit aujourd' hui of a new luck...  4.50  1.428571 -3.071429  \n",
              "1  Amendment No 7 is proposing certain changes in...  5.00  3.750000 -1.250000  \n",
              "2  I would like to remind you that among our alli...  4.25  1.363636 -2.886364  \n",
              "3                 The vote will take place at 5.30pm  4.50  2.142857 -2.357143  \n",
              "4  The fishermen are inactive, tired and disappoi...  5.00  5.000000  0.000000  "
            ]
          },
          "execution_count": 113,
          "metadata": {},
          "output_type": "execute_result"
        },
        {
          "data": {
            "image/png": "[encoded data removed]",
            "text/plain": [
              "<Figure size 1000x250 with 2 Axes>"
            ]
          },
          "metadata": {},
          "output_type": "display_data"
        }
      ],
      "source": [
        "df_news = ind_report('surprise.SMTnews')\n",
        "df_news.head()"
      ]
    },
    {
      "cell_type": "markdown",
      "metadata": {},
      "source": [
        "### 4.2. Best Performing Datasets"
      ]
    },
    {
      "cell_type": "markdown",
      "metadata": {},
      "source": [
        "#### 4.2.1. MSRvid"
      ]
    },
    {
      "cell_type": "markdown",
      "metadata": {},
      "source": [
        "Contains video descriptions made by different annotators.\n",
        "\n",
        "**Statistic Results**\n",
        "\n",
        "- Most of the differences are around 0 so similarity is well estimated.\n",
        "- There's a constant distributions of negative differences (from -2.5 to 0). The main reason is probably the use of different words to describe the same thing.\n",
        "- There are also positive differences (from 0 to 1.5). The main reason is probably similar words describing different actions. For example \"The kid is playing football\" and \"The kid is playing the piano\".\n",
        "- The differences could be solved in a similar way than for Machine Translation, capturing semantic information."
      ]
    },
    {
      "cell_type": "code",
      "execution_count": 114,
      "metadata": {},
      "outputs": [
        {
          "name": "stdout",
          "output_type": "stream",
          "text": [
            "=====================================================\n",
            "MSRvid\n",
            "=====================================================\n",
            "\n",
            "\n",
            "RAW TEXT (DIFFERENCE -4.00)\n",
            "A man is playing the drums. \n",
            " A man plays the drum.\n",
            "\n",
            "PREPROCESSED TEXT\n",
            "{'man', 'drums', 'playing'} \n",
            " {'man', 'drum', 'plays'}\n",
            "INTERSECTION {'man'}\n",
            "DIFFERENCE {'drum', 'drums', 'playing', 'plays'}\n",
            "\n",
            "\n",
            "\n",
            "RAW TEXT (DIFFERENCE -4.00)\n",
            "A band is performing on a stage. \n",
            " A band is playing onstage.\n",
            "\n",
            "PREPROCESSED TEXT\n",
            "{'band', 'stage', 'performing'} \n",
            " {'band', 'onstage', 'playing'}\n",
            "INTERSECTION {'band'}\n",
            "DIFFERENCE {'onstage', 'stage', 'performing', 'playing'}\n",
            "\n",
            "\n",
            "\n",
            "RAW TEXT (DIFFERENCE -4.00)\n",
            "The lady sliced a tomatoe. \n",
            " Someone is cutting a tomato.\n",
            "\n",
            "PREPROCESSED TEXT\n",
            "{'tomatoe', 'lady', 'sliced'} \n",
            " {'cutting', 'tomato', 'someone'}\n",
            "INTERSECTION set()\n",
            "DIFFERENCE {'lady', 'sliced', 'tomato', 'someone', 'cutting', 'tomatoe'}\n",
            "\n",
            "\n",
            "\n",
            "RAW TEXT (DIFFERENCE -4.00)\n",
            "A person plays a keyboard. \n",
            " Someone is playing a keyboard.\n",
            "\n",
            "PREPROCESSED TEXT\n",
            "{'keyboard', 'person', 'plays'} \n",
            " {'keyboard', 'playing', 'someone'}\n",
            "INTERSECTION {'keyboard'}\n",
            "DIFFERENCE {'person', 'playing', 'someone', 'plays'}\n",
            "\n",
            "\n",
            "\n",
            "RAW TEXT (DIFFERENCE -4.75)\n",
            "The lady peeled the potatoe. \n",
            " A woman is peeling a potato.\n",
            "\n",
            "PREPROCESSED TEXT\n",
            "{'peeled', 'lady', 'potatoe'} \n",
            " {'peeling', 'potato', 'woman'}\n",
            "INTERSECTION set()\n",
            "DIFFERENCE {'peeling', 'peeled', 'potato', 'lady', 'potatoe', 'woman'}\n",
            "\n",
            "\n",
            "\n"
          ]
        },
        {
          "data": {
            "text/html": [
              "<div>\n",
              "<style scoped>\n",
              "    .dataframe tbody tr th:only-of-type {\n",
              "        vertical-align: middle;\n",
              "    }\n",
              "\n",
              "    .dataframe tbody tr th {\n",
              "        vertical-align: top;\n",
              "    }\n",
              "\n",
              "    .dataframe thead th {\n",
              "        text-align: right;\n",
              "    }\n",
              "</style>\n",
              "<table border=\"1\" class=\"dataframe\">\n",
              "  <thead>\n",
              "    <tr style=\"text-align: right;\">\n",
              "      <th></th>\n",
              "      <th>0</th>\n",
              "      <th>1</th>\n",
              "      <th>gs</th>\n",
              "      <th>sim</th>\n",
              "      <th>dif</th>\n",
              "    </tr>\n",
              "  </thead>\n",
              "  <tbody>\n",
              "    <tr>\n",
              "      <th>0</th>\n",
              "      <td>A man with a hard hat is dancing.</td>\n",
              "      <td>A man wearing a hard hat is dancing.</td>\n",
              "      <td>5.00</td>\n",
              "      <td>4.000000</td>\n",
              "      <td>-1.000000</td>\n",
              "    </tr>\n",
              "    <tr>\n",
              "      <th>1</th>\n",
              "      <td>A plane is taking off.</td>\n",
              "      <td>An air plane is taking off.</td>\n",
              "      <td>5.00</td>\n",
              "      <td>3.333333</td>\n",
              "      <td>-1.666667</td>\n",
              "    </tr>\n",
              "    <tr>\n",
              "      <th>2</th>\n",
              "      <td>A young child is riding a horse.</td>\n",
              "      <td>A child is riding a horse.</td>\n",
              "      <td>4.75</td>\n",
              "      <td>3.750000</td>\n",
              "      <td>-1.000000</td>\n",
              "    </tr>\n",
              "    <tr>\n",
              "      <th>3</th>\n",
              "      <td>A man is feeding a mouse to a snake.</td>\n",
              "      <td>The man is feeding a mouse to the snake.</td>\n",
              "      <td>5.00</td>\n",
              "      <td>5.000000</td>\n",
              "      <td>0.000000</td>\n",
              "    </tr>\n",
              "    <tr>\n",
              "      <th>4</th>\n",
              "      <td>A man is playing a large flute.</td>\n",
              "      <td>A man is playing a flute.</td>\n",
              "      <td>3.80</td>\n",
              "      <td>3.750000</td>\n",
              "      <td>-0.050000</td>\n",
              "    </tr>\n",
              "  </tbody>\n",
              "</table>\n",
              "</div>"
            ],
            "text/plain": [
              "                                      0  \\\n",
              "0     A man with a hard hat is dancing.   \n",
              "1                A plane is taking off.   \n",
              "2      A young child is riding a horse.   \n",
              "3  A man is feeding a mouse to a snake.   \n",
              "4       A man is playing a large flute.   \n",
              "\n",
              "                                          1    gs       sim       dif  \n",
              "0      A man wearing a hard hat is dancing.  5.00  4.000000 -1.000000  \n",
              "1               An air plane is taking off.  5.00  3.333333 -1.666667  \n",
              "2                A child is riding a horse.  4.75  3.750000 -1.000000  \n",
              "3  The man is feeding a mouse to the snake.  5.00  5.000000  0.000000  \n",
              "4                 A man is playing a flute.  3.80  3.750000 -0.050000  "
            ]
          },
          "execution_count": 114,
          "metadata": {},
          "output_type": "execute_result"
        },
        {
          "data": {
            "image/png": "[encoded data removed]",
            "text/plain": [
              "<Figure size 1000x250 with 2 Axes>"
            ]
          },
          "metadata": {},
          "output_type": "display_data"
        }
      ],
      "source": [
        "df_msrvid = ind_report('MSRvid')\n",
        "df_msrvid.head()"
      ]
    },
    {
      "cell_type": "markdown",
      "metadata": {},
      "source": [
        "#### 4.2.2 OnWN Dataset"
      ]
    },
    {
      "cell_type": "markdown",
      "metadata": {},
      "source": [
        "The last dataset is radically different as it comprised 750 pairs of glosses from OntoNotes 4.0 (Hovy et al., 2006) and WordNet 3.1 (Fellbaum, 1998) senses. The mapping of the senses of both resources comprised 110K sense pairs.\n",
        "\n",
        "**Statistic Results**\n",
        "- In this case the performance is quite worse than for `MSRvid`. Error distributions are distributed around -2.\n",
        "- The reason in this case is the use of different word to describe the same thing (e.g. \"Bring back to life, return from the dead\" and \"cause to become alive again\")\n",
        "- Stemming/lemmatization and better semantic analysis could be used to improve the results."
      ]
    },
    {
      "cell_type": "code",
      "execution_count": 115,
      "metadata": {},
      "outputs": [
        {
          "name": "stdout",
          "output_type": "stream",
          "text": [
            "=====================================================\n",
            "surprise.OnWN\n",
            "=====================================================\n",
            "\n",
            "\n",
            "RAW TEXT (DIFFERENCE -4.75)\n",
            "restrict or confine \n",
            " place limits on (extent or access).\n",
            "\n",
            "PREPROCESSED TEXT\n",
            "{'restrict', 'confine'} \n",
            " {'access', 'limits', 'extent', 'place'}\n",
            "INTERSECTION set()\n",
            "DIFFERENCE {'restrict', 'limits', 'confine', 'extent', 'access', 'place'}\n",
            "\n",
            "\n",
            "\n",
            "RAW TEXT (DIFFERENCE -4.75)\n",
            "indicate, be signs or symptoms of \n",
            " be a signal for or a symptom of.\n",
            "\n",
            "PREPROCESSED TEXT\n",
            "{'signs', 'indicate', 'symptoms'} \n",
            " {'symptom', 'signal'}\n",
            "INTERSECTION set()\n",
            "DIFFERENCE {'signs', 'indicate', 'symptoms', 'signal', 'symptom'}\n",
            "\n",
            "\n",
            "\n",
            "RAW TEXT (DIFFERENCE -4.75)\n",
            "physically inflate \n",
            " become inflated.\n",
            "\n",
            "PREPROCESSED TEXT\n",
            "{'physically', 'inflate'} \n",
            " {'inflated', 'become'}\n",
            "INTERSECTION set()\n",
            "DIFFERENCE {'inflated', 'become', 'physically', 'inflate'}\n",
            "\n",
            "\n",
            "\n",
            "RAW TEXT (DIFFERENCE -4.75)\n",
            "Bring back to life, return from the dead \n",
            " cause to become alive again.\n",
            "\n",
            "PREPROCESSED TEXT\n",
            "{'dead', 'return', 'back', 'bring', 'life'} \n",
            " {'become', 'alive', 'cause'}\n",
            "INTERSECTION set()\n",
            "DIFFERENCE {'become', 'dead', 'return', 'life', 'alive', 'back', 'cause', 'bring'}\n",
            "\n",
            "\n",
            "\n",
            "RAW TEXT (DIFFERENCE -5.00)\n",
            "have sex with \n",
            " have sexual intercourse with.\n",
            "\n",
            "PREPROCESSED TEXT\n",
            "{'sex'} \n",
            " {'intercourse', 'sexual'}\n",
            "INTERSECTION set()\n",
            "DIFFERENCE {'intercourse', 'sexual', 'sex'}\n",
            "\n",
            "\n",
            "\n"
          ]
        },
        {
          "data": {
            "text/html": [
              "<div>\n",
              "<style scoped>\n",
              "    .dataframe tbody tr th:only-of-type {\n",
              "        vertical-align: middle;\n",
              "    }\n",
              "\n",
              "    .dataframe tbody tr th {\n",
              "        vertical-align: top;\n",
              "    }\n",
              "\n",
              "    .dataframe thead th {\n",
              "        text-align: right;\n",
              "    }\n",
              "</style>\n",
              "<table border=\"1\" class=\"dataframe\">\n",
              "  <thead>\n",
              "    <tr style=\"text-align: right;\">\n",
              "      <th></th>\n",
              "      <th>0</th>\n",
              "      <th>1</th>\n",
              "      <th>gs</th>\n",
              "      <th>sim</th>\n",
              "      <th>dif</th>\n",
              "    </tr>\n",
              "  </thead>\n",
              "  <tbody>\n",
              "    <tr>\n",
              "      <th>0</th>\n",
              "      <td>render one language in another language</td>\n",
              "      <td>restate (words) from one language into another...</td>\n",
              "      <td>5.00</td>\n",
              "      <td>2.500000</td>\n",
              "      <td>-2.500000</td>\n",
              "    </tr>\n",
              "    <tr>\n",
              "      <th>1</th>\n",
              "      <td>nations unified by shared interests, history o...</td>\n",
              "      <td>a group of nations having common interests.</td>\n",
              "      <td>3.25</td>\n",
              "      <td>1.250000</td>\n",
              "      <td>-2.000000</td>\n",
              "    </tr>\n",
              "    <tr>\n",
              "      <th>2</th>\n",
              "      <td>convert into absorbable substances, (as if) wi...</td>\n",
              "      <td>soften or disintegrate by means of chemical ac...</td>\n",
              "      <td>3.25</td>\n",
              "      <td>0.909091</td>\n",
              "      <td>-2.340909</td>\n",
              "    </tr>\n",
              "    <tr>\n",
              "      <th>3</th>\n",
              "      <td>devote or adapt exclusively to an skill, study...</td>\n",
              "      <td>devote oneself to a special area of work.</td>\n",
              "      <td>4.00</td>\n",
              "      <td>1.111111</td>\n",
              "      <td>-2.888889</td>\n",
              "    </tr>\n",
              "    <tr>\n",
              "      <th>4</th>\n",
              "      <td>elevated wooden porch of a house</td>\n",
              "      <td>a porch that resembles the deck on a ship.</td>\n",
              "      <td>3.25</td>\n",
              "      <td>0.714286</td>\n",
              "      <td>-2.535714</td>\n",
              "    </tr>\n",
              "  </tbody>\n",
              "</table>\n",
              "</div>"
            ],
            "text/plain": [
              "                                                   0  \\\n",
              "0            render one language in another language   \n",
              "1  nations unified by shared interests, history o...   \n",
              "2  convert into absorbable substances, (as if) wi...   \n",
              "3  devote or adapt exclusively to an skill, study...   \n",
              "4                   elevated wooden porch of a house   \n",
              "\n",
              "                                                   1    gs       sim       dif  \n",
              "0  restate (words) from one language into another...  5.00  2.500000 -2.500000  \n",
              "1        a group of nations having common interests.  3.25  1.250000 -2.000000  \n",
              "2  soften or disintegrate by means of chemical ac...  3.25  0.909091 -2.340909  \n",
              "3          devote oneself to a special area of work.  4.00  1.111111 -2.888889  \n",
              "4         a porch that resembles the deck on a ship.  3.25  0.714286 -2.535714  "
            ]
          },
          "execution_count": 115,
          "metadata": {},
          "output_type": "execute_result"
        },
        {
          "data": {
            "image/png": "[encoded data removed]",
            "text/plain": [
              "<Figure size 1000x250 with 2 Axes>"
            ]
          },
          "metadata": {},
          "output_type": "display_data"
        }
      ],
      "source": [
        "df_onwn = ind_report('surprise.OnWN')\n",
        "df_onwn.head()"
      ]
    },
    {
      "cell_type": "markdown",
      "metadata": {},
      "source": [
        "## 5. Conclusions"
      ]
    },
    {
      "cell_type": "markdown",
      "metadata": {},
      "source": [
        "- There are mainly 3 kinds of datasets:\n",
        "    - Machine Translations\n",
        "    - Paraphrasing\n",
        "    - Descriptions\n",
        "- In general, this baseline method works well for descriptions (around 70% correlation wimth gold standard) it doesn't for paraphrasing (around 55%) and machine translations (around 40%).\n",
        "- The main reason, is that the current method is not able to capture the semantic meaning of the sentences but only the word overlap.\n",
        "\n",
        "**Future Work**\n",
        "- Improve text preprocessing. Most of the problems are caused by easily fixable things such as text standardization (e.g. lemmatization, stemming, etc)\n",
        "- Use semantic analysis to capture the meaning of the sentences. For example with pretrained word embeddings, entity detections, etc."
      ]
    }
  ],
  "metadata": {
    "colab": {
      "collapsed_sections": [],
      "name": "readPars.ipynb",
      "provenance": []
    },
    "kernelspec": {
      "display_name": "Python 3",
      "name": "python3"
    },
    "language_info": {
      "codemirror_mode": {
        "name": "ipython",
        "version": 3
      },
      "file_extension": ".py",
      "mimetype": "text/x-python",
      "name": "python",
      "nbconvert_exporter": "python",
      "pygments_lexer": "ipython3",
      "version": "3.8.0"
    }
  },
  "nbformat": 4,
  "nbformat_minor": 0
}
