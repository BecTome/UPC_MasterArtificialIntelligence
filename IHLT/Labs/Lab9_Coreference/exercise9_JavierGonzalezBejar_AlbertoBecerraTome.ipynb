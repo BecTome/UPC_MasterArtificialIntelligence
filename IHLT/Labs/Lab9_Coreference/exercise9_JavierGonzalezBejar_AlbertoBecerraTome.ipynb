{
  "cells": [
    {
      "cell_type": "markdown",
      "metadata": {
        "id": "9AmsL2mNqGyI"
      },
      "source": [
        "# Coreference Tool"
      ]
    },
    {
      "cell_type": "markdown",
      "metadata": {},
      "source": [
        "**Warning**: Run in colab because it has problems with spacy version"
      ]
    },
    {
      "cell_type": "code",
      "execution_count": null,
      "metadata": {
        "id": "ZgdJTY44n15f"
      },
      "outputs": [],
      "source": [
        "!pip install spacy-experimental\n",
        "!pip install https://github.com/explosion/spacy-experimental/releases/download/v0.6.1/en_coreference_web_trf-3.4.0a2-py3-none-any.whl\n",
        "import spacy"
      ]
    },
    {
      "cell_type": "markdown",
      "metadata": {
        "id": "_jmRljjRqOb5"
      },
      "source": [
        "## Introduction"
      ]
    },
    {
      "cell_type": "markdown",
      "metadata": {
        "id": "08OWnaCupqCE"
      },
      "source": [
        "Coreference resolution helps in understanding which words or phrases in the text refer to the same entity. This is crucial for tasks such as text understanding, question answering, and summarization, where maintaining a consistent representation of entities is essential. The clusters provide a way to link different mentions of the same entity, improving the overall understanding of the text."
      ]
    },
    {
      "cell_type": "markdown",
      "metadata": {
        "id": "cXq8VVSpqR1S"
      },
      "source": [
        "## Provided Example"
      ]
    },
    {
      "cell_type": "code",
      "execution_count": 2,
      "metadata": {
        "colab": {
          "base_uri": "https://localhost:8080/"
        },
        "id": "P4Sh2SBolqJy",
        "outputId": "b02f4f44-e138-4798-cf1f-4a409697bdd0"
      },
      "outputs": [
        {
          "data": {
            "text/plain": [
              "{'coref_clusters_1': [My sister, She], 'coref_clusters_2': [a dog, him]}"
            ]
          },
          "execution_count": 2,
          "metadata": {},
          "output_type": "execute_result"
        }
      ],
      "source": [
        "# get nlp object\n",
        "nlp = spacy.load('en_coreference_web_trf')\n",
        "doc = nlp(u'My sister has a dog. She loves him.')\n",
        "doc.spans"
      ]
    },
    {
      "cell_type": "markdown",
      "metadata": {
        "id": "BESG7ZzgqWWk"
      },
      "source": [
        "## Exercise"
      ]
    },
    {
      "cell_type": "markdown",
      "metadata": {
        "id": "ZcuLJi2MqcXd"
      },
      "source": [
        "- Apply the spaCy coreference solver to the previous paragraph.\n",
        "\n",
        "- Show the coreference chains.\n",
        "\n",
        "- What do you think about them? Justify your answer."
      ]
    },
    {
      "cell_type": "code",
      "execution_count": 4,
      "metadata": {
        "id": "J40Yf6pAnt0R"
      },
      "outputs": [],
      "source": [
        "text =\\\n",
        "'''\n",
        "Alice was beginning to get very tired of sitting by her sister on the\n",
        "bank, and of having nothing to do: once or twice she had peeped into\n",
        "the book her sister was reading, but it had no pictures or\n",
        "conversations in it, \"and what is the use of a book,\" thought Alice\n",
        "\"without pictures or conversations?\"\n",
        "'''"
      ]
    },
    {
      "cell_type": "code",
      "execution_count": 5,
      "metadata": {
        "id": "ypQsg44woORG"
      },
      "outputs": [],
      "source": [
        "doc_ex = nlp(text)"
      ]
    },
    {
      "cell_type": "code",
      "execution_count": 8,
      "metadata": {
        "colab": {
          "base_uri": "https://localhost:8080/"
        },
        "id": "qtv7Yr1zoYxg",
        "outputId": "b9bc8b4a-d1d6-467a-a3d3-d168b0574b05"
      },
      "outputs": [
        {
          "name": "stdout",
          "output_type": "stream",
          "text": [
            "coref_clusters_1 [Alice, her, she, her, Alice]\n",
            "coref_clusters_2 [her sister, her sister]\n",
            "coref_clusters_3 [the book her sister was reading, it, it]\n"
          ]
        }
      ],
      "source": [
        "coref_clus = doc_ex.spans\n",
        "for cluster, corefs in coref_clus.items():\n",
        "  print(cluster, corefs)"
      ]
    },
    {
      "cell_type": "markdown",
      "metadata": {
        "id": "SbUmRv7rok5_"
      },
      "source": [
        "1. **Cluster 1:** Refers to the character \"Alice.\" In the text, various pronouns such as \"her\" and \"she\" are used to refer to Alice.\n",
        "\n",
        "2. **Cluster 2:** Refers to \"her sister.\" In the text, the phrase \"her sister\" is used consistently to represent the same character.\n",
        "\n",
        "3. **Cluster 3:** Refers to \"the book her sister was reading.\" In the text, the pronoun \"it\" is used to refer to this book. This cluster illustrates coreference between a more complex expression and a pronoun.\n",
        "\n"
      ]
    }
  ],
  "metadata": {
    "colab": {
      "provenance": []
    },
    "kernelspec": {
      "display_name": "Python 3",
      "name": "python3"
    },
    "language_info": {
      "name": "python",
      "version": "3.8.0"
    }
  },
  "nbformat": 4,
  "nbformat_minor": 0
}
