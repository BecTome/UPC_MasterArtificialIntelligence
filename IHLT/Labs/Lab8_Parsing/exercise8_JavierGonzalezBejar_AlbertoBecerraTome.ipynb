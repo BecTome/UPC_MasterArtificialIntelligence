{
 "cells": [
  {
   "cell_type": "markdown",
   "metadata": {},
   "source": [
    "# Lab.8: Parsing"
   ]
  },
  {
   "cell_type": "markdown",
   "metadata": {},
   "source": [
    "Consider the following sentence:\n",
    "\n",
    "```\n",
    "Lazy cats play with mice.\n",
    "```\n",
    "\n",
    "- Expand the grammar of the example related to non-probabilistic chart parsers in order to subsume this new sentence.\n",
    "\n",
    "- Perform the constituency parsing using a BottomUpChartParser, a BottomUpLeftCornerChartParser and a LeftCornerChartParser.\n",
    "\n",
    "- For each one of them, provide the resulting tree, the number of edges and the list of explored edges.\n",
    "\n",
    "- Which parser is the most efficient for parsing the sentence?\n",
    "\n",
    "- Which edges are filtered out by each parser and why?"
   ]
  },
  {
   "cell_type": "code",
   "execution_count": 1,
   "metadata": {},
   "outputs": [
    {
     "name": "stderr",
     "output_type": "stream",
     "text": [
      "[nltk_data] Downloading package punkt to /home/alberto/nltk_data...\n",
      "[nltk_data]   Package punkt is already up-to-date!\n",
      "[nltk_data] Downloading package averaged_perceptron_tagger to\n",
      "[nltk_data]     /home/alberto/nltk_data...\n",
      "[nltk_data]   Package averaged_perceptron_tagger is already up-to-\n",
      "[nltk_data]       date!\n",
      "[nltk_data] Downloading package wordnet to /home/alberto/nltk_data...\n",
      "[nltk_data]   Package wordnet is already up-to-date!\n",
      "[nltk_data] Downloading package omw-1.4 to /home/alberto/nltk_data...\n",
      "[nltk_data]   Package omw-1.4 is already up-to-date!\n"
     ]
    },
    {
     "data": {
      "text/plain": [
       "True"
      ]
     },
     "execution_count": 1,
     "metadata": {},
     "output_type": "execute_result"
    }
   ],
   "source": [
    "import nltk\n",
    "import svgling\n",
    "\n",
    "nltk.download('punkt')\n",
    "nltk.download('averaged_perceptron_tagger')\n",
    "nltk.download('wordnet')\n",
    "nltk.download('omw-1.4')"
   ]
  },
  {
   "cell_type": "markdown",
   "metadata": {},
   "source": [
    "## Provided Example"
   ]
  },
  {
   "cell_type": "code",
   "execution_count": 2,
   "metadata": {},
   "outputs": [
    {
     "name": "stdout",
     "output_type": "stream",
     "text": [
      "|.  small  .   cats  .   and   .   mice  .|\n",
      "|[---------]         .         .         .| [0:1] 'small'\n",
      "|.         [---------]         .         .| [1:2] 'cats'\n",
      "|.         .         [---------]         .| [2:3] 'and'\n",
      "|.         .         .         [---------]| [3:4] 'mice'\n",
      "|[---------]         .         .         .| [0:1] JJ -> 'small' *\n",
      "|[--------->         .         .         .| [0:1] NP -> JJ * NNS\n",
      "|.         [---------]         .         .| [1:2] NNS -> 'cats' *\n",
      "|.         [---------]         .         .| [1:2] NP -> NNS *\n",
      "|.         [--------->         .         .| [1:2] NNS -> NNS * CC NNS\n",
      "|[-------------------]         .         .| [0:2] NP -> JJ NNS *\n",
      "|[------------------->         .         .| [0:2] NP -> NP * CC NP\n",
      "|.         [--------->         .         .| [1:2] NP -> NP * CC NP\n",
      "|.         .         [---------]         .| [2:3] CC -> 'and' *\n",
      "|.         [------------------->         .| [1:3] NNS -> NNS CC * NNS\n",
      "|[----------------------------->         .| [0:3] NP -> NP CC * NP\n",
      "|.         [------------------->         .| [1:3] NP -> NP CC * NP\n",
      "|.         .         .         [---------]| [3:4] NNS -> 'mice' *\n",
      "|.         .         .         [---------]| [3:4] NP -> NNS *\n",
      "|.         .         .         [--------->| [3:4] NNS -> NNS * CC NNS\n",
      "|.         [-----------------------------]| [1:4] NNS -> NNS CC NNS *\n",
      "|.         [-----------------------------]| [1:4] NP -> NNS *\n",
      "|.         [----------------------------->| [1:4] NNS -> NNS * CC NNS\n",
      "|[=======================================]| [0:4] NP -> JJ NNS *\n",
      "|[--------------------------------------->| [0:4] NP -> NP * CC NP\n",
      "|.         [----------------------------->| [1:4] NP -> NP * CC NP\n",
      "|.         .         .         [--------->| [3:4] NP -> NP * CC NP\n",
      "|[=======================================]| [0:4] NP -> NP CC NP *\n",
      "|.         [-----------------------------]| [1:4] NP -> NP CC NP *\n",
      "|.         [----------------------------->| [1:4] NP -> NP * CC NP\n",
      "|[--------------------------------------->| [0:4] NP -> NP * CC NP\n"
     ]
    },
    {
     "data": {
      "image/svg+xml": [
       "<svg baseProfile=\"full\" height=\"168px\" preserveAspectRatio=\"xMidYMid meet\" style=\"font-family: times, serif; font-weight: normal; font-style: normal; font-size: 16px;\" version=\"1.1\" viewBox=\"0,0,192.0,168.0\" width=\"192px\" xmlns=\"http://www.w3.org/2000/svg\" xmlns:ev=\"http://www.w3.org/2001/xml-events\" xmlns:xlink=\"http://www.w3.org/1999/xlink\"><defs /><svg width=\"100%\" x=\"0\" y=\"0px\"><defs /><text text-anchor=\"middle\" x=\"50%\" y=\"16px\">NP</text></svg><svg width=\"29.1667%\" x=\"0%\" y=\"48px\"><defs /><svg width=\"100%\" x=\"0\" y=\"0px\"><defs /><text text-anchor=\"middle\" x=\"50%\" y=\"16px\">JJ</text></svg><svg width=\"100%\" x=\"0%\" y=\"48px\"><defs /><svg width=\"100%\" x=\"0\" y=\"0px\"><defs /><text text-anchor=\"middle\" x=\"50%\" y=\"16px\">small</text></svg></svg><line stroke=\"black\" x1=\"50%\" x2=\"50%\" y1=\"19.2px\" y2=\"48px\" /></svg><line stroke=\"black\" x1=\"50%\" x2=\"14.5833%\" y1=\"19.2px\" y2=\"48px\" /><svg width=\"70.8333%\" x=\"29.1667%\" y=\"48px\"><defs /><svg width=\"100%\" x=\"0\" y=\"0px\"><defs /><text text-anchor=\"middle\" x=\"50%\" y=\"16px\">NNS</text></svg><svg width=\"35.2941%\" x=\"0%\" y=\"48px\"><defs /><svg width=\"100%\" x=\"0\" y=\"0px\"><defs /><text text-anchor=\"middle\" x=\"50%\" y=\"16px\">NNS</text></svg><svg width=\"100%\" x=\"0%\" y=\"48px\"><defs /><svg width=\"100%\" x=\"0\" y=\"0px\"><defs /><text text-anchor=\"middle\" x=\"50%\" y=\"16px\">cats</text></svg></svg><line stroke=\"black\" x1=\"50%\" x2=\"50%\" y1=\"19.2px\" y2=\"48px\" /></svg><line stroke=\"black\" x1=\"50%\" x2=\"17.6471%\" y1=\"19.2px\" y2=\"48px\" /><svg width=\"29.4118%\" x=\"35.2941%\" y=\"48px\"><defs /><svg width=\"100%\" x=\"0\" y=\"0px\"><defs /><text text-anchor=\"middle\" x=\"50%\" y=\"16px\">CC</text></svg><svg width=\"100%\" x=\"0%\" y=\"48px\"><defs /><svg width=\"100%\" x=\"0\" y=\"0px\"><defs /><text text-anchor=\"middle\" x=\"50%\" y=\"16px\">and</text></svg></svg><line stroke=\"black\" x1=\"50%\" x2=\"50%\" y1=\"19.2px\" y2=\"48px\" /></svg><line stroke=\"black\" x1=\"50%\" x2=\"50%\" y1=\"19.2px\" y2=\"48px\" /><svg width=\"35.2941%\" x=\"64.7059%\" y=\"48px\"><defs /><svg width=\"100%\" x=\"0\" y=\"0px\"><defs /><text text-anchor=\"middle\" x=\"50%\" y=\"16px\">NNS</text></svg><svg width=\"100%\" x=\"0%\" y=\"48px\"><defs /><svg width=\"100%\" x=\"0\" y=\"0px\"><defs /><text text-anchor=\"middle\" x=\"50%\" y=\"16px\">mice</text></svg></svg><line stroke=\"black\" x1=\"50%\" x2=\"50%\" y1=\"19.2px\" y2=\"48px\" /></svg><line stroke=\"black\" x1=\"50%\" x2=\"82.3529%\" y1=\"19.2px\" y2=\"48px\" /></svg><line stroke=\"black\" x1=\"50%\" x2=\"64.5833%\" y1=\"19.2px\" y2=\"48px\" /></svg>"
      ],
      "text/plain": [
       "TreeLayout(Tree('NP', [Tree('JJ', ['small']), Tree('NNS', [Tree('NNS', ['cats']), Tree('CC', ['and']), Tree('NNS', ['mice'])])]))"
      ]
     },
     "metadata": {},
     "output_type": "display_data"
    },
    {
     "data": {
      "image/svg+xml": [
       "<svg baseProfile=\"full\" height=\"168px\" preserveAspectRatio=\"xMidYMid meet\" style=\"font-family: times, serif; font-weight: normal; font-style: normal; font-size: 16px;\" version=\"1.1\" viewBox=\"0,0,192.0,168.0\" width=\"192px\" xmlns=\"http://www.w3.org/2000/svg\" xmlns:ev=\"http://www.w3.org/2001/xml-events\" xmlns:xlink=\"http://www.w3.org/1999/xlink\"><defs /><svg width=\"100%\" x=\"0\" y=\"0px\"><defs /><text text-anchor=\"middle\" x=\"50%\" y=\"16px\">NP</text></svg><svg width=\"54.1667%\" x=\"0%\" y=\"48px\"><defs /><svg width=\"100%\" x=\"0\" y=\"0px\"><defs /><text text-anchor=\"middle\" x=\"50%\" y=\"16px\">NP</text></svg><svg width=\"53.8462%\" x=\"0%\" y=\"48px\"><defs /><svg width=\"100%\" x=\"0\" y=\"0px\"><defs /><text text-anchor=\"middle\" x=\"50%\" y=\"16px\">JJ</text></svg><svg width=\"100%\" x=\"0%\" y=\"48px\"><defs /><svg width=\"100%\" x=\"0\" y=\"0px\"><defs /><text text-anchor=\"middle\" x=\"50%\" y=\"16px\">small</text></svg></svg><line stroke=\"black\" x1=\"50%\" x2=\"50%\" y1=\"19.2px\" y2=\"48px\" /></svg><line stroke=\"black\" x1=\"50%\" x2=\"26.9231%\" y1=\"19.2px\" y2=\"48px\" /><svg width=\"46.1538%\" x=\"53.8462%\" y=\"48px\"><defs /><svg width=\"100%\" x=\"0\" y=\"0px\"><defs /><text text-anchor=\"middle\" x=\"50%\" y=\"16px\">NNS</text></svg><svg width=\"100%\" x=\"0%\" y=\"48px\"><defs /><svg width=\"100%\" x=\"0\" y=\"0px\"><defs /><text text-anchor=\"middle\" x=\"50%\" y=\"16px\">cats</text></svg></svg><line stroke=\"black\" x1=\"50%\" x2=\"50%\" y1=\"19.2px\" y2=\"48px\" /></svg><line stroke=\"black\" x1=\"50%\" x2=\"76.9231%\" y1=\"19.2px\" y2=\"48px\" /></svg><line stroke=\"black\" x1=\"50%\" x2=\"27.0833%\" y1=\"19.2px\" y2=\"48px\" /><svg width=\"20.8333%\" x=\"54.1667%\" y=\"48px\"><defs /><svg width=\"100%\" x=\"0\" y=\"0px\"><defs /><text text-anchor=\"middle\" x=\"50%\" y=\"16px\">CC</text></svg><svg width=\"100%\" x=\"0%\" y=\"48px\"><defs /><svg width=\"100%\" x=\"0\" y=\"0px\"><defs /><text text-anchor=\"middle\" x=\"50%\" y=\"16px\">and</text></svg></svg><line stroke=\"black\" x1=\"50%\" x2=\"50%\" y1=\"19.2px\" y2=\"48px\" /></svg><line stroke=\"black\" x1=\"50%\" x2=\"64.5833%\" y1=\"19.2px\" y2=\"48px\" /><svg width=\"25%\" x=\"75%\" y=\"48px\"><defs /><svg width=\"100%\" x=\"0\" y=\"0px\"><defs /><text text-anchor=\"middle\" x=\"50%\" y=\"16px\">NP</text></svg><svg width=\"100%\" x=\"0%\" y=\"48px\"><defs /><svg width=\"100%\" x=\"0\" y=\"0px\"><defs /><text text-anchor=\"middle\" x=\"50%\" y=\"16px\">NNS</text></svg><svg width=\"100%\" x=\"0%\" y=\"48px\"><defs /><svg width=\"100%\" x=\"0\" y=\"0px\"><defs /><text text-anchor=\"middle\" x=\"50%\" y=\"16px\">mice</text></svg></svg><line stroke=\"black\" x1=\"50%\" x2=\"50%\" y1=\"19.2px\" y2=\"48px\" /></svg><line stroke=\"black\" x1=\"50%\" x2=\"50%\" y1=\"19.2px\" y2=\"48px\" /></svg><line stroke=\"black\" x1=\"50%\" x2=\"87.5%\" y1=\"19.2px\" y2=\"48px\" /></svg>"
      ],
      "text/plain": [
       "TreeLayout(Tree('NP', [Tree('NP', [Tree('JJ', ['small']), Tree('NNS', ['cats'])]), Tree('CC', ['and']), Tree('NP', [Tree('NNS', ['mice'])])]))"
      ]
     },
     "metadata": {},
     "output_type": "display_data"
    },
    {
     "name": "stdout",
     "output_type": "stream",
     "text": [
      "Number of trees 2\n"
     ]
    }
   ],
   "source": [
    "grammar1 = nltk.CFG.fromstring('''\n",
    "                                NP  -> NNS | JJ NNS | NP CC NP\n",
    "                                NNS -> \"cats\" | \"dogs\" | \"mice\" | NNS CC NNS \n",
    "                                JJ  -> \"big\" | \"small\"\n",
    "                                CC  -> \"and\" | \"or\"\n",
    "                                ''')\n",
    "\n",
    "parser = nltk.ChartParser(grammar1, trace=1)\n",
    "\n",
    "sent = ['small','cats','and','mice']\n",
    "\n",
    "parse = parser.parse(sent)\n",
    "\n",
    "ts = []\n",
    "for t in parse:\n",
    "  ts.append(t)\n",
    "  display(svgling.draw_tree(t))\n",
    "  \n",
    "print('Number of trees', len(ts))\n",
    "\n"
   ]
  },
  {
   "cell_type": "markdown",
   "metadata": {},
   "source": [
    "## Expand Grammar"
   ]
  },
  {
   "cell_type": "markdown",
   "metadata": {},
   "source": [
    "In order to subsume our new sentence, we need to add the following rules to the grammar:"
   ]
  },
  {
   "cell_type": "code",
   "execution_count": 56,
   "metadata": {},
   "outputs": [],
   "source": [
    "\n",
    "sentence = \"Lazy cats play with mice\"\n",
    "grammar = nltk.CFG.fromstring('''\n",
    "                                S   -> NP VP\n",
    "                                NP  -> NNS | JJ NNS | NP CC NP\n",
    "                                VP  -> VB NP | VB | VB PP\n",
    "                                PP  -> IN NP\n",
    "                                NNS -> \"cats\" | \"dogs\" | \"mice\" | NNS CC NNS \n",
    "                                JJ  -> \"big\" | \"small\" | \"lazy\"\n",
    "                                CC  -> \"and\" | \"or\"\n",
    "                                IN  -> \"with\"\n",
    "                                VB  -> \"play\"\n",
    "                                ''')\n",
    "\n",
    "parser = nltk.ChartParser(grammar, trace=1)\n"
   ]
  },
  {
   "cell_type": "markdown",
   "metadata": {},
   "source": [
    "## Constituency Parsers"
   ]
  },
  {
   "cell_type": "code",
   "execution_count": 64,
   "metadata": {},
   "outputs": [
    {
     "name": "stdout",
     "output_type": "stream",
     "text": [
      "=====================================\n",
      "Parser: BottomUpChartParser\n",
      "=====================================\n",
      "|.  lazy .  cats .  play .  with .  mice .|\n",
      "|[-------]       .       .       .       .| [0:1] 'lazy'\n",
      "|.       [-------]       .       .       .| [1:2] 'cats'\n",
      "|.       .       [-------]       .       .| [2:3] 'play'\n",
      "|.       .       .       [-------]       .| [3:4] 'with'\n",
      "|.       .       .       .       [-------]| [4:5] 'mice'\n",
      "|>       .       .       .       .       .| [0:0] JJ -> * 'lazy'\n",
      "|[-------]       .       .       .       .| [0:1] JJ -> 'lazy' *\n",
      "|>       .       .       .       .       .| [0:0] NP -> * JJ NNS\n",
      "|[------->       .       .       .       .| [0:1] NP -> JJ * NNS\n",
      "|.       >       .       .       .       .| [1:1] NNS -> * 'cats'\n",
      "|.       [-------]       .       .       .| [1:2] NNS -> 'cats' *\n",
      "|.       >       .       .       .       .| [1:1] NP -> * NNS\n",
      "|.       >       .       .       .       .| [1:1] NNS -> * NNS CC NNS\n",
      "|[---------------]       .       .       .| [0:2] NP -> JJ NNS *\n",
      "|.       [-------]       .       .       .| [1:2] NP -> NNS *\n",
      "|.       [------->       .       .       .| [1:2] NNS -> NNS * CC NNS\n",
      "|.       >       .       .       .       .| [1:1] S  -> * NP VP\n",
      "|.       >       .       .       .       .| [1:1] NP -> * NP CC NP\n",
      "|.       [------->       .       .       .| [1:2] S  -> NP * VP\n",
      "|.       [------->       .       .       .| [1:2] NP -> NP * CC NP\n",
      "|>       .       .       .       .       .| [0:0] S  -> * NP VP\n",
      "|>       .       .       .       .       .| [0:0] NP -> * NP CC NP\n",
      "|[--------------->       .       .       .| [0:2] S  -> NP * VP\n",
      "|[--------------->       .       .       .| [0:2] NP -> NP * CC NP\n",
      "|.       .       >       .       .       .| [2:2] VB -> * 'play'\n",
      "|.       .       [-------]       .       .| [2:3] VB -> 'play' *\n",
      "|.       .       >       .       .       .| [2:2] VP -> * VB NP\n",
      "|.       .       >       .       .       .| [2:2] VP -> * VB\n",
      "|.       .       >       .       .       .| [2:2] VP -> * VB PP\n",
      "|.       .       [------->       .       .| [2:3] VP -> VB * NP\n",
      "|.       .       [-------]       .       .| [2:3] VP -> VB *\n",
      "|.       .       [------->       .       .| [2:3] VP -> VB * PP\n",
      "|.       [---------------]       .       .| [1:3] S  -> NP VP *\n",
      "|[-----------------------]       .       .| [0:3] S  -> NP VP *\n",
      "|.       .       .       >       .       .| [3:3] IN -> * 'with'\n",
      "|.       .       .       [-------]       .| [3:4] IN -> 'with' *\n",
      "|.       .       .       >       .       .| [3:3] PP -> * IN NP\n",
      "|.       .       .       [------->       .| [3:4] PP -> IN * NP\n",
      "|.       .       .       .       >       .| [4:4] NNS -> * 'mice'\n",
      "|.       .       .       .       [-------]| [4:5] NNS -> 'mice' *\n",
      "|.       .       .       .       >       .| [4:4] NP -> * NNS\n",
      "|.       .       .       .       >       .| [4:4] NNS -> * NNS CC NNS\n",
      "|.       .       .       .       [-------]| [4:5] NP -> NNS *\n",
      "|.       .       .       .       [------->| [4:5] NNS -> NNS * CC NNS\n",
      "|.       .       .       .       >       .| [4:4] S  -> * NP VP\n",
      "|.       .       .       .       >       .| [4:4] NP -> * NP CC NP\n",
      "|.       .       .       [---------------]| [3:5] PP -> IN NP *\n",
      "|.       .       .       .       [------->| [4:5] S  -> NP * VP\n",
      "|.       .       .       .       [------->| [4:5] NP -> NP * CC NP\n",
      "|.       .       [-----------------------]| [2:5] VP -> VB PP *\n",
      "|.       [-------------------------------]| [1:5] S  -> NP VP *\n",
      "|[=======================================]| [0:5] S  -> NP VP *\n",
      "|.  lazy .  cats .  play .  with .  mice .|\n",
      "|[-------]       .       .       .       .| [0:1] 'lazy'\n",
      "|.       [-------]       .       .       .| [1:2] 'cats'\n",
      "|.       .       [-------]       .       .| [2:3] 'play'\n",
      "|.       .       .       [-------]       .| [3:4] 'with'\n",
      "|.       .       .       .       [-------]| [4:5] 'mice'\n",
      "|>       .       .       .       .       .| [0:0] JJ -> * 'lazy'\n",
      "|[-------]       .       .       .       .| [0:1] JJ -> 'lazy' *\n",
      "|>       .       .       .       .       .| [0:0] NP -> * JJ NNS\n",
      "|[------->       .       .       .       .| [0:1] NP -> JJ * NNS\n",
      "|.       >       .       .       .       .| [1:1] NNS -> * 'cats'\n",
      "|.       [-------]       .       .       .| [1:2] NNS -> 'cats' *\n",
      "|.       >       .       .       .       .| [1:1] NP -> * NNS\n",
      "|.       >       .       .       .       .| [1:1] NNS -> * NNS CC NNS\n",
      "|[---------------]       .       .       .| [0:2] NP -> JJ NNS *\n",
      "|.       [-------]       .       .       .| [1:2] NP -> NNS *\n",
      "|.       [------->       .       .       .| [1:2] NNS -> NNS * CC NNS\n",
      "|.       >       .       .       .       .| [1:1] S  -> * NP VP\n",
      "|.       >       .       .       .       .| [1:1] NP -> * NP CC NP\n",
      "|.       [------->       .       .       .| [1:2] S  -> NP * VP\n",
      "|.       [------->       .       .       .| [1:2] NP -> NP * CC NP\n",
      "|>       .       .       .       .       .| [0:0] S  -> * NP VP\n",
      "|>       .       .       .       .       .| [0:0] NP -> * NP CC NP\n",
      "|[--------------->       .       .       .| [0:2] S  -> NP * VP\n",
      "|[--------------->       .       .       .| [0:2] NP -> NP * CC NP\n",
      "|.       .       >       .       .       .| [2:2] VB -> * 'play'\n",
      "|.       .       [-------]       .       .| [2:3] VB -> 'play' *\n",
      "|.       .       >       .       .       .| [2:2] VP -> * VB NP\n",
      "|.       .       >       .       .       .| [2:2] VP -> * VB\n",
      "|.       .       >       .       .       .| [2:2] VP -> * VB PP\n",
      "|.       .       [------->       .       .| [2:3] VP -> VB * NP\n",
      "|.       .       [-------]       .       .| [2:3] VP -> VB *\n",
      "|.       .       [------->       .       .| [2:3] VP -> VB * PP\n",
      "|.       [---------------]       .       .| [1:3] S  -> NP VP *\n",
      "|[-----------------------]       .       .| [0:3] S  -> NP VP *\n",
      "|.       .       .       >       .       .| [3:3] IN -> * 'with'\n",
      "|.       .       .       [-------]       .| [3:4] IN -> 'with' *\n",
      "|.       .       .       >       .       .| [3:3] PP -> * IN NP\n",
      "|.       .       .       [------->       .| [3:4] PP -> IN * NP\n",
      "|.       .       .       .       >       .| [4:4] NNS -> * 'mice'\n",
      "|.       .       .       .       [-------]| [4:5] NNS -> 'mice' *\n",
      "|.       .       .       .       >       .| [4:4] NP -> * NNS\n",
      "|.       .       .       .       >       .| [4:4] NNS -> * NNS CC NNS\n",
      "|.       .       .       .       [-------]| [4:5] NP -> NNS *\n",
      "|.       .       .       .       [------->| [4:5] NNS -> NNS * CC NNS\n",
      "|.       .       .       .       >       .| [4:4] S  -> * NP VP\n",
      "|.       .       .       .       >       .| [4:4] NP -> * NP CC NP\n",
      "|.       .       .       [---------------]| [3:5] PP -> IN NP *\n",
      "|.       .       .       .       [------->| [4:5] S  -> NP * VP\n",
      "|.       .       .       .       [------->| [4:5] NP -> NP * CC NP\n",
      "|.       .       [-----------------------]| [2:5] VP -> VB PP *\n",
      "|.       [-------------------------------]| [1:5] S  -> NP VP *\n",
      "|[=======================================]| [0:5] S  -> NP VP *\n",
      "\n",
      "\n",
      "Explored Edges:\n",
      "[0:1] 'lazy'\n",
      "[1:2] 'cats'\n",
      "[2:3] 'play'\n",
      "[3:4] 'with'\n",
      "[4:5] 'mice'\n",
      "[0:0] JJ -> * 'lazy'\n",
      "[0:1] JJ -> 'lazy' *\n",
      "[0:0] NP -> * JJ NNS\n",
      "[0:1] NP -> JJ * NNS\n",
      "[1:1] NNS -> * 'cats'\n",
      "[1:2] NNS -> 'cats' *\n",
      "[1:1] NP -> * NNS\n",
      "[1:1] NNS -> * NNS CC NNS\n",
      "[0:2] NP -> JJ NNS *\n",
      "[1:2] NP -> NNS *\n",
      "[1:2] NNS -> NNS * CC NNS\n",
      "[1:1] S  -> * NP VP\n",
      "[1:1] NP -> * NP CC NP\n",
      "[1:2] S  -> NP * VP\n",
      "[1:2] NP -> NP * CC NP\n",
      "[0:0] S  -> * NP VP\n",
      "[0:0] NP -> * NP CC NP\n",
      "[0:2] S  -> NP * VP\n",
      "[0:2] NP -> NP * CC NP\n",
      "[2:2] VB -> * 'play'\n",
      "[2:3] VB -> 'play' *\n",
      "[2:2] VP -> * VB NP\n",
      "[2:2] VP -> * VB\n",
      "[2:2] VP -> * VB PP\n",
      "[2:3] VP -> VB * NP\n",
      "[2:3] VP -> VB *\n",
      "[2:3] VP -> VB * PP\n",
      "[1:3] S  -> NP VP *\n",
      "[0:3] S  -> NP VP *\n",
      "[3:3] IN -> * 'with'\n",
      "[3:4] IN -> 'with' *\n",
      "[3:3] PP -> * IN NP\n",
      "[3:4] PP -> IN * NP\n",
      "[4:4] NNS -> * 'mice'\n",
      "[4:5] NNS -> 'mice' *\n",
      "[4:4] NP -> * NNS\n",
      "[4:4] NNS -> * NNS CC NNS\n",
      "[4:5] NP -> NNS *\n",
      "[4:5] NNS -> NNS * CC NNS\n",
      "[4:4] S  -> * NP VP\n",
      "[4:4] NP -> * NP CC NP\n",
      "[3:5] PP -> IN NP *\n",
      "[4:5] S  -> NP * VP\n",
      "[4:5] NP -> NP * CC NP\n",
      "[2:5] VP -> VB PP *\n",
      "[1:5] S  -> NP VP *\n",
      "[0:5] S  -> NP VP *\n",
      "\n",
      "\n",
      "Number of edges: 52\n"
     ]
    },
    {
     "data": {
      "image/svg+xml": [
       "<svg baseProfile=\"full\" height=\"264px\" preserveAspectRatio=\"xMidYMid meet\" style=\"font-family: times, serif; font-weight: normal; font-style: normal; font-size: 16px;\" version=\"1.1\" viewBox=\"0,0,240.0,264.0\" width=\"240px\" xmlns=\"http://www.w3.org/2000/svg\" xmlns:ev=\"http://www.w3.org/2001/xml-events\" xmlns:xlink=\"http://www.w3.org/1999/xlink\"><defs /><svg width=\"100%\" x=\"0\" y=\"0px\"><defs /><text text-anchor=\"middle\" x=\"50%\" y=\"16px\">S</text></svg><svg width=\"40%\" x=\"0%\" y=\"48px\"><defs /><svg width=\"100%\" x=\"0\" y=\"0px\"><defs /><text text-anchor=\"middle\" x=\"50%\" y=\"16px\">NP</text></svg><svg width=\"50%\" x=\"0%\" y=\"48px\"><defs /><svg width=\"100%\" x=\"0\" y=\"0px\"><defs /><text text-anchor=\"middle\" x=\"50%\" y=\"16px\">JJ</text></svg><svg width=\"100%\" x=\"0%\" y=\"48px\"><defs /><svg width=\"100%\" x=\"0\" y=\"0px\"><defs /><text text-anchor=\"middle\" x=\"50%\" y=\"16px\">lazy</text></svg></svg><line stroke=\"black\" x1=\"50%\" x2=\"50%\" y1=\"19.2px\" y2=\"48px\" /></svg><line stroke=\"black\" x1=\"50%\" x2=\"25%\" y1=\"19.2px\" y2=\"48px\" /><svg width=\"50%\" x=\"50%\" y=\"48px\"><defs /><svg width=\"100%\" x=\"0\" y=\"0px\"><defs /><text text-anchor=\"middle\" x=\"50%\" y=\"16px\">NNS</text></svg><svg width=\"100%\" x=\"0%\" y=\"48px\"><defs /><svg width=\"100%\" x=\"0\" y=\"0px\"><defs /><text text-anchor=\"middle\" x=\"50%\" y=\"16px\">cats</text></svg></svg><line stroke=\"black\" x1=\"50%\" x2=\"50%\" y1=\"19.2px\" y2=\"48px\" /></svg><line stroke=\"black\" x1=\"50%\" x2=\"75%\" y1=\"19.2px\" y2=\"48px\" /></svg><line stroke=\"black\" x1=\"50%\" x2=\"20%\" y1=\"19.2px\" y2=\"48px\" /><svg width=\"60%\" x=\"40%\" y=\"48px\"><defs /><svg width=\"100%\" x=\"0\" y=\"0px\"><defs /><text text-anchor=\"middle\" x=\"50%\" y=\"16px\">VP</text></svg><svg width=\"33.3333%\" x=\"0%\" y=\"48px\"><defs /><svg width=\"100%\" x=\"0\" y=\"0px\"><defs /><text text-anchor=\"middle\" x=\"50%\" y=\"16px\">VB</text></svg><svg width=\"100%\" x=\"0%\" y=\"48px\"><defs /><svg width=\"100%\" x=\"0\" y=\"0px\"><defs /><text text-anchor=\"middle\" x=\"50%\" y=\"16px\">play</text></svg></svg><line stroke=\"black\" x1=\"50%\" x2=\"50%\" y1=\"19.2px\" y2=\"48px\" /></svg><line stroke=\"black\" x1=\"50%\" x2=\"16.6667%\" y1=\"19.2px\" y2=\"48px\" /><svg width=\"66.6667%\" x=\"33.3333%\" y=\"48px\"><defs /><svg width=\"100%\" x=\"0\" y=\"0px\"><defs /><text text-anchor=\"middle\" x=\"50%\" y=\"16px\">PP</text></svg><svg width=\"50%\" x=\"0%\" y=\"48px\"><defs /><svg width=\"100%\" x=\"0\" y=\"0px\"><defs /><text text-anchor=\"middle\" x=\"50%\" y=\"16px\">IN</text></svg><svg width=\"100%\" x=\"0%\" y=\"48px\"><defs /><svg width=\"100%\" x=\"0\" y=\"0px\"><defs /><text text-anchor=\"middle\" x=\"50%\" y=\"16px\">with</text></svg></svg><line stroke=\"black\" x1=\"50%\" x2=\"50%\" y1=\"19.2px\" y2=\"48px\" /></svg><line stroke=\"black\" x1=\"50%\" x2=\"25%\" y1=\"19.2px\" y2=\"48px\" /><svg width=\"50%\" x=\"50%\" y=\"48px\"><defs /><svg width=\"100%\" x=\"0\" y=\"0px\"><defs /><text text-anchor=\"middle\" x=\"50%\" y=\"16px\">NP</text></svg><svg width=\"100%\" x=\"0%\" y=\"48px\"><defs /><svg width=\"100%\" x=\"0\" y=\"0px\"><defs /><text text-anchor=\"middle\" x=\"50%\" y=\"16px\">NNS</text></svg><svg width=\"100%\" x=\"0%\" y=\"48px\"><defs /><svg width=\"100%\" x=\"0\" y=\"0px\"><defs /><text text-anchor=\"middle\" x=\"50%\" y=\"16px\">mice</text></svg></svg><line stroke=\"black\" x1=\"50%\" x2=\"50%\" y1=\"19.2px\" y2=\"48px\" /></svg><line stroke=\"black\" x1=\"50%\" x2=\"50%\" y1=\"19.2px\" y2=\"48px\" /></svg><line stroke=\"black\" x1=\"50%\" x2=\"75%\" y1=\"19.2px\" y2=\"48px\" /></svg><line stroke=\"black\" x1=\"50%\" x2=\"66.6667%\" y1=\"19.2px\" y2=\"48px\" /></svg><line stroke=\"black\" x1=\"50%\" x2=\"70%\" y1=\"19.2px\" y2=\"48px\" /></svg>"
      ],
      "text/plain": [
       "TreeLayout(Tree('S', [Tree('NP', [Tree('JJ', ['lazy']), Tree('NNS', ['cats'])]), Tree('VP', [Tree('VB', ['play']), Tree('PP', [Tree('IN', ['with']), Tree('NP', [Tree('NNS', ['mice'])])])])]))"
      ]
     },
     "metadata": {},
     "output_type": "display_data"
    },
    {
     "name": "stdout",
     "output_type": "stream",
     "text": [
      "=====================================\n",
      "Parser: BottomUpLeftCornerChartParser\n",
      "=====================================\n",
      "|.  lazy .  cats .  play .  with .  mice .|\n",
      "|[-------]       .       .       .       .| [0:1] 'lazy'\n",
      "|.       [-------]       .       .       .| [1:2] 'cats'\n",
      "|.       .       [-------]       .       .| [2:3] 'play'\n",
      "|.       .       .       [-------]       .| [3:4] 'with'\n",
      "|.       .       .       .       [-------]| [4:5] 'mice'\n",
      "|[-------]       .       .       .       .| [0:1] JJ -> 'lazy' *\n",
      "|[------->       .       .       .       .| [0:1] NP -> JJ * NNS\n",
      "|.       [-------]       .       .       .| [1:2] NNS -> 'cats' *\n",
      "|.       [-------]       .       .       .| [1:2] NP -> NNS *\n",
      "|.       [------->       .       .       .| [1:2] NNS -> NNS * CC NNS\n",
      "|[---------------]       .       .       .| [0:2] NP -> JJ NNS *\n",
      "|[--------------->       .       .       .| [0:2] S  -> NP * VP\n",
      "|[--------------->       .       .       .| [0:2] NP -> NP * CC NP\n",
      "|.       [------->       .       .       .| [1:2] S  -> NP * VP\n",
      "|.       [------->       .       .       .| [1:2] NP -> NP * CC NP\n",
      "|.       .       [-------]       .       .| [2:3] VB -> 'play' *\n",
      "|.       .       [------->       .       .| [2:3] VP -> VB * NP\n",
      "|.       .       [-------]       .       .| [2:3] VP -> VB *\n",
      "|.       .       [------->       .       .| [2:3] VP -> VB * PP\n",
      "|[-----------------------]       .       .| [0:3] S  -> NP VP *\n",
      "|.       [---------------]       .       .| [1:3] S  -> NP VP *\n",
      "|.       .       .       [-------]       .| [3:4] IN -> 'with' *\n",
      "|.       .       .       [------->       .| [3:4] PP -> IN * NP\n",
      "|.       .       .       .       [-------]| [4:5] NNS -> 'mice' *\n",
      "|.       .       .       .       [-------]| [4:5] NP -> NNS *\n",
      "|.       .       .       .       [------->| [4:5] NNS -> NNS * CC NNS\n",
      "|.       .       .       .       [------->| [4:5] S  -> NP * VP\n",
      "|.       .       .       .       [------->| [4:5] NP -> NP * CC NP\n",
      "|.       .       .       [---------------]| [3:5] PP -> IN NP *\n",
      "|.       .       [-----------------------]| [2:5] VP -> VB PP *\n",
      "|[=======================================]| [0:5] S  -> NP VP *\n",
      "|.       [-------------------------------]| [1:5] S  -> NP VP *\n",
      "|.  lazy .  cats .  play .  with .  mice .|\n",
      "|[-------]       .       .       .       .| [0:1] 'lazy'\n",
      "|.       [-------]       .       .       .| [1:2] 'cats'\n",
      "|.       .       [-------]       .       .| [2:3] 'play'\n",
      "|.       .       .       [-------]       .| [3:4] 'with'\n",
      "|.       .       .       .       [-------]| [4:5] 'mice'\n",
      "|[-------]       .       .       .       .| [0:1] JJ -> 'lazy' *\n",
      "|[------->       .       .       .       .| [0:1] NP -> JJ * NNS\n",
      "|.       [-------]       .       .       .| [1:2] NNS -> 'cats' *\n",
      "|.       [-------]       .       .       .| [1:2] NP -> NNS *\n",
      "|.       [------->       .       .       .| [1:2] NNS -> NNS * CC NNS\n",
      "|[---------------]       .       .       .| [0:2] NP -> JJ NNS *\n",
      "|[--------------->       .       .       .| [0:2] S  -> NP * VP\n",
      "|[--------------->       .       .       .| [0:2] NP -> NP * CC NP\n",
      "|.       [------->       .       .       .| [1:2] S  -> NP * VP\n",
      "|.       [------->       .       .       .| [1:2] NP -> NP * CC NP\n",
      "|.       .       [-------]       .       .| [2:3] VB -> 'play' *\n",
      "|.       .       [------->       .       .| [2:3] VP -> VB * NP\n",
      "|.       .       [-------]       .       .| [2:3] VP -> VB *\n",
      "|.       .       [------->       .       .| [2:3] VP -> VB * PP\n",
      "|[-----------------------]       .       .| [0:3] S  -> NP VP *\n",
      "|.       [---------------]       .       .| [1:3] S  -> NP VP *\n",
      "|.       .       .       [-------]       .| [3:4] IN -> 'with' *\n",
      "|.       .       .       [------->       .| [3:4] PP -> IN * NP\n",
      "|.       .       .       .       [-------]| [4:5] NNS -> 'mice' *\n",
      "|.       .       .       .       [-------]| [4:5] NP -> NNS *\n",
      "|.       .       .       .       [------->| [4:5] NNS -> NNS * CC NNS\n",
      "|.       .       .       .       [------->| [4:5] S  -> NP * VP\n",
      "|.       .       .       .       [------->| [4:5] NP -> NP * CC NP\n",
      "|.       .       .       [---------------]| [3:5] PP -> IN NP *\n",
      "|.       .       [-----------------------]| [2:5] VP -> VB PP *\n",
      "|[=======================================]| [0:5] S  -> NP VP *\n",
      "|.       [-------------------------------]| [1:5] S  -> NP VP *\n",
      "\n",
      "\n",
      "Explored Edges:\n",
      "[0:1] 'lazy'\n",
      "[1:2] 'cats'\n",
      "[2:3] 'play'\n",
      "[3:4] 'with'\n",
      "[4:5] 'mice'\n",
      "[0:1] JJ -> 'lazy' *\n",
      "[0:1] NP -> JJ * NNS\n",
      "[1:2] NNS -> 'cats' *\n",
      "[1:2] NP -> NNS *\n",
      "[1:2] NNS -> NNS * CC NNS\n",
      "[0:2] NP -> JJ NNS *\n",
      "[0:2] S  -> NP * VP\n",
      "[0:2] NP -> NP * CC NP\n",
      "[1:2] S  -> NP * VP\n",
      "[1:2] NP -> NP * CC NP\n",
      "[2:3] VB -> 'play' *\n",
      "[2:3] VP -> VB * NP\n",
      "[2:3] VP -> VB *\n",
      "[2:3] VP -> VB * PP\n",
      "[0:3] S  -> NP VP *\n",
      "[1:3] S  -> NP VP *\n",
      "[3:4] IN -> 'with' *\n",
      "[3:4] PP -> IN * NP\n",
      "[4:5] NNS -> 'mice' *\n",
      "[4:5] NP -> NNS *\n",
      "[4:5] NNS -> NNS * CC NNS\n",
      "[4:5] S  -> NP * VP\n",
      "[4:5] NP -> NP * CC NP\n",
      "[3:5] PP -> IN NP *\n",
      "[2:5] VP -> VB PP *\n",
      "[0:5] S  -> NP VP *\n",
      "[1:5] S  -> NP VP *\n",
      "\n",
      "\n",
      "Number of edges: 32\n"
     ]
    },
    {
     "data": {
      "image/svg+xml": [
       "<svg baseProfile=\"full\" height=\"264px\" preserveAspectRatio=\"xMidYMid meet\" style=\"font-family: times, serif; font-weight: normal; font-style: normal; font-size: 16px;\" version=\"1.1\" viewBox=\"0,0,240.0,264.0\" width=\"240px\" xmlns=\"http://www.w3.org/2000/svg\" xmlns:ev=\"http://www.w3.org/2001/xml-events\" xmlns:xlink=\"http://www.w3.org/1999/xlink\"><defs /><svg width=\"100%\" x=\"0\" y=\"0px\"><defs /><text text-anchor=\"middle\" x=\"50%\" y=\"16px\">S</text></svg><svg width=\"40%\" x=\"0%\" y=\"48px\"><defs /><svg width=\"100%\" x=\"0\" y=\"0px\"><defs /><text text-anchor=\"middle\" x=\"50%\" y=\"16px\">NP</text></svg><svg width=\"50%\" x=\"0%\" y=\"48px\"><defs /><svg width=\"100%\" x=\"0\" y=\"0px\"><defs /><text text-anchor=\"middle\" x=\"50%\" y=\"16px\">JJ</text></svg><svg width=\"100%\" x=\"0%\" y=\"48px\"><defs /><svg width=\"100%\" x=\"0\" y=\"0px\"><defs /><text text-anchor=\"middle\" x=\"50%\" y=\"16px\">lazy</text></svg></svg><line stroke=\"black\" x1=\"50%\" x2=\"50%\" y1=\"19.2px\" y2=\"48px\" /></svg><line stroke=\"black\" x1=\"50%\" x2=\"25%\" y1=\"19.2px\" y2=\"48px\" /><svg width=\"50%\" x=\"50%\" y=\"48px\"><defs /><svg width=\"100%\" x=\"0\" y=\"0px\"><defs /><text text-anchor=\"middle\" x=\"50%\" y=\"16px\">NNS</text></svg><svg width=\"100%\" x=\"0%\" y=\"48px\"><defs /><svg width=\"100%\" x=\"0\" y=\"0px\"><defs /><text text-anchor=\"middle\" x=\"50%\" y=\"16px\">cats</text></svg></svg><line stroke=\"black\" x1=\"50%\" x2=\"50%\" y1=\"19.2px\" y2=\"48px\" /></svg><line stroke=\"black\" x1=\"50%\" x2=\"75%\" y1=\"19.2px\" y2=\"48px\" /></svg><line stroke=\"black\" x1=\"50%\" x2=\"20%\" y1=\"19.2px\" y2=\"48px\" /><svg width=\"60%\" x=\"40%\" y=\"48px\"><defs /><svg width=\"100%\" x=\"0\" y=\"0px\"><defs /><text text-anchor=\"middle\" x=\"50%\" y=\"16px\">VP</text></svg><svg width=\"33.3333%\" x=\"0%\" y=\"48px\"><defs /><svg width=\"100%\" x=\"0\" y=\"0px\"><defs /><text text-anchor=\"middle\" x=\"50%\" y=\"16px\">VB</text></svg><svg width=\"100%\" x=\"0%\" y=\"48px\"><defs /><svg width=\"100%\" x=\"0\" y=\"0px\"><defs /><text text-anchor=\"middle\" x=\"50%\" y=\"16px\">play</text></svg></svg><line stroke=\"black\" x1=\"50%\" x2=\"50%\" y1=\"19.2px\" y2=\"48px\" /></svg><line stroke=\"black\" x1=\"50%\" x2=\"16.6667%\" y1=\"19.2px\" y2=\"48px\" /><svg width=\"66.6667%\" x=\"33.3333%\" y=\"48px\"><defs /><svg width=\"100%\" x=\"0\" y=\"0px\"><defs /><text text-anchor=\"middle\" x=\"50%\" y=\"16px\">PP</text></svg><svg width=\"50%\" x=\"0%\" y=\"48px\"><defs /><svg width=\"100%\" x=\"0\" y=\"0px\"><defs /><text text-anchor=\"middle\" x=\"50%\" y=\"16px\">IN</text></svg><svg width=\"100%\" x=\"0%\" y=\"48px\"><defs /><svg width=\"100%\" x=\"0\" y=\"0px\"><defs /><text text-anchor=\"middle\" x=\"50%\" y=\"16px\">with</text></svg></svg><line stroke=\"black\" x1=\"50%\" x2=\"50%\" y1=\"19.2px\" y2=\"48px\" /></svg><line stroke=\"black\" x1=\"50%\" x2=\"25%\" y1=\"19.2px\" y2=\"48px\" /><svg width=\"50%\" x=\"50%\" y=\"48px\"><defs /><svg width=\"100%\" x=\"0\" y=\"0px\"><defs /><text text-anchor=\"middle\" x=\"50%\" y=\"16px\">NP</text></svg><svg width=\"100%\" x=\"0%\" y=\"48px\"><defs /><svg width=\"100%\" x=\"0\" y=\"0px\"><defs /><text text-anchor=\"middle\" x=\"50%\" y=\"16px\">NNS</text></svg><svg width=\"100%\" x=\"0%\" y=\"48px\"><defs /><svg width=\"100%\" x=\"0\" y=\"0px\"><defs /><text text-anchor=\"middle\" x=\"50%\" y=\"16px\">mice</text></svg></svg><line stroke=\"black\" x1=\"50%\" x2=\"50%\" y1=\"19.2px\" y2=\"48px\" /></svg><line stroke=\"black\" x1=\"50%\" x2=\"50%\" y1=\"19.2px\" y2=\"48px\" /></svg><line stroke=\"black\" x1=\"50%\" x2=\"75%\" y1=\"19.2px\" y2=\"48px\" /></svg><line stroke=\"black\" x1=\"50%\" x2=\"66.6667%\" y1=\"19.2px\" y2=\"48px\" /></svg><line stroke=\"black\" x1=\"50%\" x2=\"70%\" y1=\"19.2px\" y2=\"48px\" /></svg>"
      ],
      "text/plain": [
       "TreeLayout(Tree('S', [Tree('NP', [Tree('JJ', ['lazy']), Tree('NNS', ['cats'])]), Tree('VP', [Tree('VB', ['play']), Tree('PP', [Tree('IN', ['with']), Tree('NP', [Tree('NNS', ['mice'])])])])]))"
      ]
     },
     "metadata": {},
     "output_type": "display_data"
    },
    {
     "name": "stdout",
     "output_type": "stream",
     "text": [
      "=====================================\n",
      "Parser: LeftCornerChartParser\n",
      "=====================================\n",
      "|.  lazy .  cats .  play .  with .  mice .|\n",
      "|[-------]       .       .       .       .| [0:1] 'lazy'\n",
      "|.       [-------]       .       .       .| [1:2] 'cats'\n",
      "|.       .       [-------]       .       .| [2:3] 'play'\n",
      "|.       .       .       [-------]       .| [3:4] 'with'\n",
      "|.       .       .       .       [-------]| [4:5] 'mice'\n",
      "|[-------]       .       .       .       .| [0:1] JJ -> 'lazy' *\n",
      "|[------->       .       .       .       .| [0:1] NP -> JJ * NNS\n",
      "|.       [-------]       .       .       .| [1:2] NNS -> 'cats' *\n",
      "|.       [-------]       .       .       .| [1:2] NP -> NNS *\n",
      "|[---------------]       .       .       .| [0:2] NP -> JJ NNS *\n",
      "|[--------------->       .       .       .| [0:2] S  -> NP * VP\n",
      "|.       [------->       .       .       .| [1:2] S  -> NP * VP\n",
      "|.       .       [-------]       .       .| [2:3] VB -> 'play' *\n",
      "|.       .       [-------]       .       .| [2:3] VP -> VB *\n",
      "|.       .       [------->       .       .| [2:3] VP -> VB * PP\n",
      "|[-----------------------]       .       .| [0:3] S  -> NP VP *\n",
      "|.       [---------------]       .       .| [1:3] S  -> NP VP *\n",
      "|.       .       .       [-------]       .| [3:4] IN -> 'with' *\n",
      "|.       .       .       [------->       .| [3:4] PP -> IN * NP\n",
      "|.       .       .       .       [-------]| [4:5] NNS -> 'mice' *\n",
      "|.       .       .       .       [-------]| [4:5] NP -> NNS *\n",
      "|.       .       .       [---------------]| [3:5] PP -> IN NP *\n",
      "|.       .       [-----------------------]| [2:5] VP -> VB PP *\n",
      "|[=======================================]| [0:5] S  -> NP VP *\n",
      "|.       [-------------------------------]| [1:5] S  -> NP VP *\n",
      "|.  lazy .  cats .  play .  with .  mice .|\n",
      "|[-------]       .       .       .       .| [0:1] 'lazy'\n",
      "|.       [-------]       .       .       .| [1:2] 'cats'\n",
      "|.       .       [-------]       .       .| [2:3] 'play'\n",
      "|.       .       .       [-------]       .| [3:4] 'with'\n",
      "|.       .       .       .       [-------]| [4:5] 'mice'\n",
      "|[-------]       .       .       .       .| [0:1] JJ -> 'lazy' *\n",
      "|[------->       .       .       .       .| [0:1] NP -> JJ * NNS\n",
      "|.       [-------]       .       .       .| [1:2] NNS -> 'cats' *\n",
      "|.       [-------]       .       .       .| [1:2] NP -> NNS *\n",
      "|[---------------]       .       .       .| [0:2] NP -> JJ NNS *\n",
      "|[--------------->       .       .       .| [0:2] S  -> NP * VP\n",
      "|.       [------->       .       .       .| [1:2] S  -> NP * VP\n",
      "|.       .       [-------]       .       .| [2:3] VB -> 'play' *\n",
      "|.       .       [-------]       .       .| [2:3] VP -> VB *\n",
      "|.       .       [------->       .       .| [2:3] VP -> VB * PP\n",
      "|[-----------------------]       .       .| [0:3] S  -> NP VP *\n",
      "|.       [---------------]       .       .| [1:3] S  -> NP VP *\n",
      "|.       .       .       [-------]       .| [3:4] IN -> 'with' *\n",
      "|.       .       .       [------->       .| [3:4] PP -> IN * NP\n",
      "|.       .       .       .       [-------]| [4:5] NNS -> 'mice' *\n",
      "|.       .       .       .       [-------]| [4:5] NP -> NNS *\n",
      "|.       .       .       [---------------]| [3:5] PP -> IN NP *\n",
      "|.       .       [-----------------------]| [2:5] VP -> VB PP *\n",
      "|[=======================================]| [0:5] S  -> NP VP *\n",
      "|.       [-------------------------------]| [1:5] S  -> NP VP *\n",
      "\n",
      "\n",
      "Explored Edges:\n",
      "[0:1] 'lazy'\n",
      "[1:2] 'cats'\n",
      "[2:3] 'play'\n",
      "[3:4] 'with'\n",
      "[4:5] 'mice'\n",
      "[0:1] JJ -> 'lazy' *\n",
      "[0:1] NP -> JJ * NNS\n",
      "[1:2] NNS -> 'cats' *\n",
      "[1:2] NP -> NNS *\n",
      "[0:2] NP -> JJ NNS *\n",
      "[0:2] S  -> NP * VP\n",
      "[1:2] S  -> NP * VP\n",
      "[2:3] VB -> 'play' *\n",
      "[2:3] VP -> VB *\n",
      "[2:3] VP -> VB * PP\n",
      "[0:3] S  -> NP VP *\n",
      "[1:3] S  -> NP VP *\n",
      "[3:4] IN -> 'with' *\n",
      "[3:4] PP -> IN * NP\n",
      "[4:5] NNS -> 'mice' *\n",
      "[4:5] NP -> NNS *\n",
      "[3:5] PP -> IN NP *\n",
      "[2:5] VP -> VB PP *\n",
      "[0:5] S  -> NP VP *\n",
      "[1:5] S  -> NP VP *\n",
      "\n",
      "\n",
      "Number of edges: 25\n"
     ]
    },
    {
     "data": {
      "image/svg+xml": [
       "<svg baseProfile=\"full\" height=\"264px\" preserveAspectRatio=\"xMidYMid meet\" style=\"font-family: times, serif; font-weight: normal; font-style: normal; font-size: 16px;\" version=\"1.1\" viewBox=\"0,0,240.0,264.0\" width=\"240px\" xmlns=\"http://www.w3.org/2000/svg\" xmlns:ev=\"http://www.w3.org/2001/xml-events\" xmlns:xlink=\"http://www.w3.org/1999/xlink\"><defs /><svg width=\"100%\" x=\"0\" y=\"0px\"><defs /><text text-anchor=\"middle\" x=\"50%\" y=\"16px\">S</text></svg><svg width=\"40%\" x=\"0%\" y=\"48px\"><defs /><svg width=\"100%\" x=\"0\" y=\"0px\"><defs /><text text-anchor=\"middle\" x=\"50%\" y=\"16px\">NP</text></svg><svg width=\"50%\" x=\"0%\" y=\"48px\"><defs /><svg width=\"100%\" x=\"0\" y=\"0px\"><defs /><text text-anchor=\"middle\" x=\"50%\" y=\"16px\">JJ</text></svg><svg width=\"100%\" x=\"0%\" y=\"48px\"><defs /><svg width=\"100%\" x=\"0\" y=\"0px\"><defs /><text text-anchor=\"middle\" x=\"50%\" y=\"16px\">lazy</text></svg></svg><line stroke=\"black\" x1=\"50%\" x2=\"50%\" y1=\"19.2px\" y2=\"48px\" /></svg><line stroke=\"black\" x1=\"50%\" x2=\"25%\" y1=\"19.2px\" y2=\"48px\" /><svg width=\"50%\" x=\"50%\" y=\"48px\"><defs /><svg width=\"100%\" x=\"0\" y=\"0px\"><defs /><text text-anchor=\"middle\" x=\"50%\" y=\"16px\">NNS</text></svg><svg width=\"100%\" x=\"0%\" y=\"48px\"><defs /><svg width=\"100%\" x=\"0\" y=\"0px\"><defs /><text text-anchor=\"middle\" x=\"50%\" y=\"16px\">cats</text></svg></svg><line stroke=\"black\" x1=\"50%\" x2=\"50%\" y1=\"19.2px\" y2=\"48px\" /></svg><line stroke=\"black\" x1=\"50%\" x2=\"75%\" y1=\"19.2px\" y2=\"48px\" /></svg><line stroke=\"black\" x1=\"50%\" x2=\"20%\" y1=\"19.2px\" y2=\"48px\" /><svg width=\"60%\" x=\"40%\" y=\"48px\"><defs /><svg width=\"100%\" x=\"0\" y=\"0px\"><defs /><text text-anchor=\"middle\" x=\"50%\" y=\"16px\">VP</text></svg><svg width=\"33.3333%\" x=\"0%\" y=\"48px\"><defs /><svg width=\"100%\" x=\"0\" y=\"0px\"><defs /><text text-anchor=\"middle\" x=\"50%\" y=\"16px\">VB</text></svg><svg width=\"100%\" x=\"0%\" y=\"48px\"><defs /><svg width=\"100%\" x=\"0\" y=\"0px\"><defs /><text text-anchor=\"middle\" x=\"50%\" y=\"16px\">play</text></svg></svg><line stroke=\"black\" x1=\"50%\" x2=\"50%\" y1=\"19.2px\" y2=\"48px\" /></svg><line stroke=\"black\" x1=\"50%\" x2=\"16.6667%\" y1=\"19.2px\" y2=\"48px\" /><svg width=\"66.6667%\" x=\"33.3333%\" y=\"48px\"><defs /><svg width=\"100%\" x=\"0\" y=\"0px\"><defs /><text text-anchor=\"middle\" x=\"50%\" y=\"16px\">PP</text></svg><svg width=\"50%\" x=\"0%\" y=\"48px\"><defs /><svg width=\"100%\" x=\"0\" y=\"0px\"><defs /><text text-anchor=\"middle\" x=\"50%\" y=\"16px\">IN</text></svg><svg width=\"100%\" x=\"0%\" y=\"48px\"><defs /><svg width=\"100%\" x=\"0\" y=\"0px\"><defs /><text text-anchor=\"middle\" x=\"50%\" y=\"16px\">with</text></svg></svg><line stroke=\"black\" x1=\"50%\" x2=\"50%\" y1=\"19.2px\" y2=\"48px\" /></svg><line stroke=\"black\" x1=\"50%\" x2=\"25%\" y1=\"19.2px\" y2=\"48px\" /><svg width=\"50%\" x=\"50%\" y=\"48px\"><defs /><svg width=\"100%\" x=\"0\" y=\"0px\"><defs /><text text-anchor=\"middle\" x=\"50%\" y=\"16px\">NP</text></svg><svg width=\"100%\" x=\"0%\" y=\"48px\"><defs /><svg width=\"100%\" x=\"0\" y=\"0px\"><defs /><text text-anchor=\"middle\" x=\"50%\" y=\"16px\">NNS</text></svg><svg width=\"100%\" x=\"0%\" y=\"48px\"><defs /><svg width=\"100%\" x=\"0\" y=\"0px\"><defs /><text text-anchor=\"middle\" x=\"50%\" y=\"16px\">mice</text></svg></svg><line stroke=\"black\" x1=\"50%\" x2=\"50%\" y1=\"19.2px\" y2=\"48px\" /></svg><line stroke=\"black\" x1=\"50%\" x2=\"50%\" y1=\"19.2px\" y2=\"48px\" /></svg><line stroke=\"black\" x1=\"50%\" x2=\"75%\" y1=\"19.2px\" y2=\"48px\" /></svg><line stroke=\"black\" x1=\"50%\" x2=\"66.6667%\" y1=\"19.2px\" y2=\"48px\" /></svg><line stroke=\"black\" x1=\"50%\" x2=\"70%\" y1=\"19.2px\" y2=\"48px\" /></svg>"
      ],
      "text/plain": [
       "TreeLayout(Tree('S', [Tree('NP', [Tree('JJ', ['lazy']), Tree('NNS', ['cats'])]), Tree('VP', [Tree('VB', ['play']), Tree('PP', [Tree('IN', ['with']), Tree('NP', [Tree('NNS', ['mice'])])])])]))"
      ]
     },
     "metadata": {},
     "output_type": "display_data"
    },
    {
     "data": {
      "text/html": [
       "<div>\n",
       "<style scoped>\n",
       "    .dataframe tbody tr th:only-of-type {\n",
       "        vertical-align: middle;\n",
       "    }\n",
       "\n",
       "    .dataframe tbody tr th {\n",
       "        vertical-align: top;\n",
       "    }\n",
       "\n",
       "    .dataframe thead th {\n",
       "        text-align: right;\n",
       "    }\n",
       "</style>\n",
       "<table border=\"1\" class=\"dataframe\">\n",
       "  <thead>\n",
       "    <tr style=\"text-align: right;\">\n",
       "      <th></th>\n",
       "      <th>Parser</th>\n",
       "      <th>N_Edges</th>\n",
       "      <th>Explored_Edges</th>\n",
       "      <th>Trees</th>\n",
       "    </tr>\n",
       "  </thead>\n",
       "  <tbody>\n",
       "    <tr>\n",
       "      <th>0</th>\n",
       "      <td>BottomUpChartParser</td>\n",
       "      <td>52</td>\n",
       "      <td>[[Edge: [0:1] 'lazy'], [Edge: [1:2] 'cats'], [...</td>\n",
       "      <td>1</td>\n",
       "    </tr>\n",
       "    <tr>\n",
       "      <th>1</th>\n",
       "      <td>BottomUpLeftCornerChartParser</td>\n",
       "      <td>32</td>\n",
       "      <td>[[Edge: [0:1] 'lazy'], [Edge: [1:2] 'cats'], [...</td>\n",
       "      <td>1</td>\n",
       "    </tr>\n",
       "    <tr>\n",
       "      <th>2</th>\n",
       "      <td>LeftCornerChartParser</td>\n",
       "      <td>25</td>\n",
       "      <td>[[Edge: [0:1] 'lazy'], [Edge: [1:2] 'cats'], [...</td>\n",
       "      <td>1</td>\n",
       "    </tr>\n",
       "  </tbody>\n",
       "</table>\n",
       "</div>"
      ],
      "text/plain": [
       "                          Parser  N_Edges  \\\n",
       "0            BottomUpChartParser       52   \n",
       "1  BottomUpLeftCornerChartParser       32   \n",
       "2          LeftCornerChartParser       25   \n",
       "\n",
       "                                      Explored_Edges  Trees  \n",
       "0  [[Edge: [0:1] 'lazy'], [Edge: [1:2] 'cats'], [...      1  \n",
       "1  [[Edge: [0:1] 'lazy'], [Edge: [1:2] 'cats'], [...      1  \n",
       "2  [[Edge: [0:1] 'lazy'], [Edge: [1:2] 'cats'], [...      1  "
      ]
     },
     "execution_count": 64,
     "metadata": {},
     "output_type": "execute_result"
    }
   ],
   "source": [
    "ls_parsers = [nltk.BottomUpChartParser, \n",
    "              nltk.BottomUpLeftCornerChartParser, \n",
    "              nltk.LeftCornerChartParser]\n",
    "\n",
    "import pandas as pd\n",
    "df_results = pd.DataFrame()\n",
    "for parser in ls_parsers:\n",
    "\n",
    "    name = parser.__name__\n",
    "\n",
    "    print(\"=====================================\")\n",
    "    print(\"Parser:\", name)\n",
    "    print(\"=====================================\")\n",
    "\n",
    "    tokens = nltk.word_tokenize(sentence.lower())\n",
    "\n",
    "    # Apply the parser\n",
    "    bu_pa = parser(grammar, trace=1)\n",
    "\n",
    "    # Extract the explored edges and trees\n",
    "    chart = bu_pa.chart_parse(tokens)\n",
    "    trees = bu_pa.parse_all(tokens)\n",
    "\n",
    "    # SHow the explored edges\n",
    "    print(\"\\n\\nExplored Edges:\")\n",
    "    for edge in chart.edges():\n",
    "        print(edge)\n",
    "\n",
    "    print(\"\\n\\nNumber of edges:\", chart.num_edges())\n",
    "\n",
    "    # Display the trees\n",
    "    ts = []\n",
    "    for t in trees:\n",
    "        ts.append(t)\n",
    "        display(svgling.draw_tree(t))\n",
    "\n",
    "    # Save the results\n",
    "    df_i = pd.DataFrame({\"Parser\": [name], \n",
    "                            \"N_Edges\": chart.num_edges(),\n",
    "                            \"Explored_Edges\": str(chart.edges()),\n",
    "                            \"Trees\": len(ts)})\n",
    "    \n",
    "    df_results = pd.concat([df_results, df_i], axis=0, ignore_index=True)\n",
    "\n",
    "df_results"
   ]
  },
  {
   "cell_type": "markdown",
   "metadata": {},
   "source": [
    "## Most Efficient Parser"
   ]
  },
  {
   "cell_type": "markdown",
   "metadata": {},
   "source": [
    "**Answer**: Based on the provided statistics, the `LeftCornerChartParser` has the lowest number of edges and explored edges, making it potentially the most efficient parser for this specific sentence."
   ]
  },
  {
   "cell_type": "markdown",
   "metadata": {},
   "source": [
    "## Filtered Edges"
   ]
  },
  {
   "cell_type": "markdown",
   "metadata": {},
   "source": [
    "The differences between the `BottomUpChartParser`, `BottomUpLeftCornerChartParser`, and `LeftCornerChartParser` lie in their parsing strategies, particularly in how they build parse trees and explore the search space during the parsing process.\n",
    "\n",
    "1. **BottomUpChartParser:**\n",
    "   - **Parsing Strategy:** This parser follows a bottom-up parsing strategy. It starts by identifying the individual words in the input and then gradually builds up larger syntactic structures until it reaches the complete parse tree.\n",
    "   - **Edge Generation:** The parser generates edges representing partially parsed subtrees and incrementally combines them until a full parse tree is constructed.\n",
    "   - **Search Space Exploration:** It explores the search space by considering possible combinations of grammar rules in a bottom-up fashion.\n",
    "\n",
    "2. **BottomUpLeftCornerChartParser:**\n",
    "   - **Parsing Strategy:** This parser is an extension of the `BottomUpChartParser` with a left-corner parsing strategy. Left-corner parsing involves looking for specific combinations of leftmost constituents in the grammar rules.\n",
    "   - **Edge Generation:** It still follows a bottom-up approach but incorporates left-corner information, allowing it to make more informed decisions about which edges to explore.\n",
    "   - **Search Space Exploration:** The left-corner strategy involves considering both the bottom-up construction of subtrees and the leftmost constituents, potentially leading to more efficient parsing.\n",
    "\n",
    "3. **LeftCornerChartParser:**\n",
    "   - **Parsing Strategy:** This parser employs a left-corner parsing strategy from the outset. It focuses on identifying leftmost constituents and uses this information to guide the parsing process.\n",
    "   - **Edge Generation:** Unlike the `BottomUpChartParser`, this parser starts with left-corner information, generating edges based on leftmost constituents and building the parse tree accordingly.\n",
    "   - **Search Space Exploration:** The left-corner strategy is used throughout the parsing process, potentially allowing for more efficient exploration of the search space by prioritizing left-corner combinations."
   ]
  },
  {
   "cell_type": "code",
   "execution_count": 74,
   "metadata": {},
   "outputs": [
    {
     "name": "stdout",
     "output_type": "stream",
     "text": [
      "Edges explored by BottomUpChartParser but not by BottomUpLeftCornerChartParser:\n"
     ]
    },
    {
     "data": {
      "text/plain": [
       "[\"[Edge: [0:0] JJ -> * 'lazy']\",\n",
       " '[Edge: [0:0] NP -> * JJ NNS]',\n",
       " \"[Edge: [1:1] NNS -> * 'cats']\",\n",
       " '[Edge: [1:1] NP -> * NNS]',\n",
       " '[Edge: [1:1] NNS -> * NNS CC NNS]',\n",
       " '[Edge: [1:1] S  -> * NP VP]',\n",
       " '[Edge: [1:1] NP -> * NP CC NP]',\n",
       " '[Edge: [0:0] S  -> * NP VP]',\n",
       " '[Edge: [0:0] NP -> * NP CC NP]',\n",
       " \"[Edge: [2:2] VB -> * 'play']\",\n",
       " '[Edge: [2:2] VP -> * VB NP]',\n",
       " '[Edge: [2:2] VP -> * VB]',\n",
       " '[Edge: [2:2] VP -> * VB PP]',\n",
       " \"[Edge: [3:3] IN -> * 'with']\",\n",
       " '[Edge: [3:3] PP -> * IN NP]',\n",
       " \"[Edge: [4:4] NNS -> * 'mice']\",\n",
       " '[Edge: [4:4] NP -> * NNS]',\n",
       " '[Edge: [4:4] NNS -> * NNS CC NNS]',\n",
       " '[Edge: [4:4] S  -> * NP VP]',\n",
       " '[Edge: [4:4] NP -> * NP CC NP]']"
      ]
     },
     "execution_count": 74,
     "metadata": {},
     "output_type": "execute_result"
    }
   ],
   "source": [
    "ls_explored_bu = df_results.loc[df_results[\"Parser\"] == \"BottomUpChartParser\", \"Explored_Edges\"]\n",
    "ls_explored_bu = ls_explored_bu.values[0]\n",
    "ls_explored_bu = ls_explored_bu.replace(\"[[\", \"[\").replace(\"]]\", \"]\").split(\", \")\n",
    "\n",
    "ls_explored_blu = df_results.loc[df_results[\"Parser\"] == \"BottomUpLeftCornerChartParser\", \"Explored_Edges\"]\n",
    "ls_explored_blu = ls_explored_blu.values[0]\n",
    "ls_explored_blu = ls_explored_blu.replace(\"[[\", \"[\").replace(\"]]\", \"]\").split(\", \")\n",
    "\n",
    "ls_explored_left = df_results.loc[df_results[\"Parser\"] == \"LeftCornerChartParser\", \"Explored_Edges\"]\n",
    "ls_explored_left = ls_explored_left.values[0]\n",
    "ls_explored_left = ls_explored_left.replace(\"[[\", \"[\").replace(\"]]\", \"]\").split(\", \")\n",
    "\n",
    "print(\"Edges explored by BottomUpChartParser but not by BottomUpLeftCornerChartParser:\")\n",
    "[x for x in ls_explored_bu if x not in ls_explored_blu]"
   ]
  },
  {
   "cell_type": "code",
   "execution_count": 76,
   "metadata": {},
   "outputs": [
    {
     "name": "stdout",
     "output_type": "stream",
     "text": [
      "Edges explored by BottomUpLeftCornerChartParser but not by LeftCornerChartParser:\n"
     ]
    },
    {
     "data": {
      "text/plain": [
       "['[Edge: [1:2] NNS -> NNS * CC NNS]',\n",
       " '[Edge: [0:2] NP -> NP * CC NP]',\n",
       " '[Edge: [1:2] NP -> NP * CC NP]',\n",
       " '[Edge: [2:3] VP -> VB * NP]',\n",
       " '[Edge: [4:5] NNS -> NNS * CC NNS]',\n",
       " '[Edge: [4:5] S  -> NP * VP]',\n",
       " '[Edge: [4:5] NP -> NP * CC NP]']"
      ]
     },
     "execution_count": 76,
     "metadata": {},
     "output_type": "execute_result"
    }
   ],
   "source": [
    "print(\"Edges explored by BottomUpLeftCornerChartParser but not by LeftCornerChartParser:\")\n",
    "[x for x in ls_explored_blu if x not in ls_explored_left]"
   ]
  },
  {
   "cell_type": "markdown",
   "metadata": {},
   "source": [
    "As it was shown in the previous table, the `BottomUpLeftCornerChartParser` explores 20 edges less than the `BottomUpChartParser` and `LeftCornerChartParser` explores 7 less than `BottomUpLeftCornerChartParser`. This is because the `BottomUpLeftCornerChartParser` filters out the edges that are not in the left-corner of the grammar."
   ]
  }
 ],
 "metadata": {
  "kernelspec": {
   "display_name": ".venv",
   "language": "python",
   "name": "python3"
  },
  "language_info": {
   "codemirror_mode": {
    "name": "ipython",
    "version": 3
   },
   "file_extension": ".py",
   "mimetype": "text/x-python",
   "name": "python",
   "nbconvert_exporter": "python",
   "pygments_lexer": "ipython3",
   "version": "3.10.12"
  }
 },
 "nbformat": 4,
 "nbformat_minor": 2
}
